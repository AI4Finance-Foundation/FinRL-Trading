{
 "cells": [
  {
   "cell_type": "markdown",
   "metadata": {},
   "source": [
    "# Single Stock"
   ]
  },
  {
   "cell_type": "markdown",
   "metadata": {},
   "source": [
    "### Github Package\n",
    "* https://github.com/hill-a/stable-baselines\n",
    "* https://github.com/openai/gym\n",
    "* https://github.com/jealous/stockstats"
   ]
  },
  {
   "cell_type": "code",
   "execution_count": 3,
   "metadata": {
    "collapsed": true,
    "scrolled": true
   },
   "outputs": [],
   "source": [
    "# !pip install stable-baselines\n",
    "# !pip install gym\n",
    "# !pip install stockstats"
   ]
  },
  {
   "cell_type": "code",
   "execution_count": 1,
   "metadata": {
    "collapsed": true,
    "scrolled": true
   },
   "outputs": [],
   "source": [
    "import warnings\n",
    "import sys\n",
    "\n",
    "if not sys.warnoptions:\n",
    "    warnings.simplefilter(\"ignore\")\n",
    "import gym\n",
    "\n",
    "from stable_baselines import SAC\n",
    "from stable_baselines import PPO2\n",
    "from stable_baselines import A2C\n",
    "from stable_baselines import DDPG\n",
    "from stable_baselines import TD3\n",
    "from stable_baselines.ddpg.policies import DDPGPolicy\n",
    "from stable_baselines.common.policies import MlpPolicy\n",
    "from stable_baselines.common.noise import NormalActionNoise, OrnsteinUhlenbeckActionNoise, AdaptiveParamNoiseSpec\n",
    "from stable_baselines.common.vec_env import DummyVecEnv\n",
    "from env.StockTradingRLEnvSingleStock import StockEnv\n",
    "\n",
    "#import json\n",
    "#import datetime as dt\n",
    "import pandas as pd\n",
    "import numpy as np\n",
    "import time\n",
    "\n",
    "from stockstats import StockDataFrame as Sdf\n",
    "from sklearn import preprocessing\n",
    "#import pickle"
   ]
  },
  {
   "cell_type": "code",
   "execution_count": 19,
   "metadata": {
    "collapsed": true,
    "scrolled": true
   },
   "outputs": [],
   "source": [
    "from matplotlib import pyplot as plt\n",
    "%matplotlib inline"
   ]
  },
  {
   "cell_type": "code",
   "execution_count": 3,
   "metadata": {
    "collapsed": true,
    "scrolled": true
   },
   "outputs": [],
   "source": [
    "# edit environment\n",
    "import env.StockTradingRLEnvSingleStock\n",
    "from importlib import reload\n",
    "\n",
    "reload(env.StockTradingRLEnvSingleStock)\n",
    "from env.StockTradingRLEnvSingleStock import StockEnv"
   ]
  },
  {
   "cell_type": "markdown",
   "metadata": {},
   "source": [
    "## Data Preprocessing"
   ]
  },
  {
   "cell_type": "code",
   "execution_count": 4,
   "metadata": {
    "collapsed": true,
    "scrolled": true
   },
   "outputs": [],
   "source": [
    "# import file path\n",
    "filename = 'data/wrds_etf_2020.csv'"
   ]
  },
  {
   "cell_type": "code",
   "execution_count": 5,
   "metadata": {
    "collapsed": true,
    "scrolled": true
   },
   "outputs": [],
   "source": [
    "choose_stock = ['SPY','QQQ','DIA']"
   ]
  },
  {
   "cell_type": "code",
   "execution_count": 6,
   "metadata": {
    "collapsed": true,
    "scrolled": true
   },
   "outputs": [],
   "source": [
    "def preprocess_data(filename, choose_stock):\n",
    "    df_2020 = pd.read_csv(filename)\n",
    "    # only take the columns we want\n",
    "    df_2020=df_2020[['datadate','tic','prccd','ajexdi','prcod','prchd','prcld','cshtrd']]\n",
    "    # filter stocks\n",
    "    #choose_stock = ['SPY','QQQ','DIA']\n",
    "    df_2020_2 = df_2020[df_2020.tic.isin(choose_stock)]\n",
    "    # check if all the stocks have the same data length (very important)\n",
    "    df_2020_2[df_2020_2.datadate>=20090000].tic.value_counts()\n",
    "    df_2020_3 = df_2020_2[df_2020_2.datadate>=20090000]\n",
    "    def calcualte_price(df):\n",
    "        \"\"\"\n",
    "        calcualte adjusted close price, open-high-low price and volume\n",
    "        :param data: (df) pandas dataframe\n",
    "        :return: (df) pandas dataframe\n",
    "        \"\"\"\n",
    "        data_3=df.copy()\n",
    "        data_3 = data_3[['datadate','tic','prccd','ajexdi','prcod','prchd','prcld','cshtrd']]\n",
    "        data_3['ajexdi']=data_3['ajexdi'].apply(lambda x: 1 if x==0 else x)\n",
    "\n",
    "        data_3['adjcp'] = data_3['prccd'] / data_3['ajexdi']\n",
    "        data_3['open'] = data_3['prcod'] / data_3['ajexdi']\n",
    "        data_3['high'] = data_3['prchd'] / data_3['ajexdi']\n",
    "        data_3['low'] = data_3['prcld'] / data_3['ajexdi']\n",
    "        data_3['volume'] = data_3['cshtrd'] \n",
    "\n",
    "        data_3=data_3[['datadate','tic','adjcp','open','high','low','volume']]\n",
    "        data_3 = data_3.sort_values(['tic','datadate'],ignore_index=True)\n",
    "        return data_3\n",
    "    df_preprocess = calcualte_price(df_2020_3)\n",
    "\n",
    "    def add_technical_indicator(df):\n",
    "        \"\"\"\n",
    "        calcualte technical indicators\n",
    "        :param data: (df) pandas dataframe\n",
    "        :return: (df) pandas dataframe\n",
    "        \"\"\"\n",
    "        stock = Sdf.retype(df.copy())\n",
    "\n",
    "        stock['close'] = stock['adjcp']\n",
    "        unique_ticker = stock.tic.unique()\n",
    "\n",
    "        macd = pd.DataFrame()\n",
    "        rsi = pd.DataFrame()\n",
    "        cci = pd.DataFrame()\n",
    "        dx = pd.DataFrame()\n",
    "\n",
    "        #temp = stock[stock.tic == unique_ticker[0]]['macd']\n",
    "        for i in range(len(unique_ticker)):\n",
    "            ## macd\n",
    "            temp_macd = stock[stock.tic == unique_ticker[i]]['macd']\n",
    "            temp_macd = pd.DataFrame(temp_macd)\n",
    "            macd = macd.append(temp_macd,ignore_index=True)\n",
    "            ## rsi\n",
    "            temp_rsi = stock[stock.tic == unique_ticker[i]]['rsi_30']\n",
    "            temp_rsi = pd.DataFrame(temp_rsi)\n",
    "            rsi = rsi.append(temp_rsi,ignore_index=True)     \n",
    "            ## cci\n",
    "            temp_cci = stock[stock.tic == unique_ticker[i]]['cci_30']\n",
    "            temp_cci = pd.DataFrame(temp_cci)\n",
    "            cci = cci.append(temp_cci,ignore_index=True)        \n",
    "            ## adx\n",
    "            temp_dx = stock[stock.tic == unique_ticker[i]]['dx_30']\n",
    "            temp_dx = pd.DataFrame(temp_dx)\n",
    "            dx = dx.append(temp_dx,ignore_index=True)        \n",
    "\n",
    "\n",
    "        df['macd'] = macd\n",
    "        df['rsi'] = rsi    \n",
    "        df['cci'] = cci        \n",
    "        df['adx'] = dx        \n",
    "\n",
    "        return df\n",
    "    df_final=add_technical_indicator(df_preprocess)\n",
    "    df_final.fillna(method='bfill',inplace=True)\n",
    "    return df_final"
   ]
  },
  {
   "cell_type": "code",
   "execution_count": 7,
   "metadata": {
    "collapsed": true,
    "scrolled": true
   },
   "outputs": [
    {
     "name": "stderr",
     "output_type": "stream",
     "text": [
      "NOTE: Behavior of MACDH calculation has changed as of July 2017 - it is now 1/2 of previous calculated values\n",
      "NOTE: Behavior of MACDH calculation has changed as of July 2017 - it is now 1/2 of previous calculated values\n",
      "NOTE: Behavior of MACDH calculation has changed as of July 2017 - it is now 1/2 of previous calculated values\n"
     ]
    }
   ],
   "source": [
    "df_final = preprocess_data(filename, choose_stock)"
   ]
  },
  {
   "cell_type": "code",
   "execution_count": 8,
   "metadata": {
    "collapsed": true,
    "scrolled": true
   },
   "outputs": [
    {
     "name": "stderr",
     "output_type": "stream",
     "text": [
      "NOTE: Behavior of MACDH calculation has changed as of July 2017 - it is now 1/2 of previous calculated values\n"
     ]
    }
   ],
   "source": [
    "df_final_tvix = preprocess_data(filename, ['TVIX'])"
   ]
  },
  {
   "cell_type": "code",
   "execution_count": 9,
   "metadata": {
    "collapsed": true,
    "scrolled": true
   },
   "outputs": [
    {
     "data": {
      "text/html": [
       "<div>\n",
       "<style scoped>\n",
       "    .dataframe tbody tr th:only-of-type {\n",
       "        vertical-align: middle;\n",
       "    }\n",
       "\n",
       "    .dataframe tbody tr th {\n",
       "        vertical-align: top;\n",
       "    }\n",
       "\n",
       "    .dataframe thead th {\n",
       "        text-align: right;\n",
       "    }\n",
       "</style>\n",
       "<table border=\"1\" class=\"dataframe\">\n",
       "  <thead>\n",
       "    <tr style=\"text-align: right;\">\n",
       "      <th></th>\n",
       "      <th>datadate</th>\n",
       "      <th>tic</th>\n",
       "      <th>adjcp</th>\n",
       "      <th>open</th>\n",
       "      <th>high</th>\n",
       "      <th>low</th>\n",
       "      <th>volume</th>\n",
       "      <th>macd</th>\n",
       "      <th>rsi</th>\n",
       "      <th>cci</th>\n",
       "      <th>adx</th>\n",
       "    </tr>\n",
       "  </thead>\n",
       "  <tbody>\n",
       "    <tr>\n",
       "      <th>0</th>\n",
       "      <td>20090102</td>\n",
       "      <td>DIA</td>\n",
       "      <td>90.20</td>\n",
       "      <td>87.95</td>\n",
       "      <td>90.62</td>\n",
       "      <td>87.57</td>\n",
       "      <td>24563770.0</td>\n",
       "      <td>0.000000</td>\n",
       "      <td>0.000000</td>\n",
       "      <td>66.666667</td>\n",
       "      <td>100.000000</td>\n",
       "    </tr>\n",
       "    <tr>\n",
       "      <th>1</th>\n",
       "      <td>20090105</td>\n",
       "      <td>DIA</td>\n",
       "      <td>89.70</td>\n",
       "      <td>89.87</td>\n",
       "      <td>90.33</td>\n",
       "      <td>88.87</td>\n",
       "      <td>25611230.0</td>\n",
       "      <td>-0.011218</td>\n",
       "      <td>0.000000</td>\n",
       "      <td>66.666667</td>\n",
       "      <td>100.000000</td>\n",
       "    </tr>\n",
       "    <tr>\n",
       "      <th>2</th>\n",
       "      <td>20090106</td>\n",
       "      <td>DIA</td>\n",
       "      <td>90.15</td>\n",
       "      <td>90.18</td>\n",
       "      <td>90.90</td>\n",
       "      <td>89.38</td>\n",
       "      <td>37258790.0</td>\n",
       "      <td>-0.000339</td>\n",
       "      <td>48.214286</td>\n",
       "      <td>100.000000</td>\n",
       "      <td>100.000000</td>\n",
       "    </tr>\n",
       "    <tr>\n",
       "      <th>3</th>\n",
       "      <td>20090107</td>\n",
       "      <td>DIA</td>\n",
       "      <td>87.86</td>\n",
       "      <td>88.88</td>\n",
       "      <td>89.18</td>\n",
       "      <td>87.23</td>\n",
       "      <td>33164670.0</td>\n",
       "      <td>-0.078063</td>\n",
       "      <td>13.626871</td>\n",
       "      <td>-133.333333</td>\n",
       "      <td>60.254869</td>\n",
       "    </tr>\n",
       "    <tr>\n",
       "      <th>4</th>\n",
       "      <td>20090108</td>\n",
       "      <td>DIA</td>\n",
       "      <td>87.43</td>\n",
       "      <td>87.07</td>\n",
       "      <td>87.57</td>\n",
       "      <td>86.55</td>\n",
       "      <td>23640660.0</td>\n",
       "      <td>-0.135764</td>\n",
       "      <td>11.960243</td>\n",
       "      <td>-113.173600</td>\n",
       "      <td>68.726881</td>\n",
       "    </tr>\n",
       "  </tbody>\n",
       "</table>\n",
       "</div>"
      ],
      "text/plain": [
       "   datadate  tic  adjcp   open   high    low      volume      macd        rsi  \\\n",
       "0  20090102  DIA  90.20  87.95  90.62  87.57  24563770.0  0.000000   0.000000   \n",
       "1  20090105  DIA  89.70  89.87  90.33  88.87  25611230.0 -0.011218   0.000000   \n",
       "2  20090106  DIA  90.15  90.18  90.90  89.38  37258790.0 -0.000339  48.214286   \n",
       "3  20090107  DIA  87.86  88.88  89.18  87.23  33164670.0 -0.078063  13.626871   \n",
       "4  20090108  DIA  87.43  87.07  87.57  86.55  23640660.0 -0.135764  11.960243   \n",
       "\n",
       "          cci         adx  \n",
       "0   66.666667  100.000000  \n",
       "1   66.666667  100.000000  \n",
       "2  100.000000  100.000000  \n",
       "3 -133.333333   60.254869  \n",
       "4 -113.173600   68.726881  "
      ]
     },
     "execution_count": 9,
     "metadata": {},
     "output_type": "execute_result"
    }
   ],
   "source": [
    "df_final.head()"
   ]
  },
  {
   "cell_type": "code",
   "execution_count": 10,
   "metadata": {
    "collapsed": true,
    "scrolled": true
   },
   "outputs": [],
   "source": [
    "unique_date = df_final.datadate.unique()"
   ]
  },
  {
   "cell_type": "code",
   "execution_count": 11,
   "metadata": {
    "collapsed": true,
    "scrolled": true
   },
   "outputs": [
    {
     "data": {
      "text/plain": [
       "2886"
      ]
     },
     "execution_count": 11,
     "metadata": {},
     "output_type": "execute_result"
    }
   ],
   "source": [
    "len(unique_date)"
   ]
  },
  {
   "cell_type": "code",
   "execution_count": 12,
   "metadata": {
    "collapsed": true,
    "scrolled": true
   },
   "outputs": [
    {
     "data": {
      "text/html": [
       "<div>\n",
       "<style scoped>\n",
       "    .dataframe tbody tr th:only-of-type {\n",
       "        vertical-align: middle;\n",
       "    }\n",
       "\n",
       "    .dataframe tbody tr th {\n",
       "        vertical-align: top;\n",
       "    }\n",
       "\n",
       "    .dataframe thead th {\n",
       "        text-align: right;\n",
       "    }\n",
       "</style>\n",
       "<table border=\"1\" class=\"dataframe\">\n",
       "  <thead>\n",
       "    <tr style=\"text-align: right;\">\n",
       "      <th></th>\n",
       "      <th>datadate</th>\n",
       "      <th>tic</th>\n",
       "      <th>adjcp</th>\n",
       "      <th>open</th>\n",
       "      <th>high</th>\n",
       "      <th>low</th>\n",
       "      <th>volume</th>\n",
       "      <th>macd</th>\n",
       "      <th>rsi</th>\n",
       "      <th>cci</th>\n",
       "      <th>adx</th>\n",
       "    </tr>\n",
       "  </thead>\n",
       "  <tbody>\n",
       "    <tr>\n",
       "      <th>0</th>\n",
       "      <td>20090102</td>\n",
       "      <td>DIA</td>\n",
       "      <td>90.20</td>\n",
       "      <td>87.95</td>\n",
       "      <td>90.62</td>\n",
       "      <td>87.57</td>\n",
       "      <td>24563770.0</td>\n",
       "      <td>0.000000</td>\n",
       "      <td>0.000000</td>\n",
       "      <td>66.666667</td>\n",
       "      <td>100.000000</td>\n",
       "    </tr>\n",
       "    <tr>\n",
       "      <th>1</th>\n",
       "      <td>20090105</td>\n",
       "      <td>DIA</td>\n",
       "      <td>89.70</td>\n",
       "      <td>89.87</td>\n",
       "      <td>90.33</td>\n",
       "      <td>88.87</td>\n",
       "      <td>25611230.0</td>\n",
       "      <td>-0.011218</td>\n",
       "      <td>0.000000</td>\n",
       "      <td>66.666667</td>\n",
       "      <td>100.000000</td>\n",
       "    </tr>\n",
       "    <tr>\n",
       "      <th>2</th>\n",
       "      <td>20090106</td>\n",
       "      <td>DIA</td>\n",
       "      <td>90.15</td>\n",
       "      <td>90.18</td>\n",
       "      <td>90.90</td>\n",
       "      <td>89.38</td>\n",
       "      <td>37258790.0</td>\n",
       "      <td>-0.000339</td>\n",
       "      <td>48.214286</td>\n",
       "      <td>100.000000</td>\n",
       "      <td>100.000000</td>\n",
       "    </tr>\n",
       "    <tr>\n",
       "      <th>3</th>\n",
       "      <td>20090107</td>\n",
       "      <td>DIA</td>\n",
       "      <td>87.86</td>\n",
       "      <td>88.88</td>\n",
       "      <td>89.18</td>\n",
       "      <td>87.23</td>\n",
       "      <td>33164670.0</td>\n",
       "      <td>-0.078063</td>\n",
       "      <td>13.626871</td>\n",
       "      <td>-133.333333</td>\n",
       "      <td>60.254869</td>\n",
       "    </tr>\n",
       "    <tr>\n",
       "      <th>4</th>\n",
       "      <td>20090108</td>\n",
       "      <td>DIA</td>\n",
       "      <td>87.43</td>\n",
       "      <td>87.07</td>\n",
       "      <td>87.57</td>\n",
       "      <td>86.55</td>\n",
       "      <td>23640660.0</td>\n",
       "      <td>-0.135764</td>\n",
       "      <td>11.960243</td>\n",
       "      <td>-113.173600</td>\n",
       "      <td>68.726881</td>\n",
       "    </tr>\n",
       "  </tbody>\n",
       "</table>\n",
       "</div>"
      ],
      "text/plain": [
       "   datadate  tic  adjcp   open   high    low      volume      macd        rsi  \\\n",
       "0  20090102  DIA  90.20  87.95  90.62  87.57  24563770.0  0.000000   0.000000   \n",
       "1  20090105  DIA  89.70  89.87  90.33  88.87  25611230.0 -0.011218   0.000000   \n",
       "2  20090106  DIA  90.15  90.18  90.90  89.38  37258790.0 -0.000339  48.214286   \n",
       "3  20090107  DIA  87.86  88.88  89.18  87.23  33164670.0 -0.078063  13.626871   \n",
       "4  20090108  DIA  87.43  87.07  87.57  86.55  23640660.0 -0.135764  11.960243   \n",
       "\n",
       "          cci         adx  \n",
       "0   66.666667  100.000000  \n",
       "1   66.666667  100.000000  \n",
       "2  100.000000  100.000000  \n",
       "3 -133.333333   60.254869  \n",
       "4 -113.173600   68.726881  "
      ]
     },
     "execution_count": 12,
     "metadata": {},
     "output_type": "execute_result"
    }
   ],
   "source": [
    "df_final.head()"
   ]
  },
  {
   "cell_type": "code",
   "execution_count": 13,
   "metadata": {
    "collapsed": true,
    "scrolled": true
   },
   "outputs": [],
   "source": [
    "#final_columns = df_final.columns"
   ]
  },
  {
   "cell_type": "code",
   "execution_count": 39,
   "metadata": {
    "collapsed": true,
    "scrolled": true
   },
   "outputs": [],
   "source": [
    "#df_final.to_csv('data/etf_spy_dia_qqq_2020.csv',index=False)"
   ]
  },
  {
   "cell_type": "code",
   "execution_count": 40,
   "metadata": {
    "collapsed": true,
    "scrolled": true
   },
   "outputs": [],
   "source": [
    "#df_final = pd.read_csv('data/etf_spy_dia_qqq_2020.csv')"
   ]
  },
  {
   "cell_type": "markdown",
   "metadata": {},
   "source": [
    "## Train & Test split"
   ]
  },
  {
   "cell_type": "code",
   "execution_count": 13,
   "metadata": {
    "collapsed": true,
    "scrolled": true
   },
   "outputs": [],
   "source": [
    "def data_split(df_final,start,end):\n",
    "    data = df_final[(df_final.datadate > start) & (df_final.datadate < end)]\n",
    "    data=data.sort_values(['datadate','tic'],ignore_index=True)\n",
    "    #data  = data[final_columns]\n",
    "    data.index = data.datadate.factorize()[0]\n",
    "    return data"
   ]
  },
  {
   "cell_type": "code",
   "execution_count": 14,
   "metadata": {
    "collapsed": true,
    "scrolled": true
   },
   "outputs": [],
   "source": [
    "train_2017 = data_split(df_final,start = 20090000,end=20170000)\n",
    "test_2020  = data_split(df_final,start = 20170000,end=20200200)"
   ]
  },
  {
   "cell_type": "code",
   "execution_count": 15,
   "metadata": {
    "collapsed": true,
    "scrolled": true
   },
   "outputs": [],
   "source": [
    "train_2009_2016_spy = train_2017[train_2017.tic=='SPY']\n",
    "test_2017_2020_spy = test_2020[test_2020.tic=='SPY']"
   ]
  },
  {
   "cell_type": "code",
   "execution_count": 20,
   "metadata": {
    "collapsed": true,
    "scrolled": true
   },
   "outputs": [
    {
     "data": {
      "text/plain": [
       "<matplotlib.axes._subplots.AxesSubplot at 0x1a3b33b048>"
      ]
     },
     "execution_count": 20,
     "metadata": {},
     "output_type": "execute_result"
    },
    {
     "data": {
      "image/png": "[encoded data removed]",
      "text/plain": [
       "<Figure size 432x288 with 1 Axes>"
      ]
     },
     "metadata": {
      "needs_background": "light"
     },
     "output_type": "display_data"
    }
   ],
   "source": [
    "train_2009_2016_spy.adjcp.plot()"
   ]
  },
  {
   "cell_type": "code",
   "execution_count": 21,
   "metadata": {
    "collapsed": true,
    "scrolled": true
   },
   "outputs": [
    {
     "data": {
      "text/plain": [
       "<matplotlib.axes._subplots.AxesSubplot at 0x1a3b3ce7f0>"
      ]
     },
     "execution_count": 21,
     "metadata": {},
     "output_type": "execute_result"
    },
    {
     "data": {
      "image/png": "[encoded data removed]",
      "text/plain": [
       "<Figure size 432x288 with 1 Axes>"
      ]
     },
     "metadata": {
      "needs_background": "light"
     },
     "output_type": "display_data"
    }
   ],
   "source": [
    "test_2017_2020_spy.adjcp.plot()"
   ]
  },
  {
   "cell_type": "code",
   "execution_count": 22,
   "metadata": {
    "collapsed": true,
    "scrolled": true
   },
   "outputs": [],
   "source": [
    "train_2009_2016_dia = train_2017[train_2017.tic=='DIA']\n",
    "test_2017_2020_dia = test_2020[test_2020.tic=='DIA']"
   ]
  },
  {
   "cell_type": "code",
   "execution_count": 72,
   "metadata": {},
   "outputs": [],
   "source": [
    "def calcualte_sharpe(adjcp):\n",
    "    print((252**0.5)*adjcp.pct_change(1).mean()/adjcp.pct_change(1).std())"
   ]
  },
  {
   "cell_type": "code",
   "execution_count": 23,
   "metadata": {
    "scrolled": true
   },
   "outputs": [
    {
     "data": {
      "text/plain": [
       "<matplotlib.axes._subplots.AxesSubplot at 0x1a3be449b0>"
      ]
     },
     "execution_count": 23,
     "metadata": {},
     "output_type": "execute_result"
    },
    {
     "data": {
      "image/png": "[encoded data removed]",
      "text/plain": [
       "<Figure size 432x288 with 1 Axes>"
      ]
     },
     "metadata": {
      "needs_background": "light"
     },
     "output_type": "display_data"
    }
   ],
   "source": [
    "train_2009_2016_dia.adjcp.plot()"
   ]
  },
  {
   "cell_type": "code",
   "execution_count": 24,
   "metadata": {
    "collapsed": true,
    "scrolled": true
   },
   "outputs": [
    {
     "data": {
      "text/plain": [
       "<matplotlib.axes._subplots.AxesSubplot at 0x1a3c03d7b8>"
      ]
     },
     "execution_count": 24,
     "metadata": {},
     "output_type": "execute_result"
    },
    {
     "data": {
      "image/png": "[encoded data removed]",
      "text/plain": [
       "<Figure size 432x288 with 1 Axes>"
      ]
     },
     "metadata": {
      "needs_background": "light"
     },
     "output_type": "display_data"
    }
   ],
   "source": [
    "test_2017_2020_dia.adjcp.plot()"
   ]
  },
  {
   "cell_type": "code",
   "execution_count": 73,
   "metadata": {},
   "outputs": [
    {
     "name": "stdout",
     "output_type": "stream",
     "text": [
      "0.9393360617092317\n"
     ]
    }
   ],
   "source": [
    "calcualte_sharpe(test_2017_2020_dia.adjcp)"
   ]
  },
  {
   "cell_type": "code",
   "execution_count": 25,
   "metadata": {
    "collapsed": true,
    "scrolled": true
   },
   "outputs": [],
   "source": [
    "train_2009_2016_qqq = train_2017[train_2017.tic=='QQQ']\n",
    "test_2017_2020_qqq = test_2020[test_2020.tic=='QQQ']"
   ]
  },
  {
   "cell_type": "code",
   "execution_count": null,
   "metadata": {},
   "outputs": [],
   "source": [
    " df_total_value['daily_return']=df_total_value.pct_change(1)\n",
    "            sharpe = (252**0.5)*df_total_value['daily_return'].mean()/ \\\n",
    "                  df_total_value['daily_return'].std()"
   ]
  },
  {
   "cell_type": "code",
   "execution_count": 74,
   "metadata": {},
   "outputs": [
    {
     "name": "stdout",
     "output_type": "stream",
     "text": [
      "1.2324282123483696\n"
     ]
    }
   ],
   "source": [
    "calcualte_sharpe(test_2017_2020_qqq.adjcp)"
   ]
  },
  {
   "cell_type": "code",
   "execution_count": 54,
   "metadata": {
    "scrolled": true
   },
   "outputs": [
    {
     "data": {
      "text/plain": [
       "<matplotlib.axes._subplots.AxesSubplot at 0x1a3fb428d0>"
      ]
     },
     "execution_count": 54,
     "metadata": {},
     "output_type": "execute_result"
    },
    {
     "data": {
      "image/png": "[encoded data removed]",
      "text/plain": [
       "<Figure size 432x288 with 1 Axes>"
      ]
     },
     "metadata": {
      "needs_background": "light"
     },
     "output_type": "display_data"
    }
   ],
   "source": [
    "train_2009_2016_qqq.adjcp.plot()"
   ]
  },
  {
   "cell_type": "code",
   "execution_count": 55,
   "metadata": {
    "scrolled": true
   },
   "outputs": [
    {
     "data": {
      "text/plain": [
       "<matplotlib.axes._subplots.AxesSubplot at 0x1a408f70b8>"
      ]
     },
     "execution_count": 55,
     "metadata": {},
     "output_type": "execute_result"
    },
    {
     "data": {
      "image/png": "[encoded data removed]",
      "text/plain": [
       "<Figure size 432x288 with 1 Axes>"
      ]
     },
     "metadata": {
      "needs_background": "light"
     },
     "output_type": "display_data"
    }
   ],
   "source": [
    "test_2017_2020_qqq.adjcp.plot()"
   ]
  },
  {
   "cell_type": "code",
   "execution_count": 28,
   "metadata": {
    "collapsed": true,
    "scrolled": true
   },
   "outputs": [
    {
     "data": {
      "text/html": [
       "<div>\n",
       "<style scoped>\n",
       "    .dataframe tbody tr th:only-of-type {\n",
       "        vertical-align: middle;\n",
       "    }\n",
       "\n",
       "    .dataframe tbody tr th {\n",
       "        vertical-align: top;\n",
       "    }\n",
       "\n",
       "    .dataframe thead th {\n",
       "        text-align: right;\n",
       "    }\n",
       "</style>\n",
       "<table border=\"1\" class=\"dataframe\">\n",
       "  <thead>\n",
       "    <tr style=\"text-align: right;\">\n",
       "      <th></th>\n",
       "      <th>datadate</th>\n",
       "      <th>tic</th>\n",
       "      <th>adjcp</th>\n",
       "      <th>open</th>\n",
       "      <th>high</th>\n",
       "      <th>low</th>\n",
       "      <th>volume</th>\n",
       "      <th>macd</th>\n",
       "      <th>rsi</th>\n",
       "      <th>cci</th>\n",
       "      <th>adx</th>\n",
       "    </tr>\n",
       "  </thead>\n",
       "  <tbody>\n",
       "    <tr>\n",
       "      <th>0</th>\n",
       "      <td>20101130</td>\n",
       "      <td>TVIX</td>\n",
       "      <td>112.35</td>\n",
       "      <td>106.27</td>\n",
       "      <td>112.35</td>\n",
       "      <td>104.3900</td>\n",
       "      <td>47900.0</td>\n",
       "      <td>0.000000</td>\n",
       "      <td>0.0</td>\n",
       "      <td>-66.666667</td>\n",
       "      <td>100.0</td>\n",
       "    </tr>\n",
       "    <tr>\n",
       "      <th>1</th>\n",
       "      <td>20101201</td>\n",
       "      <td>TVIX</td>\n",
       "      <td>100.69</td>\n",
       "      <td>99.98</td>\n",
       "      <td>100.69</td>\n",
       "      <td>98.8000</td>\n",
       "      <td>38300.0</td>\n",
       "      <td>-0.261603</td>\n",
       "      <td>0.0</td>\n",
       "      <td>-66.666667</td>\n",
       "      <td>100.0</td>\n",
       "    </tr>\n",
       "    <tr>\n",
       "      <th>2</th>\n",
       "      <td>20101202</td>\n",
       "      <td>TVIX</td>\n",
       "      <td>86.59</td>\n",
       "      <td>98.31</td>\n",
       "      <td>98.31</td>\n",
       "      <td>86.5000</td>\n",
       "      <td>7575.0</td>\n",
       "      <td>-0.770574</td>\n",
       "      <td>0.0</td>\n",
       "      <td>-99.849885</td>\n",
       "      <td>100.0</td>\n",
       "    </tr>\n",
       "    <tr>\n",
       "      <th>3</th>\n",
       "      <td>20101203</td>\n",
       "      <td>TVIX</td>\n",
       "      <td>78.78</td>\n",
       "      <td>88.36</td>\n",
       "      <td>88.36</td>\n",
       "      <td>78.1240</td>\n",
       "      <td>2848.0</td>\n",
       "      <td>-1.265156</td>\n",
       "      <td>0.0</td>\n",
       "      <td>-97.613508</td>\n",
       "      <td>100.0</td>\n",
       "    </tr>\n",
       "    <tr>\n",
       "      <th>4</th>\n",
       "      <td>20101206</td>\n",
       "      <td>TVIX</td>\n",
       "      <td>75.69</td>\n",
       "      <td>79.77</td>\n",
       "      <td>80.00</td>\n",
       "      <td>74.6201</td>\n",
       "      <td>8445.0</td>\n",
       "      <td>-1.630228</td>\n",
       "      <td>0.0</td>\n",
       "      <td>-95.081405</td>\n",
       "      <td>100.0</td>\n",
       "    </tr>\n",
       "  </tbody>\n",
       "</table>\n",
       "</div>"
      ],
      "text/plain": [
       "   datadate   tic   adjcp    open    high       low   volume      macd  rsi  \\\n",
       "0  20101130  TVIX  112.35  106.27  112.35  104.3900  47900.0  0.000000  0.0   \n",
       "1  20101201  TVIX  100.69   99.98  100.69   98.8000  38300.0 -0.261603  0.0   \n",
       "2  20101202  TVIX   86.59   98.31   98.31   86.5000   7575.0 -0.770574  0.0   \n",
       "3  20101203  TVIX   78.78   88.36   88.36   78.1240   2848.0 -1.265156  0.0   \n",
       "4  20101206  TVIX   75.69   79.77   80.00   74.6201   8445.0 -1.630228  0.0   \n",
       "\n",
       "         cci    adx  \n",
       "0 -66.666667  100.0  \n",
       "1 -66.666667  100.0  \n",
       "2 -99.849885  100.0  \n",
       "3 -97.613508  100.0  \n",
       "4 -95.081405  100.0  "
      ]
     },
     "execution_count": 28,
     "metadata": {},
     "output_type": "execute_result"
    }
   ],
   "source": [
    "df_final_tvix.head()"
   ]
  },
  {
   "cell_type": "code",
   "execution_count": 29,
   "metadata": {
    "collapsed": true,
    "scrolled": true
   },
   "outputs": [],
   "source": [
    "train_2018_tvix = data_split(df_final_tvix,start = 20090000,end=20180000)\n",
    "test_2020_tvix  = data_split(df_final_tvix,start = 20180000,end=20200200)"
   ]
  },
  {
   "cell_type": "code",
   "execution_count": 75,
   "metadata": {},
   "outputs": [
    {
     "name": "stdout",
     "output_type": "stream",
     "text": [
      "-0.12541406977224878\n"
     ]
    }
   ],
   "source": [
    "calcualte_sharpe(test_2020_tvix.adjcp)"
   ]
  },
  {
   "cell_type": "code",
   "execution_count": 30,
   "metadata": {
    "collapsed": true,
    "scrolled": true
   },
   "outputs": [
    {
     "data": {
      "text/plain": [
       "<matplotlib.axes._subplots.AxesSubplot at 0x1a3c2b08d0>"
      ]
     },
     "execution_count": 30,
     "metadata": {},
     "output_type": "execute_result"
    },
    {
     "data": {
      "image/png": "[encoded data removed]",
      "text/plain": [
       "<Figure size 432x288 with 1 Axes>"
      ]
     },
     "metadata": {
      "needs_background": "light"
     },
     "output_type": "display_data"
    }
   ],
   "source": [
    "train_2018_tvix.adjcp.plot()"
   ]
  },
  {
   "cell_type": "code",
   "execution_count": 31,
   "metadata": {
    "collapsed": true,
    "scrolled": true
   },
   "outputs": [
    {
     "data": {
      "text/plain": [
       "<matplotlib.axes._subplots.AxesSubplot at 0x1a3c7cbcc0>"
      ]
     },
     "execution_count": 31,
     "metadata": {},
     "output_type": "execute_result"
    },
    {
     "data": {
      "image/png": "[encoded data removed]",
      "text/plain": [
       "<Figure size 432x288 with 1 Axes>"
      ]
     },
     "metadata": {
      "needs_background": "light"
     },
     "output_type": "display_data"
    }
   ],
   "source": [
    "test_2020_tvix.adjcp.plot()"
   ]
  },
  {
   "cell_type": "code",
   "execution_count": 32,
   "metadata": {
    "collapsed": true,
    "scrolled": true
   },
   "outputs": [
    {
     "data": {
      "text/html": [
       "<div>\n",
       "<style scoped>\n",
       "    .dataframe tbody tr th:only-of-type {\n",
       "        vertical-align: middle;\n",
       "    }\n",
       "\n",
       "    .dataframe tbody tr th {\n",
       "        vertical-align: top;\n",
       "    }\n",
       "\n",
       "    .dataframe thead th {\n",
       "        text-align: right;\n",
       "    }\n",
       "</style>\n",
       "<table border=\"1\" class=\"dataframe\">\n",
       "  <thead>\n",
       "    <tr style=\"text-align: right;\">\n",
       "      <th></th>\n",
       "      <th>datadate</th>\n",
       "      <th>tic</th>\n",
       "      <th>adjcp</th>\n",
       "      <th>open</th>\n",
       "      <th>high</th>\n",
       "      <th>low</th>\n",
       "      <th>volume</th>\n",
       "      <th>macd</th>\n",
       "      <th>rsi</th>\n",
       "      <th>cci</th>\n",
       "      <th>adx</th>\n",
       "    </tr>\n",
       "  </thead>\n",
       "  <tbody>\n",
       "    <tr>\n",
       "      <th>0</th>\n",
       "      <td>20090102</td>\n",
       "      <td>SPY</td>\n",
       "      <td>92.960</td>\n",
       "      <td>90.44</td>\n",
       "      <td>93.4400</td>\n",
       "      <td>89.85</td>\n",
       "      <td>227563000.0</td>\n",
       "      <td>0.000000</td>\n",
       "      <td>0.000000</td>\n",
       "      <td>66.666667</td>\n",
       "      <td>100.000000</td>\n",
       "    </tr>\n",
       "    <tr>\n",
       "      <th>1</th>\n",
       "      <td>20090105</td>\n",
       "      <td>SPY</td>\n",
       "      <td>92.850</td>\n",
       "      <td>92.63</td>\n",
       "      <td>94.5533</td>\n",
       "      <td>91.89</td>\n",
       "      <td>240076500.0</td>\n",
       "      <td>-0.002468</td>\n",
       "      <td>0.000000</td>\n",
       "      <td>66.666667</td>\n",
       "      <td>100.000000</td>\n",
       "    </tr>\n",
       "    <tr>\n",
       "      <th>2</th>\n",
       "      <td>20090106</td>\n",
       "      <td>SPY</td>\n",
       "      <td>93.470</td>\n",
       "      <td>93.64</td>\n",
       "      <td>94.4500</td>\n",
       "      <td>92.68</td>\n",
       "      <td>327996400.0</td>\n",
       "      <td>0.016082</td>\n",
       "      <td>85.360257</td>\n",
       "      <td>76.511166</td>\n",
       "      <td>100.000000</td>\n",
       "    </tr>\n",
       "    <tr>\n",
       "      <th>3</th>\n",
       "      <td>20090107</td>\n",
       "      <td>SPY</td>\n",
       "      <td>90.670</td>\n",
       "      <td>92.00</td>\n",
       "      <td>92.2600</td>\n",
       "      <td>90.20</td>\n",
       "      <td>280574700.0</td>\n",
       "      <td>-0.076969</td>\n",
       "      <td>17.113433</td>\n",
       "      <td>-106.235594</td>\n",
       "      <td>43.589885</td>\n",
       "    </tr>\n",
       "    <tr>\n",
       "      <th>4</th>\n",
       "      <td>20090108</td>\n",
       "      <td>SPY</td>\n",
       "      <td>91.042</td>\n",
       "      <td>90.16</td>\n",
       "      <td>91.0900</td>\n",
       "      <td>89.67</td>\n",
       "      <td>263579600.0</td>\n",
       "      <td>-0.111108</td>\n",
       "      <td>25.319620</td>\n",
       "      <td>-98.092589</td>\n",
       "      <td>51.538298</td>\n",
       "    </tr>\n",
       "  </tbody>\n",
       "</table>\n",
       "</div>"
      ],
      "text/plain": [
       "   datadate  tic   adjcp   open     high    low       volume      macd  \\\n",
       "0  20090102  SPY  92.960  90.44  93.4400  89.85  227563000.0  0.000000   \n",
       "1  20090105  SPY  92.850  92.63  94.5533  91.89  240076500.0 -0.002468   \n",
       "2  20090106  SPY  93.470  93.64  94.4500  92.68  327996400.0  0.016082   \n",
       "3  20090107  SPY  90.670  92.00  92.2600  90.20  280574700.0 -0.076969   \n",
       "4  20090108  SPY  91.042  90.16  91.0900  89.67  263579600.0 -0.111108   \n",
       "\n",
       "         rsi         cci         adx  \n",
       "0   0.000000   66.666667  100.000000  \n",
       "1   0.000000   66.666667  100.000000  \n",
       "2  85.360257   76.511166  100.000000  \n",
       "3  17.113433 -106.235594   43.589885  \n",
       "4  25.319620  -98.092589   51.538298  "
      ]
     },
     "execution_count": 32,
     "metadata": {},
     "output_type": "execute_result"
    }
   ],
   "source": [
    "train_2009_2016_spy.head()"
   ]
  },
  {
   "cell_type": "code",
   "execution_count": 33,
   "metadata": {
    "collapsed": true,
    "scrolled": true
   },
   "outputs": [],
   "source": [
    "def DRL_trading(model, test_data, test_env, test_obs):\n",
    "    start = time.time()\n",
    "    #we can directly load a pretrained model\n",
    "    #model_a2c=A2C.load('model_single_stock/a2c_200k_all_tcost_best')\n",
    "    for i in range(len(test_data.index.unique())):    \n",
    "        action, _states = model.predict(test_obs)\n",
    "        test_obs, rewards, dones, info = test_env.step(action)\n",
    "        #env_test.render()\n",
    "    end = time.time()\n",
    "    "
   ]
  },
  {
   "cell_type": "markdown",
   "metadata": {},
   "source": [
    "## Environment Setup\n",
    "* The algorithms require a vectorized environment to run"
   ]
  },
  {
   "cell_type": "code",
   "execution_count": 34,
   "metadata": {
    "collapsed": true,
    "scrolled": true
   },
   "outputs": [],
   "source": [
    "## SPY\n",
    "env_train_spy = DummyVecEnv([lambda: StockEnv(train_2009_2016_spy)])\n",
    "env_test_spy = DummyVecEnv([lambda: StockEnv(test_2017_2020_spy)])\n",
    "obs_spy = env_test_spy.reset()"
   ]
  },
  {
   "cell_type": "code",
   "execution_count": 53,
   "metadata": {},
   "outputs": [],
   "source": [
    "## DIA\n",
    "env_train_dia = DummyVecEnv([lambda: StockEnv(train_2009_2016_dia)])\n",
    "env_test_dia = DummyVecEnv([lambda: StockEnv(test_2017_2020_dia)])\n",
    "obs_dia = env_test_dia.reset()"
   ]
  },
  {
   "cell_type": "code",
   "execution_count": 56,
   "metadata": {},
   "outputs": [],
   "source": [
    "## QQQ\n",
    "env_train_qqq = DummyVecEnv([lambda: StockEnv(train_2009_2016_qqq)])\n",
    "env_test_qqq = DummyVecEnv([lambda: StockEnv(test_2017_2020_qqq)])\n",
    "obs_qqq = env_test_qqq.reset()"
   ]
  },
  {
   "cell_type": "code",
   "execution_count": 35,
   "metadata": {
    "collapsed": true,
    "scrolled": true
   },
   "outputs": [],
   "source": [
    "## TVIX\n",
    "env_train_tvix = DummyVecEnv([lambda: StockEnv(train_2018_tvix)])\n",
    "env_test_tvix = DummyVecEnv([lambda: StockEnv(test_2020_tvix)])\n",
    "obs_tvix = env_test_tvix.reset()"
   ]
  },
  {
   "cell_type": "markdown",
   "metadata": {},
   "source": [
    "### A2C"
   ]
  },
  {
   "cell_type": "code",
   "execution_count": 36,
   "metadata": {
    "collapsed": true,
    "scrolled": true
   },
   "outputs": [],
   "source": [
    "def train_A2C(env_train, model_save_path):\n",
    "    start = time.time()\n",
    "    model_a2c = A2C('MlpPolicy', env_train, verbose=0)\n",
    "    model_a2c.learn(100000)\n",
    "    end = time.time()\n",
    "    model_a2c.save(model_save_path)\n",
    "    print((end-start)/60,' minutes')\n",
    "    return model_a2c"
   ]
  },
  {
   "cell_type": "markdown",
   "metadata": {},
   "source": [
    "### Training"
   ]
  },
  {
   "cell_type": "code",
   "execution_count": 37,
   "metadata": {
    "collapsed": true,
    "scrolled": false
   },
   "outputs": [
    {
     "name": "stdout",
     "output_type": "stream",
     "text": [
      "total_reward:51489.40299701854\n",
      "total_cost:  3925.106229415746\n",
      "Sharpe:  0.503423003376638\n",
      "total_reward:133166.16151402588\n",
      "total_cost:  4044.798679828398\n",
      "Sharpe:  0.55676301539341\n",
      "total_reward:335731.12086564023\n",
      "total_cost:  4210.638939736042\n",
      "Sharpe:  0.5208307244531495\n",
      "total_reward:526351.0913216141\n",
      "total_cost:  4060.821781644773\n",
      "Sharpe:  0.6441108190291217\n",
      "total_reward:730324.0194850846\n",
      "total_cost:  3684.4467967317664\n",
      "Sharpe:  0.7205241818233804\n",
      "total_reward:794223.1101092207\n",
      "total_cost:  3987.2014308325747\n",
      "Sharpe:  0.7365882197780947\n",
      "total_reward:745836.8304290462\n",
      "total_cost:  3734.1870185623425\n",
      "Sharpe:  0.7236023548228504\n",
      "total_reward:555196.7467355481\n",
      "total_cost:  3947.9583157506695\n",
      "Sharpe:  0.6488874721723589\n",
      "total_reward:800701.2173493118\n",
      "total_cost:  4063.9689848224416\n",
      "Sharpe:  0.7392780211910911\n",
      "total_reward:796477.3584975973\n",
      "total_cost:  3383.471165686354\n",
      "Sharpe:  0.7297638284545525\n",
      "total_reward:722369.9200034991\n",
      "total_cost:  3027.0301453942748\n",
      "Sharpe:  0.7245982089551917\n",
      "total_reward:921917.4017899169\n",
      "total_cost:  2485.763343553829\n",
      "Sharpe:  0.7431749628982498\n",
      "total_reward:925783.1679302659\n",
      "total_cost:  4080.7305980149536\n",
      "Sharpe:  0.7428340920437022\n",
      "total_reward:924808.4824634211\n",
      "total_cost:  4473.981162721302\n",
      "Sharpe:  0.7416722165807984\n",
      "total_reward:899120.5797475588\n",
      "total_cost:  4377.8940074205875\n",
      "Sharpe:  0.7459579677732898\n",
      "total_reward:815683.3546252239\n",
      "total_cost:  4197.548832220294\n",
      "Sharpe:  0.7441871260829351\n",
      "total_reward:806745.9704879047\n",
      "total_cost:  4142.401449457742\n",
      "Sharpe:  0.7464717605412741\n",
      "total_reward:727145.3513220579\n",
      "total_cost:  4133.051103367639\n",
      "Sharpe:  0.725377563280467\n",
      "total_reward:877608.9962937075\n",
      "total_cost:  4384.246789501921\n",
      "Sharpe:  0.7409489398500693\n",
      "total_reward:756021.6813185539\n",
      "total_cost:  4094.572947464909\n",
      "Sharpe:  0.7375763102562948\n",
      "total_reward:876802.1056346409\n",
      "total_cost:  4327.333700009103\n",
      "Sharpe:  0.7460929336349936\n",
      "total_reward:804500.8791816039\n",
      "total_cost:  4043.964998269634\n",
      "Sharpe:  0.7409535885629778\n",
      "total_reward:642151.825620298\n",
      "total_cost:  4104.298471298671\n",
      "Sharpe:  0.6957702052736618\n",
      "total_reward:865698.3775688682\n",
      "total_cost:  4151.215194340571\n",
      "Sharpe:  0.7415590443484131\n"
     ]
    },
    {
     "ename": "KeyboardInterrupt",
     "evalue": "",
     "output_type": "error",
     "traceback": [
      "\u001b[0;31m---------------------------------------------------------------------------\u001b[0m",
      "\u001b[0;31mKeyboardInterrupt\u001b[0m                         Traceback (most recent call last)",
      "\u001b[0;32m<ipython-input-37-10c3c7f3f173>\u001b[0m in \u001b[0;36m<module>\u001b[0;34m\u001b[0m\n\u001b[1;32m      1\u001b[0m \u001b[0;31m## SPY\u001b[0m\u001b[0;34m\u001b[0m\u001b[0;34m\u001b[0m\u001b[0;34m\u001b[0m\u001b[0m\n\u001b[0;32m----> 2\u001b[0;31m \u001b[0mmodel_a2c_spy\u001b[0m \u001b[0;34m=\u001b[0m \u001b[0mtrain_A2C\u001b[0m\u001b[0;34m(\u001b[0m\u001b[0menv_train_spy\u001b[0m\u001b[0;34m,\u001b[0m\u001b[0;34m\"model_single_stock/a2c_100k_spy\"\u001b[0m\u001b[0;34m)\u001b[0m\u001b[0;34m\u001b[0m\u001b[0;34m\u001b[0m\u001b[0m\n\u001b[0m",
      "\u001b[0;32m<ipython-input-36-1e729bbd9e4f>\u001b[0m in \u001b[0;36mtrain_A2C\u001b[0;34m(env_train, model_save_path)\u001b[0m\n\u001b[1;32m      2\u001b[0m     \u001b[0mstart\u001b[0m \u001b[0;34m=\u001b[0m \u001b[0mtime\u001b[0m\u001b[0;34m.\u001b[0m\u001b[0mtime\u001b[0m\u001b[0;34m(\u001b[0m\u001b[0;34m)\u001b[0m\u001b[0;34m\u001b[0m\u001b[0;34m\u001b[0m\u001b[0m\n\u001b[1;32m      3\u001b[0m     \u001b[0mmodel_a2c\u001b[0m \u001b[0;34m=\u001b[0m \u001b[0mA2C\u001b[0m\u001b[0;34m(\u001b[0m\u001b[0;34m'MlpPolicy'\u001b[0m\u001b[0;34m,\u001b[0m \u001b[0menv_train\u001b[0m\u001b[0;34m,\u001b[0m \u001b[0mverbose\u001b[0m\u001b[0;34m=\u001b[0m\u001b[0;36m0\u001b[0m\u001b[0;34m)\u001b[0m\u001b[0;34m\u001b[0m\u001b[0;34m\u001b[0m\u001b[0m\n\u001b[0;32m----> 4\u001b[0;31m     \u001b[0mmodel_a2c\u001b[0m\u001b[0;34m.\u001b[0m\u001b[0mlearn\u001b[0m\u001b[0;34m(\u001b[0m\u001b[0;36m100000\u001b[0m\u001b[0;34m)\u001b[0m\u001b[0;34m\u001b[0m\u001b[0;34m\u001b[0m\u001b[0m\n\u001b[0m\u001b[1;32m      5\u001b[0m     \u001b[0mend\u001b[0m \u001b[0;34m=\u001b[0m \u001b[0mtime\u001b[0m\u001b[0;34m.\u001b[0m\u001b[0mtime\u001b[0m\u001b[0;34m(\u001b[0m\u001b[0;34m)\u001b[0m\u001b[0;34m\u001b[0m\u001b[0;34m\u001b[0m\u001b[0m\n\u001b[1;32m      6\u001b[0m     \u001b[0mmodel_a2c\u001b[0m\u001b[0;34m.\u001b[0m\u001b[0msave\u001b[0m\u001b[0;34m(\u001b[0m\u001b[0mmodel_save_path\u001b[0m\u001b[0;34m)\u001b[0m\u001b[0;34m\u001b[0m\u001b[0;34m\u001b[0m\u001b[0m\n",
      "\u001b[0;32m~/anaconda3/lib/python3.6/site-packages/stable_baselines/a2c/a2c.py\u001b[0m in \u001b[0;36mlearn\u001b[0;34m(self, total_timesteps, callback, log_interval, tb_log_name, reset_num_timesteps)\u001b[0m\n\u001b[1;32m    271\u001b[0m                 \u001b[0mself\u001b[0m\u001b[0;34m.\u001b[0m\u001b[0mep_info_buf\u001b[0m\u001b[0;34m.\u001b[0m\u001b[0mextend\u001b[0m\u001b[0;34m(\u001b[0m\u001b[0mep_infos\u001b[0m\u001b[0;34m)\u001b[0m\u001b[0;34m\u001b[0m\u001b[0;34m\u001b[0m\u001b[0m\n\u001b[1;32m    272\u001b[0m                 _, value_loss, policy_entropy = self._train_step(obs, states, rewards, masks, actions, values,\n\u001b[0;32m--> 273\u001b[0;31m                                                                  self.num_timesteps // self.n_batch, writer)\n\u001b[0m\u001b[1;32m    274\u001b[0m                 \u001b[0mn_seconds\u001b[0m \u001b[0;34m=\u001b[0m \u001b[0mtime\u001b[0m\u001b[0;34m.\u001b[0m\u001b[0mtime\u001b[0m\u001b[0;34m(\u001b[0m\u001b[0;34m)\u001b[0m \u001b[0;34m-\u001b[0m \u001b[0mt_start\u001b[0m\u001b[0;34m\u001b[0m\u001b[0;34m\u001b[0m\u001b[0m\n\u001b[1;32m    275\u001b[0m                 \u001b[0mfps\u001b[0m \u001b[0;34m=\u001b[0m \u001b[0mint\u001b[0m\u001b[0;34m(\u001b[0m\u001b[0;34m(\u001b[0m\u001b[0mupdate\u001b[0m \u001b[0;34m*\u001b[0m \u001b[0mself\u001b[0m\u001b[0;34m.\u001b[0m\u001b[0mn_batch\u001b[0m\u001b[0;34m)\u001b[0m \u001b[0;34m/\u001b[0m \u001b[0mn_seconds\u001b[0m\u001b[0;34m)\u001b[0m\u001b[0;34m\u001b[0m\u001b[0;34m\u001b[0m\u001b[0m\n",
      "\u001b[0;32m~/anaconda3/lib/python3.6/site-packages/stable_baselines/a2c/a2c.py\u001b[0m in \u001b[0;36m_train_step\u001b[0;34m(self, obs, states, rewards, masks, actions, values, update, writer)\u001b[0m\n\u001b[1;32m    236\u001b[0m         \u001b[0;32melse\u001b[0m\u001b[0;34m:\u001b[0m\u001b[0;34m\u001b[0m\u001b[0;34m\u001b[0m\u001b[0m\n\u001b[1;32m    237\u001b[0m             policy_loss, value_loss, policy_entropy, _ = self.sess.run(\n\u001b[0;32m--> 238\u001b[0;31m                 [self.pg_loss, self.vf_loss, self.entropy, self.apply_backprop], td_map)\n\u001b[0m\u001b[1;32m    239\u001b[0m \u001b[0;34m\u001b[0m\u001b[0m\n\u001b[1;32m    240\u001b[0m         \u001b[0;32mreturn\u001b[0m \u001b[0mpolicy_loss\u001b[0m\u001b[0;34m,\u001b[0m \u001b[0mvalue_loss\u001b[0m\u001b[0;34m,\u001b[0m \u001b[0mpolicy_entropy\u001b[0m\u001b[0;34m\u001b[0m\u001b[0;34m\u001b[0m\u001b[0m\n",
      "\u001b[0;32m~/anaconda3/lib/python3.6/site-packages/tensorflow/python/client/session.py\u001b[0m in \u001b[0;36mrun\u001b[0;34m(self, fetches, feed_dict, options, run_metadata)\u001b[0m\n\u001b[1;32m    885\u001b[0m     \u001b[0;32mtry\u001b[0m\u001b[0;34m:\u001b[0m\u001b[0;34m\u001b[0m\u001b[0;34m\u001b[0m\u001b[0m\n\u001b[1;32m    886\u001b[0m       result = self._run(None, fetches, feed_dict, options_ptr,\n\u001b[0;32m--> 887\u001b[0;31m                          run_metadata_ptr)\n\u001b[0m\u001b[1;32m    888\u001b[0m       \u001b[0;32mif\u001b[0m \u001b[0mrun_metadata\u001b[0m\u001b[0;34m:\u001b[0m\u001b[0;34m\u001b[0m\u001b[0;34m\u001b[0m\u001b[0m\n\u001b[1;32m    889\u001b[0m         \u001b[0mproto_data\u001b[0m \u001b[0;34m=\u001b[0m \u001b[0mtf_session\u001b[0m\u001b[0;34m.\u001b[0m\u001b[0mTF_GetBuffer\u001b[0m\u001b[0;34m(\u001b[0m\u001b[0mrun_metadata_ptr\u001b[0m\u001b[0;34m)\u001b[0m\u001b[0;34m\u001b[0m\u001b[0;34m\u001b[0m\u001b[0m\n",
      "\u001b[0;32m~/anaconda3/lib/python3.6/site-packages/tensorflow/python/client/session.py\u001b[0m in \u001b[0;36m_run\u001b[0;34m(self, handle, fetches, feed_dict, options, run_metadata)\u001b[0m\n\u001b[1;32m   1093\u001b[0m     \u001b[0;31m# Create a fetch handler to take care of the structure of fetches.\u001b[0m\u001b[0;34m\u001b[0m\u001b[0;34m\u001b[0m\u001b[0;34m\u001b[0m\u001b[0m\n\u001b[1;32m   1094\u001b[0m     fetch_handler = _FetchHandler(\n\u001b[0;32m-> 1095\u001b[0;31m         self._graph, fetches, feed_dict_tensor, feed_handles=feed_handles)\n\u001b[0m\u001b[1;32m   1096\u001b[0m \u001b[0;34m\u001b[0m\u001b[0m\n\u001b[1;32m   1097\u001b[0m     \u001b[0;31m# Run request and get response.\u001b[0m\u001b[0;34m\u001b[0m\u001b[0;34m\u001b[0m\u001b[0;34m\u001b[0m\u001b[0m\n",
      "\u001b[0;32m~/anaconda3/lib/python3.6/site-packages/tensorflow/python/client/session.py\u001b[0m in \u001b[0;36m__init__\u001b[0;34m(self, graph, fetches, feeds, feed_handles)\u001b[0m\n\u001b[1;32m    426\u001b[0m         \u001b[0mdirect\u001b[0m \u001b[0mfeeds\u001b[0m\u001b[0;34m.\u001b[0m\u001b[0;34m\u001b[0m\u001b[0;34m\u001b[0m\u001b[0m\n\u001b[1;32m    427\u001b[0m     \"\"\"\n\u001b[0;32m--> 428\u001b[0;31m     \u001b[0;32mwith\u001b[0m \u001b[0mgraph\u001b[0m\u001b[0;34m.\u001b[0m\u001b[0mas_default\u001b[0m\u001b[0;34m(\u001b[0m\u001b[0;34m)\u001b[0m\u001b[0;34m:\u001b[0m\u001b[0;34m\u001b[0m\u001b[0;34m\u001b[0m\u001b[0m\n\u001b[0m\u001b[1;32m    429\u001b[0m       \u001b[0mself\u001b[0m\u001b[0;34m.\u001b[0m\u001b[0m_fetch_mapper\u001b[0m \u001b[0;34m=\u001b[0m \u001b[0m_FetchMapper\u001b[0m\u001b[0;34m.\u001b[0m\u001b[0mfor_fetch\u001b[0m\u001b[0;34m(\u001b[0m\u001b[0mfetches\u001b[0m\u001b[0;34m)\u001b[0m\u001b[0;34m\u001b[0m\u001b[0;34m\u001b[0m\u001b[0m\n\u001b[1;32m    430\u001b[0m     \u001b[0mself\u001b[0m\u001b[0;34m.\u001b[0m\u001b[0m_fetches\u001b[0m \u001b[0;34m=\u001b[0m \u001b[0;34m[\u001b[0m\u001b[0;34m]\u001b[0m\u001b[0;34m\u001b[0m\u001b[0;34m\u001b[0m\u001b[0m\n",
      "\u001b[0;32m~/anaconda3/lib/python3.6/site-packages/tensorflow/python/framework/ops.py\u001b[0m in \u001b[0;36mas_default\u001b[0;34m(self)\u001b[0m\n\u001b[1;32m   3742\u001b[0m       \u001b[0mA\u001b[0m \u001b[0mcontext\u001b[0m \u001b[0mmanager\u001b[0m \u001b[0;32mfor\u001b[0m \u001b[0musing\u001b[0m \u001b[0mthis\u001b[0m \u001b[0mgraph\u001b[0m \u001b[0;32mas\u001b[0m \u001b[0mthe\u001b[0m \u001b[0mdefault\u001b[0m \u001b[0mgraph\u001b[0m\u001b[0;34m.\u001b[0m\u001b[0;34m\u001b[0m\u001b[0;34m\u001b[0m\u001b[0m\n\u001b[1;32m   3743\u001b[0m     \"\"\"\n\u001b[0;32m-> 3744\u001b[0;31m     \u001b[0;32mreturn\u001b[0m \u001b[0m_default_graph_stack\u001b[0m\u001b[0;34m.\u001b[0m\u001b[0mget_controller\u001b[0m\u001b[0;34m(\u001b[0m\u001b[0mself\u001b[0m\u001b[0;34m)\u001b[0m\u001b[0;34m\u001b[0m\u001b[0;34m\u001b[0m\u001b[0m\n\u001b[0m\u001b[1;32m   3745\u001b[0m \u001b[0;34m\u001b[0m\u001b[0m\n\u001b[1;32m   3746\u001b[0m   \u001b[0;34m@\u001b[0m\u001b[0mproperty\u001b[0m\u001b[0;34m\u001b[0m\u001b[0;34m\u001b[0m\u001b[0m\n",
      "\u001b[0;32m~/anaconda3/lib/python3.6/contextlib.py\u001b[0m in \u001b[0;36mhelper\u001b[0;34m(*args, **kwds)\u001b[0m\n\u001b[1;32m    157\u001b[0m     \u001b[0;34m@\u001b[0m\u001b[0mwraps\u001b[0m\u001b[0;34m(\u001b[0m\u001b[0mfunc\u001b[0m\u001b[0;34m)\u001b[0m\u001b[0;34m\u001b[0m\u001b[0;34m\u001b[0m\u001b[0m\n\u001b[1;32m    158\u001b[0m     \u001b[0;32mdef\u001b[0m \u001b[0mhelper\u001b[0m\u001b[0;34m(\u001b[0m\u001b[0;34m*\u001b[0m\u001b[0margs\u001b[0m\u001b[0;34m,\u001b[0m \u001b[0;34m**\u001b[0m\u001b[0mkwds\u001b[0m\u001b[0;34m)\u001b[0m\u001b[0;34m:\u001b[0m\u001b[0;34m\u001b[0m\u001b[0;34m\u001b[0m\u001b[0m\n\u001b[0;32m--> 159\u001b[0;31m         \u001b[0;32mreturn\u001b[0m \u001b[0m_GeneratorContextManager\u001b[0m\u001b[0;34m(\u001b[0m\u001b[0mfunc\u001b[0m\u001b[0;34m,\u001b[0m \u001b[0margs\u001b[0m\u001b[0;34m,\u001b[0m \u001b[0mkwds\u001b[0m\u001b[0;34m)\u001b[0m\u001b[0;34m\u001b[0m\u001b[0;34m\u001b[0m\u001b[0m\n\u001b[0m\u001b[1;32m    160\u001b[0m     \u001b[0;32mreturn\u001b[0m \u001b[0mhelper\u001b[0m\u001b[0;34m\u001b[0m\u001b[0;34m\u001b[0m\u001b[0m\n\u001b[1;32m    161\u001b[0m \u001b[0;34m\u001b[0m\u001b[0m\n",
      "\u001b[0;32m~/anaconda3/lib/python3.6/contextlib.py\u001b[0m in \u001b[0;36m__init__\u001b[0;34m(self, func, args, kwds)\u001b[0m\n\u001b[1;32m     57\u001b[0m     \u001b[0;34m\"\"\"Helper for @contextmanager decorator.\"\"\"\u001b[0m\u001b[0;34m\u001b[0m\u001b[0;34m\u001b[0m\u001b[0m\n\u001b[1;32m     58\u001b[0m \u001b[0;34m\u001b[0m\u001b[0m\n\u001b[0;32m---> 59\u001b[0;31m     \u001b[0;32mdef\u001b[0m \u001b[0m__init__\u001b[0m\u001b[0;34m(\u001b[0m\u001b[0mself\u001b[0m\u001b[0;34m,\u001b[0m \u001b[0mfunc\u001b[0m\u001b[0;34m,\u001b[0m \u001b[0margs\u001b[0m\u001b[0;34m,\u001b[0m \u001b[0mkwds\u001b[0m\u001b[0;34m)\u001b[0m\u001b[0;34m:\u001b[0m\u001b[0;34m\u001b[0m\u001b[0;34m\u001b[0m\u001b[0m\n\u001b[0m\u001b[1;32m     60\u001b[0m         \u001b[0mself\u001b[0m\u001b[0;34m.\u001b[0m\u001b[0mgen\u001b[0m \u001b[0;34m=\u001b[0m \u001b[0mfunc\u001b[0m\u001b[0;34m(\u001b[0m\u001b[0;34m*\u001b[0m\u001b[0margs\u001b[0m\u001b[0;34m,\u001b[0m \u001b[0;34m**\u001b[0m\u001b[0mkwds\u001b[0m\u001b[0;34m)\u001b[0m\u001b[0;34m\u001b[0m\u001b[0;34m\u001b[0m\u001b[0m\n\u001b[1;32m     61\u001b[0m         \u001b[0mself\u001b[0m\u001b[0;34m.\u001b[0m\u001b[0mfunc\u001b[0m\u001b[0;34m,\u001b[0m \u001b[0mself\u001b[0m\u001b[0;34m.\u001b[0m\u001b[0margs\u001b[0m\u001b[0;34m,\u001b[0m \u001b[0mself\u001b[0m\u001b[0;34m.\u001b[0m\u001b[0mkwds\u001b[0m \u001b[0;34m=\u001b[0m \u001b[0mfunc\u001b[0m\u001b[0;34m,\u001b[0m \u001b[0margs\u001b[0m\u001b[0;34m,\u001b[0m \u001b[0mkwds\u001b[0m\u001b[0;34m\u001b[0m\u001b[0;34m\u001b[0m\u001b[0m\n",
      "\u001b[0;31mKeyboardInterrupt\u001b[0m: "
     ]
    }
   ],
   "source": [
    "## SPY\n",
    "model_a2c_spy = train_A2C(env_train_spy,\"model_single_stock/a2c_100k_spy\")"
   ]
  },
  {
   "cell_type": "code",
   "execution_count": 57,
   "metadata": {},
   "outputs": [
    {
     "name": "stdout",
     "output_type": "stream",
     "text": [
      "total_reward:19118.677694884944\n",
      "total_cost:  3344.0037352086247\n",
      "Sharpe:  0.5405981410450289\n",
      "total_reward:2448.3835527200717\n",
      "total_cost:  3121.950121199337\n",
      "Sharpe:  0.18651595651777894\n",
      "total_reward:32829.780418902985\n",
      "total_cost:  3411.1357033037916\n",
      "Sharpe:  0.4220934362746882\n",
      "total_reward:12384.001492792508\n",
      "total_cost:  3386.111057596298\n",
      "Sharpe:  0.48297786734346326\n",
      "total_reward:20837.805605155998\n",
      "total_cost:  3391.9283968694112\n",
      "Sharpe:  0.35885477216036693\n",
      "total_reward:14137.321585159982\n",
      "total_cost:  3100.7664952033892\n",
      "Sharpe:  0.38334684168190375\n",
      "total_reward:85056.02871418698\n",
      "total_cost:  3484.114884568235\n",
      "Sharpe:  0.46275319579255914\n",
      "total_reward:54853.80928723095\n",
      "total_cost:  3335.5807684790752\n",
      "Sharpe:  0.6465945060717162\n",
      "total_reward:237871.98242436838\n",
      "total_cost:  3628.735514064263\n",
      "Sharpe:  0.5791038162993638\n",
      "total_reward:196952.14854789944\n",
      "total_cost:  3637.4378035835775\n",
      "Sharpe:  0.613758049390474\n",
      "total_reward:20751.507067819708\n",
      "total_cost:  3488.344114737372\n",
      "Sharpe:  0.36028152455614676\n",
      "total_reward:271038.28098311275\n",
      "total_cost:  3761.0450710929786\n",
      "Sharpe:  0.5612831156270006\n",
      "total_reward:410500.30666778586\n",
      "total_cost:  3729.0032145991836\n",
      "Sharpe:  0.6461279438878998\n",
      "total_reward:69894.61895724083\n",
      "total_cost:  3592.0985899628467\n",
      "Sharpe:  0.641951221236227\n",
      "total_reward:60793.032223577145\n",
      "total_cost:  3524.8594349352093\n",
      "Sharpe:  0.5441603249004177\n",
      "total_reward:52869.12902713427\n",
      "total_cost:  3516.655038605298\n",
      "Sharpe:  0.5806893774527606\n",
      "total_reward:113639.8345064423\n",
      "total_cost:  3390.9353395327944\n",
      "Sharpe:  0.5361253643371181\n",
      "total_reward:16186.282837885548\n",
      "total_cost:  3321.9485965637873\n",
      "Sharpe:  0.4267536370655208\n",
      "total_reward:271472.4960406213\n",
      "total_cost:  3526.907944812571\n",
      "Sharpe:  0.5852135172081937\n",
      "total_reward:135733.2401978895\n",
      "total_cost:  3484.25931761641\n",
      "Sharpe:  0.6026500898353719\n",
      "total_reward:320923.5641293591\n",
      "total_cost:  3524.030937242247\n",
      "Sharpe:  0.6331850606171783\n",
      "total_reward:258577.40329069574\n",
      "total_cost:  3524.4536339747715\n",
      "Sharpe:  0.6035341525965997\n",
      "total_reward:301197.026525056\n",
      "total_cost:  3524.317314665634\n",
      "Sharpe:  0.6346175283338606\n",
      "total_reward:140236.85626571393\n",
      "total_cost:  3347.0354357527212\n",
      "Sharpe:  0.6748235319421744\n",
      "total_reward:32953.125742899836\n",
      "total_cost:  3144.935271802038\n",
      "Sharpe:  0.38314443105859597\n",
      "total_reward:239613.4342196444\n",
      "total_cost:  3410.083297462755\n",
      "Sharpe:  0.6101094114268465\n",
      "total_reward:165105.82726446958\n",
      "total_cost:  3364.4618065203244\n",
      "Sharpe:  0.58061753250246\n",
      "total_reward:221982.21897951048\n",
      "total_cost:  3416.069133013505\n",
      "Sharpe:  0.6137880077713774\n",
      "total_reward:104268.2153227115\n",
      "total_cost:  3364.6979685925744\n",
      "Sharpe:  0.6511578753479313\n",
      "total_reward:48452.24390734313\n",
      "total_cost:  3240.4352588092534\n",
      "Sharpe:  0.4101562528048461\n",
      "total_reward:394233.61686983635\n",
      "total_cost:  3587.1289446472224\n",
      "Sharpe:  0.6074054994286339\n",
      "total_reward:415724.13622552063\n",
      "total_cost:  3647.8163821477656\n",
      "Sharpe:  0.5716917759994317\n",
      "total_reward:724229.4709211523\n",
      "total_cost:  3458.917594304179\n",
      "Sharpe:  0.7047829886239358\n",
      "total_reward:784835.6003785473\n",
      "total_cost:  3271.0022453884503\n",
      "Sharpe:  0.7142326553047006\n",
      "total_reward:801679.7398293996\n",
      "total_cost:  3693.183730274234\n",
      "Sharpe:  0.7161721944808039\n",
      "total_reward:803924.4096345785\n",
      "total_cost:  4224.879923212673\n",
      "Sharpe:  0.7157141667716455\n",
      "total_reward:803785.1370581142\n",
      "total_cost:  4327.591741710134\n",
      "Sharpe:  0.7158304971648614\n",
      "total_reward:801921.359065061\n",
      "total_cost:  4248.983637936951\n",
      "Sharpe:  0.715783510787816\n",
      "total_reward:783375.3520053027\n",
      "total_cost:  4170.058308475792\n",
      "Sharpe:  0.7168399731067941\n",
      "total_reward:774739.5965831138\n",
      "total_cost:  4146.7869523154195\n",
      "Sharpe:  0.712158895173411\n",
      "total_reward:773548.2138324613\n",
      "total_cost:  4144.995263043011\n",
      "Sharpe:  0.7133459720247681\n",
      "total_reward:668731.844794153\n",
      "total_cost:  3938.173159273652\n",
      "Sharpe:  0.694008993717293\n",
      "total_reward:761389.5347095157\n",
      "total_cost:  4098.330322727541\n",
      "Sharpe:  0.7167783549531959\n",
      "total_reward:769324.1779493564\n",
      "total_cost:  4189.678346925193\n",
      "Sharpe:  0.7152895086046649\n",
      "total_reward:800103.3323791872\n",
      "total_cost:  4230.050192067199\n",
      "Sharpe:  0.716254274420463\n",
      "total_reward:805554.4407175623\n",
      "total_cost:  2853.858008280378\n",
      "Sharpe:  0.7171405355106442\n",
      "total_reward:804725.4762404277\n",
      "total_cost:  2382.9171336066656\n",
      "Sharpe:  0.7170383488024935\n",
      "total_reward:806752.201032311\n",
      "total_cost:  2636.925661897646\n",
      "Sharpe:  0.7171709346856309\n",
      "total_reward:807278.6337432631\n",
      "total_cost:  2172.860652501783\n",
      "Sharpe:  0.7176262369099634\n",
      "3.028403703371684  minutes\n"
     ]
    }
   ],
   "source": [
    "## DIA\n",
    "model_a2c_dia = train_A2C(env_train_dia,\"model_single_stock/a2c_100k_dia\")"
   ]
  },
  {
   "cell_type": "code",
   "execution_count": 60,
   "metadata": {
    "scrolled": true
   },
   "outputs": [
    {
     "name": "stdout",
     "output_type": "stream",
     "text": [
      "total_reward:8606.809082269436\n",
      "total_cost:  1809.6625817607608\n",
      "Sharpe:  0.5613785291356848\n",
      "total_reward:9680.899460418965\n",
      "total_cost:  1715.2769775947338\n",
      "Sharpe:  0.40576562639470326\n",
      "total_reward:113716.86448629783\n",
      "total_cost:  1973.5423402773806\n",
      "Sharpe:  0.4567795152706983\n",
      "total_reward:19275.812539042323\n",
      "total_cost:  1685.14914657257\n",
      "Sharpe:  0.5819582808032419\n",
      "total_reward:78363.04807032458\n",
      "total_cost:  1841.5272523312055\n",
      "Sharpe:  0.5314587306560044\n",
      "total_reward:196082.92863848712\n",
      "total_cost:  1893.0572016021933\n",
      "Sharpe:  0.732425378733632\n",
      "total_reward:372826.1313262768\n",
      "total_cost:  2322.4338756548973\n",
      "Sharpe:  0.5939476230409485\n",
      "total_reward:418262.1017721698\n",
      "total_cost:  1993.7642828608716\n",
      "Sharpe:  0.7359116118770986\n",
      "total_reward:325990.18610309507\n",
      "total_cost:  1962.5062470572293\n",
      "Sharpe:  0.6710683292862135\n",
      "total_reward:219977.81923000002\n",
      "total_cost:  1955.566884147022\n",
      "Sharpe:  0.5971914457610229\n",
      "total_reward:362229.84729074873\n",
      "total_cost:  1989.7431844936295\n",
      "Sharpe:  0.6814153182186127\n",
      "total_reward:380160.2341746297\n",
      "total_cost:  1855.9404813958338\n",
      "Sharpe:  0.7538079209987619\n",
      "total_reward:31506.296692866134\n",
      "total_cost:  1751.4310677902413\n",
      "Sharpe:  0.4443575589514699\n",
      "total_reward:79489.65427302755\n",
      "total_cost:  1704.3542053277492\n",
      "Sharpe:  0.5705498326983419\n",
      "total_reward:468780.2836278074\n",
      "total_cost:  2199.273939562077\n",
      "Sharpe:  0.6588390327167978\n",
      "total_reward:609577.8871952046\n",
      "total_cost:  2212.1140546492147\n",
      "Sharpe:  0.7202281042048368\n",
      "total_reward:422567.007254404\n",
      "total_cost:  1991.9830174619347\n",
      "Sharpe:  0.6881770717753178\n",
      "total_reward:247605.2848121568\n",
      "total_cost:  1824.6990357708173\n",
      "Sharpe:  0.6259178475922729\n",
      "total_reward:429848.94495375105\n",
      "total_cost:  2177.9988587506705\n",
      "Sharpe:  0.6430067146383901\n",
      "total_reward:619971.071432011\n",
      "total_cost:  2163.154432724634\n",
      "Sharpe:  0.7237197991199887\n",
      "total_reward:676834.7841699121\n",
      "total_cost:  2280.857804986584\n",
      "Sharpe:  0.7166577438782685\n",
      "total_reward:751788.9897168386\n",
      "total_cost:  2131.2894569424634\n",
      "Sharpe:  0.7315226466136999\n",
      "total_reward:823236.6350110308\n",
      "total_cost:  2041.8570279959793\n",
      "Sharpe:  0.758371580097702\n",
      "total_reward:677242.7829672403\n",
      "total_cost:  2145.099474109991\n",
      "Sharpe:  0.7217481754310024\n",
      "total_reward:728477.7182644124\n",
      "total_cost:  2033.2991026751959\n",
      "Sharpe:  0.7219473507000702\n",
      "total_reward:829233.7052156362\n",
      "total_cost:  2002.092251924728\n",
      "Sharpe:  0.760710884358979\n",
      "total_reward:799305.2599941508\n",
      "total_cost:  2124.2616998421004\n",
      "Sharpe:  0.7637158394687307\n",
      "total_reward:671745.0666708618\n",
      "total_cost:  2059.073143870461\n",
      "Sharpe:  0.6972951874120497\n",
      "total_reward:789811.5345638937\n",
      "total_cost:  2006.6970125653631\n",
      "Sharpe:  0.746207112876038\n",
      "total_reward:849849.1793318114\n",
      "total_cost:  1996.3455648830482\n",
      "Sharpe:  0.7671882501523357\n",
      "total_reward:851383.7009649905\n",
      "total_cost:  1996.699078930026\n",
      "Sharpe:  0.7677565890992656\n",
      "total_reward:851428.3204579998\n",
      "total_cost:  1995.8885419999988\n",
      "Sharpe:  0.767773197663911\n",
      "total_reward:851428.3204579998\n",
      "total_cost:  1995.8885419999988\n",
      "Sharpe:  0.767773197663911\n",
      "total_reward:851428.3204579998\n",
      "total_cost:  1995.8885419999988\n",
      "Sharpe:  0.767773197663911\n",
      "total_reward:851428.3204579998\n",
      "total_cost:  1995.8885419999988\n",
      "Sharpe:  0.767773197663911\n",
      "total_reward:851428.3204579998\n",
      "total_cost:  1995.8885419999988\n",
      "Sharpe:  0.767773197663911\n",
      "total_reward:851428.3204579998\n",
      "total_cost:  1995.8885419999988\n",
      "Sharpe:  0.767773197663911\n",
      "total_reward:851428.3204579998\n",
      "total_cost:  1995.8885419999988\n",
      "Sharpe:  0.767773197663911\n",
      "total_reward:851428.3204579998\n",
      "total_cost:  1995.8885419999988\n",
      "Sharpe:  0.767773197663911\n",
      "total_reward:851428.3204579998\n",
      "total_cost:  1995.8885419999988\n",
      "Sharpe:  0.767773197663911\n",
      "total_reward:851428.3204579998\n",
      "total_cost:  1995.8885419999988\n",
      "Sharpe:  0.767773197663911\n",
      "total_reward:851428.3204579998\n",
      "total_cost:  1995.8885419999988\n",
      "Sharpe:  0.767773197663911\n",
      "total_reward:851428.3204579998\n",
      "total_cost:  1995.8885419999988\n",
      "Sharpe:  0.767773197663911\n",
      "total_reward:851428.3204579998\n",
      "total_cost:  1995.8885419999988\n",
      "Sharpe:  0.767773197663911\n",
      "total_reward:851428.3204579998\n",
      "total_cost:  1995.8885419999988\n",
      "Sharpe:  0.767773197663911\n",
      "total_reward:851428.3204579998\n",
      "total_cost:  1995.8885419999988\n",
      "Sharpe:  0.767773197663911\n",
      "total_reward:851428.3204579998\n",
      "total_cost:  1995.8885419999988\n",
      "Sharpe:  0.767773197663911\n",
      "total_reward:851428.3204579998\n",
      "total_cost:  1995.8885419999988\n",
      "Sharpe:  0.767773197663911\n",
      "total_reward:851428.3204579998\n",
      "total_cost:  1995.8885419999988\n",
      "Sharpe:  0.767773197663911\n",
      "2.9000322659810385  minutes\n"
     ]
    }
   ],
   "source": [
    "## QQQ\n",
    "model_a2c_qqq = train_A2C(env_train_qqq,\"model_single_stock/a2c_100k_qqq\")"
   ]
  },
  {
   "cell_type": "code",
   "execution_count": 38,
   "metadata": {
    "collapsed": true,
    "scrolled": false
   },
   "outputs": [
    {
     "name": "stdout",
     "output_type": "stream",
     "text": [
      "total_reward:-794885.1552156155\n",
      "total_cost:  29341.07993657787\n",
      "Sharpe:  -0.17459315697291283\n",
      "total_reward:427147.26645260537\n",
      "total_cost:  24361.784935351105\n",
      "Sharpe:  0.35568196393746093\n",
      "total_reward:3139072.8431193368\n",
      "total_cost:  31624.20921243\n",
      "Sharpe:  0.3649999157430027\n",
      "total_reward:-13744.166846130742\n",
      "total_cost:  446.50998239225567\n",
      "Sharpe:  -0.44611757310723\n",
      "total_reward:-13861.88684860291\n",
      "total_cost:  406.17647569977044\n",
      "Sharpe:  -0.38160030568266634\n",
      "total_reward:70595.27092608041\n",
      "total_cost:  3056.7839569989496\n",
      "Sharpe:  0.25713636397501094\n",
      "total_reward:-678.9995052330196\n",
      "total_cost:  45.46461798257542\n",
      "Sharpe:  -0.3856129395742353\n",
      "total_reward:-2371.0604021097533\n",
      "total_cost:  100.32585608841323\n",
      "Sharpe:  -0.3922096479598677\n",
      "total_reward:-2889.201483710436\n",
      "total_cost:  120.59224320459366\n",
      "Sharpe:  -0.3915708537134094\n",
      "total_reward:-21.033870738814585\n",
      "total_cost:  2.7236771491050717\n",
      "Sharpe:  -0.09224911413015485\n",
      "total_reward:-1288.9757018142845\n",
      "total_cost:  27.76357271118164\n",
      "Sharpe:  -0.39465585725076985\n",
      "total_reward:-12.231489628902636\n",
      "total_cost:  2.5609338790893554\n",
      "Sharpe:  -0.417833091555619\n",
      "total_reward:-3969.219678290887\n",
      "total_cost:  89.75560618200302\n",
      "Sharpe:  -0.3836498853715348\n",
      "total_reward:12.632741359295323\n",
      "total_cost:  0.9631202750205993\n",
      "Sharpe:  0.47118028940290535\n",
      "total_reward:3317.716992725036\n",
      "total_cost:  412.0328359072685\n",
      "Sharpe:  0.41592208175982026\n",
      "total_reward:-1460.816101416829\n",
      "total_cost:  96.25697103719712\n",
      "Sharpe:  -0.42214226256813503\n",
      "total_reward:571.7743248207262\n",
      "total_cost:  47.896079160594944\n",
      "Sharpe:  0.39006659211862077\n",
      "total_reward:1061.6017586870585\n",
      "total_cost:  203.9865394628544\n",
      "Sharpe:  0.28333836818227076\n",
      "total_reward:1035.9342780105071\n",
      "total_cost:  1708.4002973652841\n",
      "Sharpe:  0.030291221391372157\n",
      "total_reward:-671.3691420360701\n",
      "total_cost:  45.895292911386484\n",
      "Sharpe:  -0.4944541095047278\n",
      "total_reward:0.8075803191168234\n",
      "total_cost:  2.1127138572883606\n",
      "Sharpe:  0.023625152144112867\n"
     ]
    },
    {
     "ename": "KeyboardInterrupt",
     "evalue": "",
     "output_type": "error",
     "traceback": [
      "\u001b[0;31m---------------------------------------------------------------------------\u001b[0m",
      "\u001b[0;31mKeyboardInterrupt\u001b[0m                         Traceback (most recent call last)",
      "\u001b[0;32m<ipython-input-38-cff9d276c41d>\u001b[0m in \u001b[0;36m<module>\u001b[0;34m\u001b[0m\n\u001b[1;32m      1\u001b[0m \u001b[0;31m## TVIX\u001b[0m\u001b[0;34m\u001b[0m\u001b[0;34m\u001b[0m\u001b[0;34m\u001b[0m\u001b[0m\n\u001b[0;32m----> 2\u001b[0;31m \u001b[0mmodel_a2c_tvix\u001b[0m \u001b[0;34m=\u001b[0m \u001b[0mtrain_A2C\u001b[0m\u001b[0;34m(\u001b[0m\u001b[0menv_train_tvix\u001b[0m\u001b[0;34m,\u001b[0m\u001b[0;34m\"model_single_stock/a2c_100k_tvix\"\u001b[0m\u001b[0;34m)\u001b[0m\u001b[0;34m\u001b[0m\u001b[0;34m\u001b[0m\u001b[0m\n\u001b[0m",
      "\u001b[0;32m<ipython-input-36-1e729bbd9e4f>\u001b[0m in \u001b[0;36mtrain_A2C\u001b[0;34m(env_train, model_save_path)\u001b[0m\n\u001b[1;32m      2\u001b[0m     \u001b[0mstart\u001b[0m \u001b[0;34m=\u001b[0m \u001b[0mtime\u001b[0m\u001b[0;34m.\u001b[0m\u001b[0mtime\u001b[0m\u001b[0;34m(\u001b[0m\u001b[0;34m)\u001b[0m\u001b[0;34m\u001b[0m\u001b[0;34m\u001b[0m\u001b[0m\n\u001b[1;32m      3\u001b[0m     \u001b[0mmodel_a2c\u001b[0m \u001b[0;34m=\u001b[0m \u001b[0mA2C\u001b[0m\u001b[0;34m(\u001b[0m\u001b[0;34m'MlpPolicy'\u001b[0m\u001b[0;34m,\u001b[0m \u001b[0menv_train\u001b[0m\u001b[0;34m,\u001b[0m \u001b[0mverbose\u001b[0m\u001b[0;34m=\u001b[0m\u001b[0;36m0\u001b[0m\u001b[0;34m)\u001b[0m\u001b[0;34m\u001b[0m\u001b[0;34m\u001b[0m\u001b[0m\n\u001b[0;32m----> 4\u001b[0;31m     \u001b[0mmodel_a2c\u001b[0m\u001b[0;34m.\u001b[0m\u001b[0mlearn\u001b[0m\u001b[0;34m(\u001b[0m\u001b[0;36m100000\u001b[0m\u001b[0;34m)\u001b[0m\u001b[0;34m\u001b[0m\u001b[0;34m\u001b[0m\u001b[0m\n\u001b[0m\u001b[1;32m      5\u001b[0m     \u001b[0mend\u001b[0m \u001b[0;34m=\u001b[0m \u001b[0mtime\u001b[0m\u001b[0;34m.\u001b[0m\u001b[0mtime\u001b[0m\u001b[0;34m(\u001b[0m\u001b[0;34m)\u001b[0m\u001b[0;34m\u001b[0m\u001b[0;34m\u001b[0m\u001b[0m\n\u001b[1;32m      6\u001b[0m     \u001b[0mmodel_a2c\u001b[0m\u001b[0;34m.\u001b[0m\u001b[0msave\u001b[0m\u001b[0;34m(\u001b[0m\u001b[0mmodel_save_path\u001b[0m\u001b[0;34m)\u001b[0m\u001b[0;34m\u001b[0m\u001b[0;34m\u001b[0m\u001b[0m\n",
      "\u001b[0;32m~/anaconda3/lib/python3.6/site-packages/stable_baselines/a2c/a2c.py\u001b[0m in \u001b[0;36mlearn\u001b[0;34m(self, total_timesteps, callback, log_interval, tb_log_name, reset_num_timesteps)\u001b[0m\n\u001b[1;32m    259\u001b[0m                 \u001b[0mcallback\u001b[0m\u001b[0;34m.\u001b[0m\u001b[0mon_rollout_start\u001b[0m\u001b[0;34m(\u001b[0m\u001b[0;34m)\u001b[0m\u001b[0;34m\u001b[0m\u001b[0;34m\u001b[0m\u001b[0m\n\u001b[1;32m    260\u001b[0m                 \u001b[0;31m# true_reward is the reward without discount\u001b[0m\u001b[0;34m\u001b[0m\u001b[0;34m\u001b[0m\u001b[0;34m\u001b[0m\u001b[0m\n\u001b[0;32m--> 261\u001b[0;31m                 \u001b[0mrollout\u001b[0m \u001b[0;34m=\u001b[0m \u001b[0mself\u001b[0m\u001b[0;34m.\u001b[0m\u001b[0mrunner\u001b[0m\u001b[0;34m.\u001b[0m\u001b[0mrun\u001b[0m\u001b[0;34m(\u001b[0m\u001b[0mcallback\u001b[0m\u001b[0;34m)\u001b[0m\u001b[0;34m\u001b[0m\u001b[0;34m\u001b[0m\u001b[0m\n\u001b[0m\u001b[1;32m    262\u001b[0m                 \u001b[0;31m# unpack\u001b[0m\u001b[0;34m\u001b[0m\u001b[0;34m\u001b[0m\u001b[0;34m\u001b[0m\u001b[0m\n\u001b[1;32m    263\u001b[0m                 \u001b[0mobs\u001b[0m\u001b[0;34m,\u001b[0m \u001b[0mstates\u001b[0m\u001b[0;34m,\u001b[0m \u001b[0mrewards\u001b[0m\u001b[0;34m,\u001b[0m \u001b[0mmasks\u001b[0m\u001b[0;34m,\u001b[0m \u001b[0mactions\u001b[0m\u001b[0;34m,\u001b[0m \u001b[0mvalues\u001b[0m\u001b[0;34m,\u001b[0m \u001b[0mep_infos\u001b[0m\u001b[0;34m,\u001b[0m \u001b[0mtrue_reward\u001b[0m \u001b[0;34m=\u001b[0m \u001b[0mrollout\u001b[0m\u001b[0;34m\u001b[0m\u001b[0;34m\u001b[0m\u001b[0m\n",
      "\u001b[0;32m~/anaconda3/lib/python3.6/site-packages/stable_baselines/common/runners.py\u001b[0m in \u001b[0;36mrun\u001b[0;34m(self, callback)\u001b[0m\n\u001b[1;32m     46\u001b[0m         \u001b[0mself\u001b[0m\u001b[0;34m.\u001b[0m\u001b[0mcallback\u001b[0m \u001b[0;34m=\u001b[0m \u001b[0mcallback\u001b[0m\u001b[0;34m\u001b[0m\u001b[0;34m\u001b[0m\u001b[0m\n\u001b[1;32m     47\u001b[0m         \u001b[0mself\u001b[0m\u001b[0;34m.\u001b[0m\u001b[0mcontinue_training\u001b[0m \u001b[0;34m=\u001b[0m \u001b[0;32mTrue\u001b[0m\u001b[0;34m\u001b[0m\u001b[0;34m\u001b[0m\u001b[0m\n\u001b[0;32m---> 48\u001b[0;31m         \u001b[0;32mreturn\u001b[0m \u001b[0mself\u001b[0m\u001b[0;34m.\u001b[0m\u001b[0m_run\u001b[0m\u001b[0;34m(\u001b[0m\u001b[0;34m)\u001b[0m\u001b[0;34m\u001b[0m\u001b[0;34m\u001b[0m\u001b[0m\n\u001b[0m\u001b[1;32m     49\u001b[0m \u001b[0;34m\u001b[0m\u001b[0m\n\u001b[1;32m     50\u001b[0m     \u001b[0;34m@\u001b[0m\u001b[0mabstractmethod\u001b[0m\u001b[0;34m\u001b[0m\u001b[0;34m\u001b[0m\u001b[0m\n",
      "\u001b[0;32m~/anaconda3/lib/python3.6/site-packages/stable_baselines/a2c/a2c.py\u001b[0m in \u001b[0;36m_run\u001b[0;34m(self)\u001b[0m\n\u001b[1;32m    358\u001b[0m             \u001b[0;32mif\u001b[0m \u001b[0misinstance\u001b[0m\u001b[0;34m(\u001b[0m\u001b[0mself\u001b[0m\u001b[0;34m.\u001b[0m\u001b[0menv\u001b[0m\u001b[0;34m.\u001b[0m\u001b[0maction_space\u001b[0m\u001b[0;34m,\u001b[0m \u001b[0mgym\u001b[0m\u001b[0;34m.\u001b[0m\u001b[0mspaces\u001b[0m\u001b[0;34m.\u001b[0m\u001b[0mBox\u001b[0m\u001b[0;34m)\u001b[0m\u001b[0;34m:\u001b[0m\u001b[0;34m\u001b[0m\u001b[0;34m\u001b[0m\u001b[0m\n\u001b[1;32m    359\u001b[0m                 \u001b[0mclipped_actions\u001b[0m \u001b[0;34m=\u001b[0m \u001b[0mnp\u001b[0m\u001b[0;34m.\u001b[0m\u001b[0mclip\u001b[0m\u001b[0;34m(\u001b[0m\u001b[0mactions\u001b[0m\u001b[0;34m,\u001b[0m \u001b[0mself\u001b[0m\u001b[0;34m.\u001b[0m\u001b[0menv\u001b[0m\u001b[0;34m.\u001b[0m\u001b[0maction_space\u001b[0m\u001b[0;34m.\u001b[0m\u001b[0mlow\u001b[0m\u001b[0;34m,\u001b[0m \u001b[0mself\u001b[0m\u001b[0;34m.\u001b[0m\u001b[0menv\u001b[0m\u001b[0;34m.\u001b[0m\u001b[0maction_space\u001b[0m\u001b[0;34m.\u001b[0m\u001b[0mhigh\u001b[0m\u001b[0;34m)\u001b[0m\u001b[0;34m\u001b[0m\u001b[0;34m\u001b[0m\u001b[0m\n\u001b[0;32m--> 360\u001b[0;31m             \u001b[0mobs\u001b[0m\u001b[0;34m,\u001b[0m \u001b[0mrewards\u001b[0m\u001b[0;34m,\u001b[0m \u001b[0mdones\u001b[0m\u001b[0;34m,\u001b[0m \u001b[0minfos\u001b[0m \u001b[0;34m=\u001b[0m \u001b[0mself\u001b[0m\u001b[0;34m.\u001b[0m\u001b[0menv\u001b[0m\u001b[0;34m.\u001b[0m\u001b[0mstep\u001b[0m\u001b[0;34m(\u001b[0m\u001b[0mclipped_actions\u001b[0m\u001b[0;34m)\u001b[0m\u001b[0;34m\u001b[0m\u001b[0;34m\u001b[0m\u001b[0m\n\u001b[0m\u001b[1;32m    361\u001b[0m \u001b[0;34m\u001b[0m\u001b[0m\n\u001b[1;32m    362\u001b[0m             \u001b[0mself\u001b[0m\u001b[0;34m.\u001b[0m\u001b[0mmodel\u001b[0m\u001b[0;34m.\u001b[0m\u001b[0mnum_timesteps\u001b[0m \u001b[0;34m+=\u001b[0m \u001b[0mself\u001b[0m\u001b[0;34m.\u001b[0m\u001b[0mn_envs\u001b[0m\u001b[0;34m\u001b[0m\u001b[0;34m\u001b[0m\u001b[0m\n",
      "\u001b[0;32m~/anaconda3/lib/python3.6/site-packages/stable_baselines/common/vec_env/base_vec_env.py\u001b[0m in \u001b[0;36mstep\u001b[0;34m(self, actions)\u001b[0m\n\u001b[1;32m    148\u001b[0m         \"\"\"\n\u001b[1;32m    149\u001b[0m         \u001b[0mself\u001b[0m\u001b[0;34m.\u001b[0m\u001b[0mstep_async\u001b[0m\u001b[0;34m(\u001b[0m\u001b[0mactions\u001b[0m\u001b[0;34m)\u001b[0m\u001b[0;34m\u001b[0m\u001b[0;34m\u001b[0m\u001b[0m\n\u001b[0;32m--> 150\u001b[0;31m         \u001b[0;32mreturn\u001b[0m \u001b[0mself\u001b[0m\u001b[0;34m.\u001b[0m\u001b[0mstep_wait\u001b[0m\u001b[0;34m(\u001b[0m\u001b[0;34m)\u001b[0m\u001b[0;34m\u001b[0m\u001b[0;34m\u001b[0m\u001b[0m\n\u001b[0m\u001b[1;32m    151\u001b[0m \u001b[0;34m\u001b[0m\u001b[0m\n\u001b[1;32m    152\u001b[0m     \u001b[0;32mdef\u001b[0m \u001b[0mget_images\u001b[0m\u001b[0;34m(\u001b[0m\u001b[0mself\u001b[0m\u001b[0;34m,\u001b[0m \u001b[0;34m*\u001b[0m\u001b[0margs\u001b[0m\u001b[0;34m,\u001b[0m \u001b[0;34m**\u001b[0m\u001b[0mkwargs\u001b[0m\u001b[0;34m)\u001b[0m \u001b[0;34m->\u001b[0m \u001b[0mSequence\u001b[0m\u001b[0;34m[\u001b[0m\u001b[0mnp\u001b[0m\u001b[0;34m.\u001b[0m\u001b[0mndarray\u001b[0m\u001b[0;34m]\u001b[0m\u001b[0;34m:\u001b[0m\u001b[0;34m\u001b[0m\u001b[0;34m\u001b[0m\u001b[0m\n",
      "\u001b[0;32m~/anaconda3/lib/python3.6/site-packages/stable_baselines/common/vec_env/dummy_vec_env.py\u001b[0m in \u001b[0;36mstep_wait\u001b[0;34m(self)\u001b[0m\n\u001b[1;32m     40\u001b[0m         \u001b[0;32mfor\u001b[0m \u001b[0menv_idx\u001b[0m \u001b[0;32min\u001b[0m \u001b[0mrange\u001b[0m\u001b[0;34m(\u001b[0m\u001b[0mself\u001b[0m\u001b[0;34m.\u001b[0m\u001b[0mnum_envs\u001b[0m\u001b[0;34m)\u001b[0m\u001b[0;34m:\u001b[0m\u001b[0;34m\u001b[0m\u001b[0;34m\u001b[0m\u001b[0m\n\u001b[1;32m     41\u001b[0m             \u001b[0mobs\u001b[0m\u001b[0;34m,\u001b[0m \u001b[0mself\u001b[0m\u001b[0;34m.\u001b[0m\u001b[0mbuf_rews\u001b[0m\u001b[0;34m[\u001b[0m\u001b[0menv_idx\u001b[0m\u001b[0;34m]\u001b[0m\u001b[0;34m,\u001b[0m \u001b[0mself\u001b[0m\u001b[0;34m.\u001b[0m\u001b[0mbuf_dones\u001b[0m\u001b[0;34m[\u001b[0m\u001b[0menv_idx\u001b[0m\u001b[0;34m]\u001b[0m\u001b[0;34m,\u001b[0m \u001b[0mself\u001b[0m\u001b[0;34m.\u001b[0m\u001b[0mbuf_infos\u001b[0m\u001b[0;34m[\u001b[0m\u001b[0menv_idx\u001b[0m\u001b[0;34m]\u001b[0m \u001b[0;34m=\u001b[0m\u001b[0;31m\\\u001b[0m\u001b[0;34m\u001b[0m\u001b[0;34m\u001b[0m\u001b[0m\n\u001b[0;32m---> 42\u001b[0;31m                 \u001b[0mself\u001b[0m\u001b[0;34m.\u001b[0m\u001b[0menvs\u001b[0m\u001b[0;34m[\u001b[0m\u001b[0menv_idx\u001b[0m\u001b[0;34m]\u001b[0m\u001b[0;34m.\u001b[0m\u001b[0mstep\u001b[0m\u001b[0;34m(\u001b[0m\u001b[0mself\u001b[0m\u001b[0;34m.\u001b[0m\u001b[0mactions\u001b[0m\u001b[0;34m[\u001b[0m\u001b[0menv_idx\u001b[0m\u001b[0;34m]\u001b[0m\u001b[0;34m)\u001b[0m\u001b[0;34m\u001b[0m\u001b[0;34m\u001b[0m\u001b[0m\n\u001b[0m\u001b[1;32m     43\u001b[0m             \u001b[0;32mif\u001b[0m \u001b[0mself\u001b[0m\u001b[0;34m.\u001b[0m\u001b[0mbuf_dones\u001b[0m\u001b[0;34m[\u001b[0m\u001b[0menv_idx\u001b[0m\u001b[0;34m]\u001b[0m\u001b[0;34m:\u001b[0m\u001b[0;34m\u001b[0m\u001b[0;34m\u001b[0m\u001b[0m\n\u001b[1;32m     44\u001b[0m                 \u001b[0;31m# save final observation where user can get it, then reset\u001b[0m\u001b[0;34m\u001b[0m\u001b[0;34m\u001b[0m\u001b[0;34m\u001b[0m\u001b[0m\n",
      "\u001b[0;32m~/Documents/GitHub/DRL_Stock_Trading_ICAIF/env/StockTradingRLEnvSingleStock.py\u001b[0m in \u001b[0;36mstep\u001b[0;34m(self, actions)\u001b[0m\n\u001b[1;32m     89\u001b[0m     \u001b[0;32mdef\u001b[0m \u001b[0mstep\u001b[0m\u001b[0;34m(\u001b[0m\u001b[0mself\u001b[0m\u001b[0;34m,\u001b[0m \u001b[0mactions\u001b[0m\u001b[0;34m)\u001b[0m\u001b[0;34m:\u001b[0m\u001b[0;34m\u001b[0m\u001b[0;34m\u001b[0m\u001b[0m\n\u001b[1;32m     90\u001b[0m         \u001b[0;31m# print(self.day)\u001b[0m\u001b[0;34m\u001b[0m\u001b[0;34m\u001b[0m\u001b[0;34m\u001b[0m\u001b[0m\n\u001b[0;32m---> 91\u001b[0;31m         \u001b[0mself\u001b[0m\u001b[0;34m.\u001b[0m\u001b[0mterminal\u001b[0m \u001b[0;34m=\u001b[0m \u001b[0mself\u001b[0m\u001b[0;34m.\u001b[0m\u001b[0mday\u001b[0m \u001b[0;34m>=\u001b[0m \u001b[0mlen\u001b[0m\u001b[0;34m(\u001b[0m\u001b[0mself\u001b[0m\u001b[0;34m.\u001b[0m\u001b[0mdf\u001b[0m\u001b[0;34m.\u001b[0m\u001b[0mindex\u001b[0m\u001b[0;34m.\u001b[0m\u001b[0munique\u001b[0m\u001b[0;34m(\u001b[0m\u001b[0;34m)\u001b[0m\u001b[0;34m)\u001b[0m\u001b[0;34m-\u001b[0m\u001b[0;36m1\u001b[0m\u001b[0;34m\u001b[0m\u001b[0;34m\u001b[0m\u001b[0m\n\u001b[0m\u001b[1;32m     92\u001b[0m         \u001b[0;31m# print(actions)\u001b[0m\u001b[0;34m\u001b[0m\u001b[0;34m\u001b[0m\u001b[0;34m\u001b[0m\u001b[0m\n\u001b[1;32m     93\u001b[0m \u001b[0;34m\u001b[0m\u001b[0m\n",
      "\u001b[0;32m~/anaconda3/lib/python3.6/site-packages/pandas/core/indexes/base.py\u001b[0m in \u001b[0;36munique\u001b[0;34m(self, level)\u001b[0m\n\u001b[1;32m   1973\u001b[0m             \u001b[0mself\u001b[0m\u001b[0;34m.\u001b[0m\u001b[0m_validate_index_level\u001b[0m\u001b[0;34m(\u001b[0m\u001b[0mlevel\u001b[0m\u001b[0;34m)\u001b[0m\u001b[0;34m\u001b[0m\u001b[0;34m\u001b[0m\u001b[0m\n\u001b[1;32m   1974\u001b[0m         \u001b[0mresult\u001b[0m \u001b[0;34m=\u001b[0m \u001b[0msuper\u001b[0m\u001b[0;34m(\u001b[0m\u001b[0;34m)\u001b[0m\u001b[0;34m.\u001b[0m\u001b[0munique\u001b[0m\u001b[0;34m(\u001b[0m\u001b[0;34m)\u001b[0m\u001b[0;34m\u001b[0m\u001b[0;34m\u001b[0m\u001b[0m\n\u001b[0;32m-> 1975\u001b[0;31m         \u001b[0;32mreturn\u001b[0m \u001b[0mself\u001b[0m\u001b[0;34m.\u001b[0m\u001b[0m_shallow_copy\u001b[0m\u001b[0;34m(\u001b[0m\u001b[0mresult\u001b[0m\u001b[0;34m)\u001b[0m\u001b[0;34m\u001b[0m\u001b[0;34m\u001b[0m\u001b[0m\n\u001b[0m\u001b[1;32m   1976\u001b[0m \u001b[0;34m\u001b[0m\u001b[0m\n\u001b[1;32m   1977\u001b[0m     \u001b[0;32mdef\u001b[0m \u001b[0mdrop_duplicates\u001b[0m\u001b[0;34m(\u001b[0m\u001b[0mself\u001b[0m\u001b[0;34m,\u001b[0m \u001b[0mkeep\u001b[0m\u001b[0;34m=\u001b[0m\u001b[0;34m\"first\"\u001b[0m\u001b[0;34m)\u001b[0m\u001b[0;34m:\u001b[0m\u001b[0;34m\u001b[0m\u001b[0;34m\u001b[0m\u001b[0m\n",
      "\u001b[0;32m~/anaconda3/lib/python3.6/site-packages/pandas/core/indexes/numeric.py\u001b[0m in \u001b[0;36m_shallow_copy\u001b[0;34m(self, values, **kwargs)\u001b[0m\n\u001b[1;32m    109\u001b[0m         \u001b[0;32mif\u001b[0m \u001b[0mvalues\u001b[0m \u001b[0;32mis\u001b[0m \u001b[0;32mnot\u001b[0m \u001b[0;32mNone\u001b[0m \u001b[0;32mand\u001b[0m \u001b[0;32mnot\u001b[0m \u001b[0mself\u001b[0m\u001b[0;34m.\u001b[0m\u001b[0m_can_hold_na\u001b[0m\u001b[0;34m:\u001b[0m\u001b[0;34m\u001b[0m\u001b[0;34m\u001b[0m\u001b[0m\n\u001b[1;32m    110\u001b[0m             \u001b[0;31m# Ensure we are not returning an Int64Index with float data:\u001b[0m\u001b[0;34m\u001b[0m\u001b[0;34m\u001b[0m\u001b[0;34m\u001b[0m\u001b[0m\n\u001b[0;32m--> 111\u001b[0;31m             \u001b[0;32mreturn\u001b[0m \u001b[0mself\u001b[0m\u001b[0;34m.\u001b[0m\u001b[0m_shallow_copy_with_infer\u001b[0m\u001b[0;34m(\u001b[0m\u001b[0mvalues\u001b[0m\u001b[0;34m=\u001b[0m\u001b[0mvalues\u001b[0m\u001b[0;34m,\u001b[0m \u001b[0;34m**\u001b[0m\u001b[0mkwargs\u001b[0m\u001b[0;34m)\u001b[0m\u001b[0;34m\u001b[0m\u001b[0;34m\u001b[0m\u001b[0m\n\u001b[0m\u001b[1;32m    112\u001b[0m         \u001b[0;32mreturn\u001b[0m \u001b[0msuper\u001b[0m\u001b[0;34m(\u001b[0m\u001b[0;34m)\u001b[0m\u001b[0;34m.\u001b[0m\u001b[0m_shallow_copy\u001b[0m\u001b[0;34m(\u001b[0m\u001b[0mvalues\u001b[0m\u001b[0;34m=\u001b[0m\u001b[0mvalues\u001b[0m\u001b[0;34m,\u001b[0m \u001b[0;34m**\u001b[0m\u001b[0mkwargs\u001b[0m\u001b[0;34m)\u001b[0m\u001b[0;34m\u001b[0m\u001b[0;34m\u001b[0m\u001b[0m\n\u001b[1;32m    113\u001b[0m \u001b[0;34m\u001b[0m\u001b[0m\n",
      "\u001b[0;32m~/anaconda3/lib/python3.6/site-packages/pandas/core/indexes/base.py\u001b[0m in \u001b[0;36m_shallow_copy_with_infer\u001b[0;34m(self, values, **kwargs)\u001b[0m\n\u001b[1;32m    565\u001b[0m             \u001b[0;32mexcept\u001b[0m \u001b[0;34m(\u001b[0m\u001b[0mTypeError\u001b[0m\u001b[0;34m,\u001b[0m \u001b[0mValueError\u001b[0m\u001b[0;34m)\u001b[0m\u001b[0;34m:\u001b[0m\u001b[0;34m\u001b[0m\u001b[0;34m\u001b[0m\u001b[0m\n\u001b[1;32m    566\u001b[0m                 \u001b[0;32mpass\u001b[0m\u001b[0;34m\u001b[0m\u001b[0;34m\u001b[0m\u001b[0m\n\u001b[0;32m--> 567\u001b[0;31m         \u001b[0;32mreturn\u001b[0m \u001b[0mIndex\u001b[0m\u001b[0;34m(\u001b[0m\u001b[0mvalues\u001b[0m\u001b[0;34m,\u001b[0m \u001b[0;34m**\u001b[0m\u001b[0mattributes\u001b[0m\u001b[0;34m)\u001b[0m\u001b[0;34m\u001b[0m\u001b[0;34m\u001b[0m\u001b[0m\n\u001b[0m\u001b[1;32m    568\u001b[0m \u001b[0;34m\u001b[0m\u001b[0m\n\u001b[1;32m    569\u001b[0m     \u001b[0;32mdef\u001b[0m \u001b[0m_update_inplace\u001b[0m\u001b[0;34m(\u001b[0m\u001b[0mself\u001b[0m\u001b[0;34m,\u001b[0m \u001b[0mresult\u001b[0m\u001b[0;34m,\u001b[0m \u001b[0;34m**\u001b[0m\u001b[0mkwargs\u001b[0m\u001b[0;34m)\u001b[0m\u001b[0;34m:\u001b[0m\u001b[0;34m\u001b[0m\u001b[0;34m\u001b[0m\u001b[0m\n",
      "\u001b[0;32m~/anaconda3/lib/python3.6/site-packages/pandas/core/indexes/base.py\u001b[0m in \u001b[0;36m__new__\u001b[0;34m(cls, data, dtype, copy, name, tupleize_cols, **kwargs)\u001b[0m\n\u001b[1;32m    388\u001b[0m             \u001b[0;31m# maybe coerce to a sub-class\u001b[0m\u001b[0;34m\u001b[0m\u001b[0;34m\u001b[0m\u001b[0;34m\u001b[0m\u001b[0m\n\u001b[1;32m    389\u001b[0m             \u001b[0;32mif\u001b[0m \u001b[0mis_signed_integer_dtype\u001b[0m\u001b[0;34m(\u001b[0m\u001b[0mdata\u001b[0m\u001b[0;34m.\u001b[0m\u001b[0mdtype\u001b[0m\u001b[0;34m)\u001b[0m\u001b[0;34m:\u001b[0m\u001b[0;34m\u001b[0m\u001b[0;34m\u001b[0m\u001b[0m\n\u001b[0;32m--> 390\u001b[0;31m                 \u001b[0;32mreturn\u001b[0m \u001b[0mInt64Index\u001b[0m\u001b[0;34m(\u001b[0m\u001b[0mdata\u001b[0m\u001b[0;34m,\u001b[0m \u001b[0mcopy\u001b[0m\u001b[0;34m=\u001b[0m\u001b[0mcopy\u001b[0m\u001b[0;34m,\u001b[0m \u001b[0mdtype\u001b[0m\u001b[0;34m=\u001b[0m\u001b[0mdtype\u001b[0m\u001b[0;34m,\u001b[0m \u001b[0mname\u001b[0m\u001b[0;34m=\u001b[0m\u001b[0mname\u001b[0m\u001b[0;34m)\u001b[0m\u001b[0;34m\u001b[0m\u001b[0;34m\u001b[0m\u001b[0m\n\u001b[0m\u001b[1;32m    391\u001b[0m             \u001b[0;32melif\u001b[0m \u001b[0mis_unsigned_integer_dtype\u001b[0m\u001b[0;34m(\u001b[0m\u001b[0mdata\u001b[0m\u001b[0;34m.\u001b[0m\u001b[0mdtype\u001b[0m\u001b[0;34m)\u001b[0m\u001b[0;34m:\u001b[0m\u001b[0;34m\u001b[0m\u001b[0;34m\u001b[0m\u001b[0m\n\u001b[1;32m    392\u001b[0m                 \u001b[0;32mreturn\u001b[0m \u001b[0mUInt64Index\u001b[0m\u001b[0;34m(\u001b[0m\u001b[0mdata\u001b[0m\u001b[0;34m,\u001b[0m \u001b[0mcopy\u001b[0m\u001b[0;34m=\u001b[0m\u001b[0mcopy\u001b[0m\u001b[0;34m,\u001b[0m \u001b[0mdtype\u001b[0m\u001b[0;34m=\u001b[0m\u001b[0mdtype\u001b[0m\u001b[0;34m,\u001b[0m \u001b[0mname\u001b[0m\u001b[0;34m=\u001b[0m\u001b[0mname\u001b[0m\u001b[0;34m)\u001b[0m\u001b[0;34m\u001b[0m\u001b[0;34m\u001b[0m\u001b[0m\n",
      "\u001b[0;32m~/anaconda3/lib/python3.6/site-packages/pandas/core/indexes/numeric.py\u001b[0m in \u001b[0;36m__new__\u001b[0;34m(cls, data, dtype, copy, name)\u001b[0m\n\u001b[1;32m     52\u001b[0m \u001b[0;34m\u001b[0m\u001b[0m\n\u001b[1;32m     53\u001b[0m     \u001b[0;32mdef\u001b[0m \u001b[0m__new__\u001b[0m\u001b[0;34m(\u001b[0m\u001b[0mcls\u001b[0m\u001b[0;34m,\u001b[0m \u001b[0mdata\u001b[0m\u001b[0;34m=\u001b[0m\u001b[0;32mNone\u001b[0m\u001b[0;34m,\u001b[0m \u001b[0mdtype\u001b[0m\u001b[0;34m=\u001b[0m\u001b[0;32mNone\u001b[0m\u001b[0;34m,\u001b[0m \u001b[0mcopy\u001b[0m\u001b[0;34m=\u001b[0m\u001b[0;32mFalse\u001b[0m\u001b[0;34m,\u001b[0m \u001b[0mname\u001b[0m\u001b[0;34m=\u001b[0m\u001b[0;32mNone\u001b[0m\u001b[0;34m)\u001b[0m\u001b[0;34m:\u001b[0m\u001b[0;34m\u001b[0m\u001b[0;34m\u001b[0m\u001b[0m\n\u001b[0;32m---> 54\u001b[0;31m         \u001b[0mcls\u001b[0m\u001b[0;34m.\u001b[0m\u001b[0m_validate_dtype\u001b[0m\u001b[0;34m(\u001b[0m\u001b[0mdtype\u001b[0m\u001b[0;34m)\u001b[0m\u001b[0;34m\u001b[0m\u001b[0;34m\u001b[0m\u001b[0m\n\u001b[0m\u001b[1;32m     55\u001b[0m \u001b[0;34m\u001b[0m\u001b[0m\n\u001b[1;32m     56\u001b[0m         \u001b[0;31m# Coerce to ndarray if not already ndarray or Index\u001b[0m\u001b[0;34m\u001b[0m\u001b[0;34m\u001b[0m\u001b[0;34m\u001b[0m\u001b[0m\n",
      "\u001b[0;31mKeyboardInterrupt\u001b[0m: "
     ]
    }
   ],
   "source": [
    "## TVIX\n",
    "model_a2c_tvix = train_A2C(env_train_tvix,\"model_single_stock/a2c_100k_tvix\")"
   ]
  },
  {
   "cell_type": "markdown",
   "metadata": {},
   "source": [
    "### Trading"
   ]
  },
  {
   "cell_type": "code",
   "execution_count": 128,
   "metadata": {
    "collapsed": true,
    "scrolled": true
   },
   "outputs": [],
   "source": [
    "## need to manually locate the account_value.csv \n",
    "## and rename it based on different models\n",
    "## A2C"
   ]
  },
  {
   "cell_type": "code",
   "execution_count": 131,
   "metadata": {
    "collapsed": true,
    "scrolled": true
   },
   "outputs": [
    {
     "name": "stdout",
     "output_type": "stream",
     "text": [
      "total_reward:261222.5737999999\n",
      "total_cost:  1995.9262000000003\n",
      "Sharpe:  0.7110783431455031\n"
     ]
    }
   ],
   "source": [
    "## SPY\n",
    "DRL_trading(model_a2c_spy, test_2017_2020_spy, env_test_spy, obs_spy)"
   ]
  },
  {
   "cell_type": "code",
   "execution_count": 59,
   "metadata": {},
   "outputs": [
    {
     "name": "stdout",
     "output_type": "stream",
     "text": [
      "total_reward:219111.28792168642\n",
      "total_cost:  2011.4514286930767\n",
      "Sharpe:  0.6172757482816066\n"
     ]
    }
   ],
   "source": [
    "## DIA\n",
    "DRL_trading(model_a2c_dia, test_2017_2020_dia, env_test_dia, obs_dia)"
   ]
  },
  {
   "cell_type": "code",
   "execution_count": 62,
   "metadata": {},
   "outputs": [
    {
     "name": "stdout",
     "output_type": "stream",
     "text": [
      "total_reward:370090.46528000105\n",
      "total_cost:  1995.9547199999986\n",
      "Sharpe:  0.8907979106652928\n"
     ]
    }
   ],
   "source": [
    "## QQQ\n",
    "DRL_trading(model_a2c_qqq, test_2017_2020_qqq, env_test_qqq, obs_qqq)"
   ]
  },
  {
   "cell_type": "code",
   "execution_count": 138,
   "metadata": {
    "collapsed": true,
    "scrolled": true
   },
   "outputs": [
    {
     "name": "stdout",
     "output_type": "stream",
     "text": [
      "total_reward:-2268.3165056693833\n",
      "total_cost:  227.98218885803217\n",
      "Sharpe:  -0.5386748191363985\n"
     ]
    }
   ],
   "source": [
    "## TVIX\n",
    "DRL_trading(model_a2c_tvix, test_2020_tvix, env_test_tvix, obs_tvix)"
   ]
  },
  {
   "cell_type": "markdown",
   "metadata": {},
   "source": [
    "## DDPG"
   ]
  },
  {
   "cell_type": "code",
   "execution_count": null,
   "metadata": {
    "collapsed": true,
    "scrolled": true
   },
   "outputs": [],
   "source": [
    "def train_DDPG(env_train, model_save_path):\n",
    "    start = time.time()\n",
    "    model_ddpg = DDPG('MlpPolicy', env_train)\n",
    "    model_ddpg.learn(total_timesteps=10000)\n",
    "    end = time.time()\n",
    "    model_ddpg.save(model_save_path)\n",
    "    print((end-start)/60,' minutes')\n",
    "    #10mins for 100k\n",
    "    return model_ddpg"
   ]
  },
  {
   "cell_type": "markdown",
   "metadata": {},
   "source": [
    "### Training"
   ]
  },
  {
   "cell_type": "code",
   "execution_count": null,
   "metadata": {
    "collapsed": true,
    "scrolled": true
   },
   "outputs": [],
   "source": [
    "## training\n",
    "model_ddpg_spy = train_DDPG(env_train_spy,\"model_single_stock/ddpg_10k_spy\")"
   ]
  },
  {
   "cell_type": "code",
   "execution_count": 114,
   "metadata": {
    "scrolled": true
   },
   "outputs": [
    {
     "name": "stdout",
     "output_type": "stream",
     "text": [
      "total_reward:-15.552247385377996\n",
      "total_cost:  0.3657712304059269\n",
      "Sharpe:  -0.3055476549106426\n",
      "total_reward:0.0\n",
      "total_cost:  0\n",
      "Sharpe:  nan\n",
      "total_reward:1830.8393144693691\n",
      "total_cost:  219.0403136148756\n",
      "Sharpe:  0.1646012861588513\n",
      "total_reward:-202588.17970392876\n",
      "total_cost:  8574.31515133924\n",
      "Sharpe:  -0.36070131535637306\n",
      "total_reward:37353.590978866094\n",
      "total_cost:  2082.677393442028\n",
      "Sharpe:  0.1939999212121443\n",
      "total_reward:36047.95862112963\n",
      "total_cost:  2052.778447111419\n",
      "Sharpe:  0.18512943469345208\n",
      "DDPG:  0.6303281863530477  minutes\n"
     ]
    }
   ],
   "source": [
    "## training\n",
    "model_ddpg_tvix = train_DDPG(env_train_tvix,\"model_single_stock/ddpg_10k_tvix\")"
   ]
  },
  {
   "cell_type": "markdown",
   "metadata": {},
   "source": [
    "### Trading"
   ]
  },
  {
   "cell_type": "code",
   "execution_count": 118,
   "metadata": {
    "scrolled": true
   },
   "outputs": [
    {
     "name": "stdout",
     "output_type": "stream",
     "text": [
      "total_reward:-21378.663253635284\n",
      "total_cost:  1450.3457623460008\n",
      "Sharpe:  -0.42982506298545536\n"
     ]
    }
   ],
   "source": [
    "## TVIX\n",
    "DRL_trading(model_a2c_tvix, test_2020_tvix, env_test_tvix, obs_tvix)"
   ]
  },
  {
   "cell_type": "code",
   "execution_count": null,
   "metadata": {
    "collapsed": true,
    "scrolled": true
   },
   "outputs": [],
   "source": [
    "DRL_trading(model_ddpg, test_2020_tvix, env_test_tvix, obs_tvix)"
   ]
  },
  {
   "cell_type": "code",
   "execution_count": null,
   "metadata": {
    "collapsed": true,
    "scrolled": true
   },
   "outputs": [],
   "source": [
    "DRL_trading(model_ddpg, test_2020_tvix, env_test_tvix, obs_tvix)"
   ]
  },
  {
   "cell_type": "markdown",
   "metadata": {},
   "source": [
    "## PPO"
   ]
  },
  {
   "cell_type": "code",
   "execution_count": 48,
   "metadata": {
    "scrolled": true
   },
   "outputs": [],
   "source": [
    "def train_PPO(env_train, model_save_path):\n",
    "    start = time.time()\n",
    "    model_ppo = PPO2('MlpPolicy', env_train)\n",
    "    model_ppo.learn(100000)\n",
    "    end = time.time()\n",
    "    model_ppo.save(model_save_path)\n",
    "    print((end-start)/60,' minutes')\n",
    "    return model_ppo"
   ]
  },
  {
   "cell_type": "markdown",
   "metadata": {},
   "source": [
    "### Training"
   ]
  },
  {
   "cell_type": "code",
   "execution_count": null,
   "metadata": {},
   "outputs": [],
   "source": [
    "## SPY\n",
    "model_ppo_spy = train_A2C(env_train_spy,\"model_single_stock/ppo_100k_spy\")"
   ]
  },
  {
   "cell_type": "code",
   "execution_count": 63,
   "metadata": {},
   "outputs": [
    {
     "name": "stdout",
     "output_type": "stream",
     "text": [
      "total_reward:34346.96352104598\n",
      "total_cost:  1889.3345727558158\n",
      "Sharpe:  0.4950576106723653\n",
      "total_reward:126144.52430175757\n",
      "total_cost:  1993.638578682702\n",
      "Sharpe:  0.6027784353658542\n",
      "total_reward:136975.56170395948\n",
      "total_cost:  1956.284521394372\n",
      "Sharpe:  0.6056631113145428\n",
      "total_reward:287917.60177806206\n",
      "total_cost:  1981.3793371827078\n",
      "Sharpe:  0.6799718521957038\n",
      "total_reward:247584.046273557\n",
      "total_cost:  1986.1534468782131\n",
      "Sharpe:  0.6443980432194513\n",
      "total_reward:339332.7852860112\n",
      "total_cost:  2026.1193735208224\n",
      "Sharpe:  0.663109160286797\n",
      "total_reward:310230.77478044573\n",
      "total_cost:  2018.5491577835196\n",
      "Sharpe:  0.6848293115044333\n",
      "total_reward:302347.9324287635\n",
      "total_cost:  2005.0429844218395\n",
      "Sharpe:  0.651344463676247\n",
      "total_reward:339887.01609096536\n",
      "total_cost:  2036.2485602231984\n",
      "Sharpe:  0.6678878932600771\n",
      "total_reward:288566.76607199013\n",
      "total_cost:  2019.5515352461703\n",
      "Sharpe:  0.6508229096741228\n",
      "total_reward:294348.7818339581\n",
      "total_cost:  2003.2858884561963\n",
      "Sharpe:  0.6522524303296693\n",
      "total_reward:327580.2594447436\n",
      "total_cost:  2097.611664175313\n",
      "Sharpe:  0.6389624593323399\n",
      "total_reward:445224.3196771224\n",
      "total_cost:  2146.0262748265113\n",
      "Sharpe:  0.6910041711413535\n",
      "total_reward:473067.3175916956\n",
      "total_cost:  2151.5437454396583\n",
      "Sharpe:  0.6947189388126701\n",
      "total_reward:455282.2897596725\n",
      "total_cost:  2177.1740244340212\n",
      "Sharpe:  0.6860480363877516\n",
      "total_reward:462639.259710548\n",
      "total_cost:  2159.419156464703\n",
      "Sharpe:  0.693950522202662\n",
      "total_reward:467509.03168705734\n",
      "total_cost:  2175.850100519209\n",
      "Sharpe:  0.694044093718905\n",
      "total_reward:460951.14770362293\n",
      "total_cost:  2124.5850296719977\n",
      "Sharpe:  0.6890847054456696\n",
      "total_reward:437984.07465760875\n",
      "total_cost:  2224.7039439602677\n",
      "Sharpe:  0.6689392772561099\n",
      "total_reward:576222.7836650007\n",
      "total_cost:  2290.9985700561942\n",
      "Sharpe:  0.7112930402157422\n",
      "total_reward:519435.96249752445\n",
      "total_cost:  2267.535676718637\n",
      "Sharpe:  0.6941825139608293\n",
      "total_reward:526443.24164207\n",
      "total_cost:  2297.027426476085\n",
      "Sharpe:  0.687634977630308\n",
      "total_reward:527556.4834978308\n",
      "total_cost:  2258.1742311154026\n",
      "Sharpe:  0.6937661996453052\n",
      "total_reward:523558.4815503906\n",
      "total_cost:  2269.016643231476\n",
      "Sharpe:  0.6916815178115681\n",
      "total_reward:517229.3374032157\n",
      "total_cost:  2291.6046305490327\n",
      "Sharpe:  0.6963791978337434\n",
      "total_reward:541843.2398578229\n",
      "total_cost:  2235.1985689496437\n",
      "Sharpe:  0.7071407878867128\n",
      "total_reward:560617.1294050752\n",
      "total_cost:  2360.6646164750628\n",
      "Sharpe:  0.6967731499436142\n",
      "total_reward:638902.845136981\n",
      "total_cost:  2324.4413557473254\n",
      "Sharpe:  0.711455459451437\n",
      "total_reward:655628.7928958705\n",
      "total_cost:  2334.5965557378913\n",
      "Sharpe:  0.7211038335916111\n",
      "total_reward:646965.2581818618\n",
      "total_cost:  2392.588981406473\n",
      "Sharpe:  0.7066596003355164\n",
      "total_reward:750272.568172561\n",
      "total_cost:  2430.4327300150185\n",
      "Sharpe:  0.735087254515718\n",
      "total_reward:738402.3321444807\n",
      "total_cost:  2421.3026820180967\n",
      "Sharpe:  0.7325378136908077\n",
      "total_reward:734721.0582033882\n",
      "total_cost:  2426.554216164621\n",
      "Sharpe:  0.729979718949229\n",
      "total_reward:753183.8212625298\n",
      "total_cost:  2438.620397094427\n",
      "Sharpe:  0.7377591812074059\n",
      "total_reward:700214.2430439126\n",
      "total_cost:  2411.4008413423912\n",
      "Sharpe:  0.7234374091133375\n",
      "total_reward:664583.0216862713\n",
      "total_cost:  2393.0837434395794\n",
      "Sharpe:  0.7162857656579236\n",
      "total_reward:679020.1203649605\n",
      "total_cost:  2440.1109882152173\n",
      "Sharpe:  0.709485024037561\n",
      "total_reward:754499.9575554018\n",
      "total_cost:  2406.912476845469\n",
      "Sharpe:  0.7365132432935743\n",
      "total_reward:703902.0185416257\n",
      "total_cost:  2379.3251668796765\n",
      "Sharpe:  0.7244742972544802\n",
      "total_reward:696779.3776097507\n",
      "total_cost:  2399.267489599817\n",
      "Sharpe:  0.7204701971534149\n",
      "total_reward:688882.2903439775\n",
      "total_cost:  2401.174466379283\n",
      "Sharpe:  0.7204208254919419\n",
      "total_reward:691176.8802045558\n",
      "total_cost:  2409.1452591681373\n",
      "Sharpe:  0.715345726428153\n",
      "total_reward:763347.1023286274\n",
      "total_cost:  2452.439243359102\n",
      "Sharpe:  0.737433693301266\n",
      "total_reward:767202.7308150236\n",
      "total_cost:  2431.249877629765\n",
      "Sharpe:  0.7396509085267708\n",
      "total_reward:771529.3532019774\n",
      "total_cost:  2434.5754715678527\n",
      "Sharpe:  0.7410910900906076\n",
      "total_reward:762642.2600487103\n",
      "total_cost:  2414.1620930203817\n",
      "Sharpe:  0.7387483410772637\n",
      "total_reward:765859.757625818\n",
      "total_cost:  2438.7615565407996\n",
      "Sharpe:  0.738690767137078\n",
      "total_reward:766007.0159267681\n",
      "total_cost:  2383.378706675497\n",
      "Sharpe:  0.7402695029766448\n",
      "total_reward:755878.8995137664\n",
      "total_cost:  2428.1222709411986\n",
      "Sharpe:  0.7351525228226643\n",
      "3.259217699368795  minutes\n"
     ]
    }
   ],
   "source": [
    "## QQQ\n",
    "model_ppo_qqq = train_PPO(env_train_qqq,\"model_single_stock/ppo_100k_qqq\")"
   ]
  },
  {
   "cell_type": "code",
   "execution_count": 49,
   "metadata": {
    "scrolled": true
   },
   "outputs": [
    {
     "name": "stdout",
     "output_type": "stream",
     "text": [
      "total_reward:-71312.88480762392\n",
      "total_cost:  29289.19615721696\n",
      "Sharpe:  0.24343955423429292\n",
      "total_reward:564068.6357875199\n",
      "total_cost:  27586.325237768066\n",
      "Sharpe:  0.2821185820347363\n",
      "total_reward:-138545.86399562913\n",
      "total_cost:  11741.476926585916\n",
      "Sharpe:  -0.6654819802486355\n",
      "total_reward:-129916.7080416244\n",
      "total_cost:  10373.945712152114\n",
      "Sharpe:  -0.5934441606447102\n",
      "total_reward:-93810.63808482117\n",
      "total_cost:  14442.168385195058\n",
      "Sharpe:  -0.14417540782775018\n",
      "total_reward:-227857.6570701223\n",
      "total_cost:  14336.945715878332\n",
      "Sharpe:  -0.5690205112052229\n",
      "total_reward:-78755.11431676499\n",
      "total_cost:  7683.105907425718\n",
      "Sharpe:  -0.832151153564373\n",
      "total_reward:18127.595225698547\n",
      "total_cost:  3683.428948722228\n",
      "Sharpe:  0.27713616907004834\n",
      "total_reward:179973.75125702587\n",
      "total_cost:  4007.331678898259\n",
      "Sharpe:  0.3144871248108904\n",
      "total_reward:4112.4577819939\n",
      "total_cost:  5453.968361922368\n",
      "Sharpe:  0.05456731513993654\n",
      "total_reward:-73034.57106650574\n",
      "total_cost:  9191.854630426911\n",
      "Sharpe:  -0.7181691137516415\n",
      "total_reward:-4019.7590232013026\n",
      "total_cost:  2937.014270758047\n",
      "Sharpe:  -0.11826318617352403\n",
      "total_reward:-15349.381173779024\n",
      "total_cost:  1706.4947812104756\n",
      "Sharpe:  -0.3129112697774617\n",
      "total_reward:97932.09691924765\n",
      "total_cost:  2699.3343351930685\n",
      "Sharpe:  0.4936378092320432\n",
      "total_reward:102477.87436943059\n",
      "total_cost:  12121.758323354034\n",
      "Sharpe:  0.1929808373623018\n",
      "total_reward:37805.25563263486\n",
      "total_cost:  5469.627756420393\n",
      "Sharpe:  0.1499005161592724\n",
      "total_reward:41.257380528375506\n",
      "total_cost:  1208.419364554231\n",
      "Sharpe:  0.003694124165131972\n",
      "total_reward:-12263.06354458956\n",
      "total_cost:  2370.8072237406686\n",
      "Sharpe:  -0.217492549807248\n",
      "total_reward:-3764.8765211667633\n",
      "total_cost:  421.5962773351412\n",
      "Sharpe:  -0.29812670264107966\n",
      "total_reward:2489.2663121449295\n",
      "total_cost:  85.21346510256194\n",
      "Sharpe:  0.3433131706198366\n",
      "total_reward:-3974.469539596117\n",
      "total_cost:  453.24160321978565\n",
      "Sharpe:  -0.29866645703539957\n",
      "total_reward:3559.46152556804\n",
      "total_cost:  815.7568066167854\n",
      "Sharpe:  0.2600599399949447\n",
      "total_reward:881.8609017941635\n",
      "total_cost:  60.96642559807061\n",
      "Sharpe:  0.35210965283136303\n",
      "total_reward:31.038892728858627\n",
      "total_cost:  0.8694919429879188\n",
      "Sharpe:  0.13377626391373623\n",
      "total_reward:1.1939318168442696\n",
      "total_cost:  0.05462116370201111\n",
      "Sharpe:  0.4425379577257503\n",
      "total_reward:-695.8539042001357\n",
      "total_cost:  34.05894092202187\n",
      "Sharpe:  -0.3924852676060854\n",
      "total_reward:90.89045639825054\n",
      "total_cost:  30.887891679930686\n",
      "Sharpe:  0.23150547415523037\n",
      "total_reward:30.121288383263163\n",
      "total_cost:  5.419791480207444\n",
      "Sharpe:  0.273994036353294\n",
      "total_reward:-1553.920601895661\n",
      "total_cost:  77.08287525277137\n",
      "Sharpe:  -0.27296194817258285\n",
      "total_reward:348.6256616283208\n",
      "total_cost:  16.610791050691603\n",
      "Sharpe:  0.35236677832967833\n",
      "total_reward:15.441365017788485\n",
      "total_cost:  2.2671620496749876\n",
      "Sharpe:  0.2816983062777076\n",
      "total_reward:-13.40838910418097\n",
      "total_cost:  0.9103670514583587\n",
      "Sharpe:  -0.2855541482960247\n",
      "total_reward:0.0\n",
      "total_cost:  0\n",
      "Sharpe:  nan\n",
      "total_reward:-9.583155422238633\n",
      "total_cost:  38.82712615013123\n",
      "Sharpe:  -0.0738005011504246\n",
      "total_reward:0.0\n",
      "total_cost:  0\n",
      "Sharpe:  nan\n",
      "total_reward:0.5525534388143569\n",
      "total_cost:  0.01842632246017456\n",
      "Sharpe:  0.3628419444713765\n",
      "total_reward:-78.95095518091694\n",
      "total_cost:  2.3217852366924285\n",
      "Sharpe:  -0.38336866373401235\n",
      "total_reward:-13.060768470866606\n",
      "total_cost:  0.6966983482837678\n",
      "Sharpe:  -0.8285996208825905\n",
      "total_reward:-96.23356745881028\n",
      "total_cost:  4.592803766760349\n",
      "Sharpe:  -0.40249008062548275\n",
      "total_reward:-11916.764783383813\n",
      "total_cost:  236.9793238228321\n",
      "Sharpe:  -0.39150410492498067\n",
      "total_reward:-2307.4968962804414\n",
      "total_cost:  83.52519548339843\n",
      "Sharpe:  -0.3975123725980803\n",
      "total_reward:-2172.052285852609\n",
      "total_cost:  252.6436627931118\n",
      "Sharpe:  -0.5359994799905011\n",
      "total_reward:-3.7244107043370605\n",
      "total_cost:  0.4426115364551544\n",
      "Sharpe:  -0.35824339444662867\n",
      "total_reward:0.0\n",
      "total_cost:  0\n",
      "Sharpe:  nan\n",
      "total_reward:-902.5060750960838\n",
      "total_cost:  39.108982992172244\n",
      "Sharpe:  -0.39187966295287413\n",
      "total_reward:-0.14842242060694844\n",
      "total_cost:  0.6097275583267212\n",
      "Sharpe:  -0.07262903962003367\n",
      "total_reward:-0.8882975482847542\n",
      "total_cost:  0.05968554129600525\n",
      "Sharpe:  -0.40130937096873365\n",
      "total_reward:7.013367321807891\n",
      "total_cost:  1.5604920530319215\n",
      "Sharpe:  0.35115634295616105\n",
      "total_reward:-62.67163196019828\n",
      "total_cost:  1.8299897161483765\n",
      "Sharpe:  -0.3840640028907627\n",
      "total_reward:1222.751896862872\n",
      "total_cost:  206.26943439416888\n",
      "Sharpe:  0.32474592321187273\n",
      "total_reward:-13.124387390678748\n",
      "total_cost:  7.487953440284729\n",
      "Sharpe:  -0.34714728053566857\n",
      "total_reward:-5641.018934777705\n",
      "total_cost:  306.7351769734955\n",
      "Sharpe:  -0.40164947707307463\n",
      "total_reward:-11122.981160919531\n",
      "total_cost:  174.03389114578246\n",
      "Sharpe:  -0.3912929106120672\n",
      "total_reward:-135.56696549861226\n",
      "total_cost:  4.5711738255977625\n",
      "Sharpe:  -0.39114927417571976\n",
      "total_reward:-1.0653998497873545\n",
      "total_cost:  0.03297146625518799\n",
      "Sharpe:  -0.5025612517982623\n",
      "total_reward:-36.31880619563162\n",
      "total_cost:  12.350489652395249\n",
      "Sharpe:  -0.18999693757438224\n",
      "2.7576955477396647  minutes\n"
     ]
    }
   ],
   "source": [
    "## TVIX\n",
    "model_ppo_tvix = train_PPO(env_train_tvix,\"model_single_stock/ppo_100k_tvix\")"
   ]
  },
  {
   "cell_type": "markdown",
   "metadata": {},
   "source": [
    "### Trading"
   ]
  },
  {
   "cell_type": "code",
   "execution_count": null,
   "metadata": {},
   "outputs": [],
   "source": [
    "## SPY\n",
    "#model_ppo_spy=PPO2.load('model_single_stock/ppo_100k_spy')\n",
    "DRL_trading(model_ppo_spy, test_2017_2020_spy, env_test_spy, obs_spy)"
   ]
  },
  {
   "cell_type": "code",
   "execution_count": 65,
   "metadata": {},
   "outputs": [
    {
     "name": "stdout",
     "output_type": "stream",
     "text": [
      "total_reward:342449.8009348158\n",
      "total_cost:  2219.7632030867567\n",
      "Sharpe:  0.9069735687580246\n"
     ]
    }
   ],
   "source": [
    "## QQQ\n",
    "DRL_trading(model_ppo_qqq, test_2017_2020_qqq, env_test_qqq, obs_qqq)"
   ]
  },
  {
   "cell_type": "code",
   "execution_count": 52,
   "metadata": {
    "scrolled": true
   },
   "outputs": [
    {
     "name": "stdout",
     "output_type": "stream",
     "text": [
      "total_reward:-6.056430398137309\n",
      "total_cost:  9.241864632606505\n",
      "Sharpe:  -0.021424089504709035\n"
     ]
    }
   ],
   "source": [
    "## TVIX\n",
    "DRL_trading(model_ppo_tvix, test_2020_tvix, env_test_tvix, obs_tvix)"
   ]
  },
  {
   "cell_type": "markdown",
   "metadata": {},
   "source": [
    "## SAC"
   ]
  },
  {
   "cell_type": "code",
   "execution_count": 139,
   "metadata": {
    "collapsed": true,
    "scrolled": true
   },
   "outputs": [],
   "source": [
    "# env setup\n",
    "## Training Environment\n",
    "# The algorithms require a vectorized environment to run\n",
    "env_train_spy = DummyVecEnv([lambda: StockEnv(train_2009_2016_spy)])\n",
    "env_test_spy = DummyVecEnv([lambda: StockEnv(test_2017_2020_spy)])\n",
    "obs_spy = env_test_spy.reset()\n"
   ]
  },
  {
   "cell_type": "code",
   "execution_count": 141,
   "metadata": {
    "collapsed": true,
    "scrolled": false
   },
   "outputs": [
    {
     "name": "stdout",
     "output_type": "stream",
     "text": [
      "WARNING:tensorflow:Entity <bound method Flatten.call of <tensorflow.python.layers.core.Flatten object at 0x7f97087590f0>> could not be transformed and will be executed as-is. Please report this to the AutgoGraph team. When filing the bug, set the verbosity to 10 (on Linux, `export AUTOGRAPH_VERBOSITY=10`) and attach the full output. Cause: converting <bound method Flatten.call of <tensorflow.python.layers.core.Flatten object at 0x7f97087590f0>>: AttributeError: module 'gast' has no attribute 'Num'\n",
      "WARNING: Entity <bound method Flatten.call of <tensorflow.python.layers.core.Flatten object at 0x7f97087590f0>> could not be transformed and will be executed as-is. Please report this to the AutgoGraph team. When filing the bug, set the verbosity to 10 (on Linux, `export AUTOGRAPH_VERBOSITY=10`) and attach the full output. Cause: converting <bound method Flatten.call of <tensorflow.python.layers.core.Flatten object at 0x7f97087590f0>>: AttributeError: module 'gast' has no attribute 'Num'\n",
      "WARNING:tensorflow:Entity <bound method Dense.call of <tensorflow.python.layers.core.Dense object at 0x7f97586961d0>> could not be transformed and will be executed as-is. Please report this to the AutgoGraph team. When filing the bug, set the verbosity to 10 (on Linux, `export AUTOGRAPH_VERBOSITY=10`) and attach the full output. Cause: converting <bound method Dense.call of <tensorflow.python.layers.core.Dense object at 0x7f97586961d0>>: AssertionError: Bad argument number for Name: 3, expecting 4\n",
      "WARNING: Entity <bound method Dense.call of <tensorflow.python.layers.core.Dense object at 0x7f97586961d0>> could not be transformed and will be executed as-is. Please report this to the AutgoGraph team. When filing the bug, set the verbosity to 10 (on Linux, `export AUTOGRAPH_VERBOSITY=10`) and attach the full output. Cause: converting <bound method Dense.call of <tensorflow.python.layers.core.Dense object at 0x7f97586961d0>>: AssertionError: Bad argument number for Name: 3, expecting 4\n",
      "WARNING:tensorflow:Entity <bound method Dense.call of <tensorflow.python.layers.core.Dense object at 0x7f9796fb09e8>> could not be transformed and will be executed as-is. Please report this to the AutgoGraph team. When filing the bug, set the verbosity to 10 (on Linux, `export AUTOGRAPH_VERBOSITY=10`) and attach the full output. Cause: converting <bound method Dense.call of <tensorflow.python.layers.core.Dense object at 0x7f9796fb09e8>>: AssertionError: Bad argument number for Name: 3, expecting 4\n",
      "WARNING: Entity <bound method Dense.call of <tensorflow.python.layers.core.Dense object at 0x7f9796fb09e8>> could not be transformed and will be executed as-is. Please report this to the AutgoGraph team. When filing the bug, set the verbosity to 10 (on Linux, `export AUTOGRAPH_VERBOSITY=10`) and attach the full output. Cause: converting <bound method Dense.call of <tensorflow.python.layers.core.Dense object at 0x7f9796fb09e8>>: AssertionError: Bad argument number for Name: 3, expecting 4\n",
      "WARNING:tensorflow:Entity <bound method Dense.call of <tensorflow.python.layers.core.Dense object at 0x7f97087590f0>> could not be transformed and will be executed as-is. Please report this to the AutgoGraph team. When filing the bug, set the verbosity to 10 (on Linux, `export AUTOGRAPH_VERBOSITY=10`) and attach the full output. Cause: converting <bound method Dense.call of <tensorflow.python.layers.core.Dense object at 0x7f97087590f0>>: AssertionError: Bad argument number for Name: 3, expecting 4\n",
      "WARNING: Entity <bound method Dense.call of <tensorflow.python.layers.core.Dense object at 0x7f97087590f0>> could not be transformed and will be executed as-is. Please report this to the AutgoGraph team. When filing the bug, set the verbosity to 10 (on Linux, `export AUTOGRAPH_VERBOSITY=10`) and attach the full output. Cause: converting <bound method Dense.call of <tensorflow.python.layers.core.Dense object at 0x7f97087590f0>>: AssertionError: Bad argument number for Name: 3, expecting 4\n",
      "WARNING:tensorflow:Entity <bound method Dense.call of <tensorflow.python.layers.core.Dense object at 0x7f97087590f0>> could not be transformed and will be executed as-is. Please report this to the AutgoGraph team. When filing the bug, set the verbosity to 10 (on Linux, `export AUTOGRAPH_VERBOSITY=10`) and attach the full output. Cause: converting <bound method Dense.call of <tensorflow.python.layers.core.Dense object at 0x7f97087590f0>>: AssertionError: Bad argument number for Name: 3, expecting 4\n",
      "WARNING: Entity <bound method Dense.call of <tensorflow.python.layers.core.Dense object at 0x7f97087590f0>> could not be transformed and will be executed as-is. Please report this to the AutgoGraph team. When filing the bug, set the verbosity to 10 (on Linux, `export AUTOGRAPH_VERBOSITY=10`) and attach the full output. Cause: converting <bound method Dense.call of <tensorflow.python.layers.core.Dense object at 0x7f97087590f0>>: AssertionError: Bad argument number for Name: 3, expecting 4\n",
      "WARNING:tensorflow:Entity <bound method Flatten.call of <tensorflow.python.layers.core.Flatten object at 0x7f977ef888d0>> could not be transformed and will be executed as-is. Please report this to the AutgoGraph team. When filing the bug, set the verbosity to 10 (on Linux, `export AUTOGRAPH_VERBOSITY=10`) and attach the full output. Cause: converting <bound method Flatten.call of <tensorflow.python.layers.core.Flatten object at 0x7f977ef888d0>>: AttributeError: module 'gast' has no attribute 'Num'\n",
      "WARNING: Entity <bound method Flatten.call of <tensorflow.python.layers.core.Flatten object at 0x7f977ef888d0>> could not be transformed and will be executed as-is. Please report this to the AutgoGraph team. When filing the bug, set the verbosity to 10 (on Linux, `export AUTOGRAPH_VERBOSITY=10`) and attach the full output. Cause: converting <bound method Flatten.call of <tensorflow.python.layers.core.Flatten object at 0x7f977ef888d0>>: AttributeError: module 'gast' has no attribute 'Num'\n",
      "WARNING:tensorflow:Entity <bound method Dense.call of <tensorflow.python.layers.core.Dense object at 0x7f977ef886d8>> could not be transformed and will be executed as-is. Please report this to the AutgoGraph team. When filing the bug, set the verbosity to 10 (on Linux, `export AUTOGRAPH_VERBOSITY=10`) and attach the full output. Cause: converting <bound method Dense.call of <tensorflow.python.layers.core.Dense object at 0x7f977ef886d8>>: AssertionError: Bad argument number for Name: 3, expecting 4\n",
      "WARNING: Entity <bound method Dense.call of <tensorflow.python.layers.core.Dense object at 0x7f977ef886d8>> could not be transformed and will be executed as-is. Please report this to the AutgoGraph team. When filing the bug, set the verbosity to 10 (on Linux, `export AUTOGRAPH_VERBOSITY=10`) and attach the full output. Cause: converting <bound method Dense.call of <tensorflow.python.layers.core.Dense object at 0x7f977ef886d8>>: AssertionError: Bad argument number for Name: 3, expecting 4\n",
      "WARNING:tensorflow:Entity <bound method Dense.call of <tensorflow.python.layers.core.Dense object at 0x7f977c8299e8>> could not be transformed and will be executed as-is. Please report this to the AutgoGraph team. When filing the bug, set the verbosity to 10 (on Linux, `export AUTOGRAPH_VERBOSITY=10`) and attach the full output. Cause: converting <bound method Dense.call of <tensorflow.python.layers.core.Dense object at 0x7f977c8299e8>>: AssertionError: Bad argument number for Name: 3, expecting 4\n",
      "WARNING: Entity <bound method Dense.call of <tensorflow.python.layers.core.Dense object at 0x7f977c8299e8>> could not be transformed and will be executed as-is. Please report this to the AutgoGraph team. When filing the bug, set the verbosity to 10 (on Linux, `export AUTOGRAPH_VERBOSITY=10`) and attach the full output. Cause: converting <bound method Dense.call of <tensorflow.python.layers.core.Dense object at 0x7f977c8299e8>>: AssertionError: Bad argument number for Name: 3, expecting 4\n",
      "WARNING:tensorflow:Entity <bound method Dense.call of <tensorflow.python.layers.core.Dense object at 0x7f977ef88b70>> could not be transformed and will be executed as-is. Please report this to the AutgoGraph team. When filing the bug, set the verbosity to 10 (on Linux, `export AUTOGRAPH_VERBOSITY=10`) and attach the full output. Cause: converting <bound method Dense.call of <tensorflow.python.layers.core.Dense object at 0x7f977ef88b70>>: AssertionError: Bad argument number for Name: 3, expecting 4\n",
      "WARNING: Entity <bound method Dense.call of <tensorflow.python.layers.core.Dense object at 0x7f977ef88b70>> could not be transformed and will be executed as-is. Please report this to the AutgoGraph team. When filing the bug, set the verbosity to 10 (on Linux, `export AUTOGRAPH_VERBOSITY=10`) and attach the full output. Cause: converting <bound method Dense.call of <tensorflow.python.layers.core.Dense object at 0x7f977ef88b70>>: AssertionError: Bad argument number for Name: 3, expecting 4\n",
      "WARNING:tensorflow:Entity <bound method Dense.call of <tensorflow.python.layers.core.Dense object at 0x7f970abe05f8>> could not be transformed and will be executed as-is. Please report this to the AutgoGraph team. When filing the bug, set the verbosity to 10 (on Linux, `export AUTOGRAPH_VERBOSITY=10`) and attach the full output. Cause: converting <bound method Dense.call of <tensorflow.python.layers.core.Dense object at 0x7f970abe05f8>>: AssertionError: Bad argument number for Name: 3, expecting 4\n",
      "WARNING: Entity <bound method Dense.call of <tensorflow.python.layers.core.Dense object at 0x7f970abe05f8>> could not be transformed and will be executed as-is. Please report this to the AutgoGraph team. When filing the bug, set the verbosity to 10 (on Linux, `export AUTOGRAPH_VERBOSITY=10`) and attach the full output. Cause: converting <bound method Dense.call of <tensorflow.python.layers.core.Dense object at 0x7f970abe05f8>>: AssertionError: Bad argument number for Name: 3, expecting 4\n",
      "WARNING:tensorflow:Entity <bound method Dense.call of <tensorflow.python.layers.core.Dense object at 0x7f970a224c18>> could not be transformed and will be executed as-is. Please report this to the AutgoGraph team. When filing the bug, set the verbosity to 10 (on Linux, `export AUTOGRAPH_VERBOSITY=10`) and attach the full output. Cause: converting <bound method Dense.call of <tensorflow.python.layers.core.Dense object at 0x7f970a224c18>>: AssertionError: Bad argument number for Name: 3, expecting 4\n",
      "WARNING: Entity <bound method Dense.call of <tensorflow.python.layers.core.Dense object at 0x7f970a224c18>> could not be transformed and will be executed as-is. Please report this to the AutgoGraph team. When filing the bug, set the verbosity to 10 (on Linux, `export AUTOGRAPH_VERBOSITY=10`) and attach the full output. Cause: converting <bound method Dense.call of <tensorflow.python.layers.core.Dense object at 0x7f970a224c18>>: AssertionError: Bad argument number for Name: 3, expecting 4\n",
      "WARNING:tensorflow:Entity <bound method Dense.call of <tensorflow.python.layers.core.Dense object at 0x7f9734615128>> could not be transformed and will be executed as-is. Please report this to the AutgoGraph team. When filing the bug, set the verbosity to 10 (on Linux, `export AUTOGRAPH_VERBOSITY=10`) and attach the full output. Cause: converting <bound method Dense.call of <tensorflow.python.layers.core.Dense object at 0x7f9734615128>>: AssertionError: Bad argument number for Name: 3, expecting 4\n",
      "WARNING: Entity <bound method Dense.call of <tensorflow.python.layers.core.Dense object at 0x7f9734615128>> could not be transformed and will be executed as-is. Please report this to the AutgoGraph team. When filing the bug, set the verbosity to 10 (on Linux, `export AUTOGRAPH_VERBOSITY=10`) and attach the full output. Cause: converting <bound method Dense.call of <tensorflow.python.layers.core.Dense object at 0x7f9734615128>>: AssertionError: Bad argument number for Name: 3, expecting 4\n",
      "WARNING:tensorflow:Entity <bound method Dense.call of <tensorflow.python.layers.core.Dense object at 0x7f97346a1e80>> could not be transformed and will be executed as-is. Please report this to the AutgoGraph team. When filing the bug, set the verbosity to 10 (on Linux, `export AUTOGRAPH_VERBOSITY=10`) and attach the full output. Cause: converting <bound method Dense.call of <tensorflow.python.layers.core.Dense object at 0x7f97346a1e80>>: AssertionError: Bad argument number for Name: 3, expecting 4\n",
      "WARNING: Entity <bound method Dense.call of <tensorflow.python.layers.core.Dense object at 0x7f97346a1e80>> could not be transformed and will be executed as-is. Please report this to the AutgoGraph team. When filing the bug, set the verbosity to 10 (on Linux, `export AUTOGRAPH_VERBOSITY=10`) and attach the full output. Cause: converting <bound method Dense.call of <tensorflow.python.layers.core.Dense object at 0x7f97346a1e80>>: AssertionError: Bad argument number for Name: 3, expecting 4\n",
      "WARNING:tensorflow:Entity <bound method Dense.call of <tensorflow.python.layers.core.Dense object at 0x7f977c375278>> could not be transformed and will be executed as-is. Please report this to the AutgoGraph team. When filing the bug, set the verbosity to 10 (on Linux, `export AUTOGRAPH_VERBOSITY=10`) and attach the full output. Cause: converting <bound method Dense.call of <tensorflow.python.layers.core.Dense object at 0x7f977c375278>>: AssertionError: Bad argument number for Name: 3, expecting 4\n",
      "WARNING: Entity <bound method Dense.call of <tensorflow.python.layers.core.Dense object at 0x7f977c375278>> could not be transformed and will be executed as-is. Please report this to the AutgoGraph team. When filing the bug, set the verbosity to 10 (on Linux, `export AUTOGRAPH_VERBOSITY=10`) and attach the full output. Cause: converting <bound method Dense.call of <tensorflow.python.layers.core.Dense object at 0x7f977c375278>>: AssertionError: Bad argument number for Name: 3, expecting 4\n",
      "WARNING:tensorflow:Entity <bound method Dense.call of <tensorflow.python.layers.core.Dense object at 0x7f977cfe5fd0>> could not be transformed and will be executed as-is. Please report this to the AutgoGraph team. When filing the bug, set the verbosity to 10 (on Linux, `export AUTOGRAPH_VERBOSITY=10`) and attach the full output. Cause: converting <bound method Dense.call of <tensorflow.python.layers.core.Dense object at 0x7f977cfe5fd0>>: AssertionError: Bad argument number for Name: 3, expecting 4\n",
      "WARNING: Entity <bound method Dense.call of <tensorflow.python.layers.core.Dense object at 0x7f977cfe5fd0>> could not be transformed and will be executed as-is. Please report this to the AutgoGraph team. When filing the bug, set the verbosity to 10 (on Linux, `export AUTOGRAPH_VERBOSITY=10`) and attach the full output. Cause: converting <bound method Dense.call of <tensorflow.python.layers.core.Dense object at 0x7f977cfe5fd0>>: AssertionError: Bad argument number for Name: 3, expecting 4\n",
      "WARNING:tensorflow:Entity <bound method Flatten.call of <tensorflow.python.layers.core.Flatten object at 0x7f977c8299e8>> could not be transformed and will be executed as-is. Please report this to the AutgoGraph team. When filing the bug, set the verbosity to 10 (on Linux, `export AUTOGRAPH_VERBOSITY=10`) and attach the full output. Cause: converting <bound method Flatten.call of <tensorflow.python.layers.core.Flatten object at 0x7f977c8299e8>>: AttributeError: module 'gast' has no attribute 'Num'\n",
      "WARNING: Entity <bound method Flatten.call of <tensorflow.python.layers.core.Flatten object at 0x7f977c8299e8>> could not be transformed and will be executed as-is. Please report this to the AutgoGraph team. When filing the bug, set the verbosity to 10 (on Linux, `export AUTOGRAPH_VERBOSITY=10`) and attach the full output. Cause: converting <bound method Flatten.call of <tensorflow.python.layers.core.Flatten object at 0x7f977c8299e8>>: AttributeError: module 'gast' has no attribute 'Num'\n",
      "WARNING:tensorflow:Entity <bound method Dense.call of <tensorflow.python.layers.core.Dense object at 0x7f97341b1518>> could not be transformed and will be executed as-is. Please report this to the AutgoGraph team. When filing the bug, set the verbosity to 10 (on Linux, `export AUTOGRAPH_VERBOSITY=10`) and attach the full output. Cause: converting <bound method Dense.call of <tensorflow.python.layers.core.Dense object at 0x7f97341b1518>>: AssertionError: Bad argument number for Name: 3, expecting 4\n",
      "WARNING: Entity <bound method Dense.call of <tensorflow.python.layers.core.Dense object at 0x7f97341b1518>> could not be transformed and will be executed as-is. Please report this to the AutgoGraph team. When filing the bug, set the verbosity to 10 (on Linux, `export AUTOGRAPH_VERBOSITY=10`) and attach the full output. Cause: converting <bound method Dense.call of <tensorflow.python.layers.core.Dense object at 0x7f97341b1518>>: AssertionError: Bad argument number for Name: 3, expecting 4\n",
      "WARNING:tensorflow:Entity <bound method Dense.call of <tensorflow.python.layers.core.Dense object at 0x7f97341b1518>> could not be transformed and will be executed as-is. Please report this to the AutgoGraph team. When filing the bug, set the verbosity to 10 (on Linux, `export AUTOGRAPH_VERBOSITY=10`) and attach the full output. Cause: converting <bound method Dense.call of <tensorflow.python.layers.core.Dense object at 0x7f97341b1518>>: AssertionError: Bad argument number for Name: 3, expecting 4\n",
      "WARNING: Entity <bound method Dense.call of <tensorflow.python.layers.core.Dense object at 0x7f97341b1518>> could not be transformed and will be executed as-is. Please report this to the AutgoGraph team. When filing the bug, set the verbosity to 10 (on Linux, `export AUTOGRAPH_VERBOSITY=10`) and attach the full output. Cause: converting <bound method Dense.call of <tensorflow.python.layers.core.Dense object at 0x7f97341b1518>>: AssertionError: Bad argument number for Name: 3, expecting 4\n",
      "WARNING:tensorflow:Entity <bound method Dense.call of <tensorflow.python.layers.core.Dense object at 0x7f977cfed208>> could not be transformed and will be executed as-is. Please report this to the AutgoGraph team. When filing the bug, set the verbosity to 10 (on Linux, `export AUTOGRAPH_VERBOSITY=10`) and attach the full output. Cause: converting <bound method Dense.call of <tensorflow.python.layers.core.Dense object at 0x7f977cfed208>>: AssertionError: Bad argument number for Name: 3, expecting 4\n",
      "WARNING: Entity <bound method Dense.call of <tensorflow.python.layers.core.Dense object at 0x7f977cfed208>> could not be transformed and will be executed as-is. Please report this to the AutgoGraph team. When filing the bug, set the verbosity to 10 (on Linux, `export AUTOGRAPH_VERBOSITY=10`) and attach the full output. Cause: converting <bound method Dense.call of <tensorflow.python.layers.core.Dense object at 0x7f977cfed208>>: AssertionError: Bad argument number for Name: 3, expecting 4\n",
      "WARNING:tensorflow:Entity <bound method Dense.call of <tensorflow.python.layers.core.Dense object at 0x7f97346a1e80>> could not be transformed and will be executed as-is. Please report this to the AutgoGraph team. When filing the bug, set the verbosity to 10 (on Linux, `export AUTOGRAPH_VERBOSITY=10`) and attach the full output. Cause: converting <bound method Dense.call of <tensorflow.python.layers.core.Dense object at 0x7f97346a1e80>>: AssertionError: Bad argument number for Name: 3, expecting 4\n",
      "WARNING: Entity <bound method Dense.call of <tensorflow.python.layers.core.Dense object at 0x7f97346a1e80>> could not be transformed and will be executed as-is. Please report this to the AutgoGraph team. When filing the bug, set the verbosity to 10 (on Linux, `export AUTOGRAPH_VERBOSITY=10`) and attach the full output. Cause: converting <bound method Dense.call of <tensorflow.python.layers.core.Dense object at 0x7f97346a1e80>>: AssertionError: Bad argument number for Name: 3, expecting 4\n",
      "WARNING:tensorflow:Entity <bound method Dense.call of <tensorflow.python.layers.core.Dense object at 0x7f977ef88898>> could not be transformed and will be executed as-is. Please report this to the AutgoGraph team. When filing the bug, set the verbosity to 10 (on Linux, `export AUTOGRAPH_VERBOSITY=10`) and attach the full output. Cause: converting <bound method Dense.call of <tensorflow.python.layers.core.Dense object at 0x7f977ef88898>>: AssertionError: Bad argument number for Name: 3, expecting 4\n",
      "WARNING: Entity <bound method Dense.call of <tensorflow.python.layers.core.Dense object at 0x7f977ef88898>> could not be transformed and will be executed as-is. Please report this to the AutgoGraph team. When filing the bug, set the verbosity to 10 (on Linux, `export AUTOGRAPH_VERBOSITY=10`) and attach the full output. Cause: converting <bound method Dense.call of <tensorflow.python.layers.core.Dense object at 0x7f977ef88898>>: AssertionError: Bad argument number for Name: 3, expecting 4\n",
      "WARNING:tensorflow:Entity <bound method Dense.call of <tensorflow.python.layers.core.Dense object at 0x7f977d992eb8>> could not be transformed and will be executed as-is. Please report this to the AutgoGraph team. When filing the bug, set the verbosity to 10 (on Linux, `export AUTOGRAPH_VERBOSITY=10`) and attach the full output. Cause: converting <bound method Dense.call of <tensorflow.python.layers.core.Dense object at 0x7f977d992eb8>>: AssertionError: Bad argument number for Name: 3, expecting 4\n",
      "WARNING: Entity <bound method Dense.call of <tensorflow.python.layers.core.Dense object at 0x7f977d992eb8>> could not be transformed and will be executed as-is. Please report this to the AutgoGraph team. When filing the bug, set the verbosity to 10 (on Linux, `export AUTOGRAPH_VERBOSITY=10`) and attach the full output. Cause: converting <bound method Dense.call of <tensorflow.python.layers.core.Dense object at 0x7f977d992eb8>>: AssertionError: Bad argument number for Name: 3, expecting 4\n",
      "WARNING:tensorflow:Entity <bound method Flatten.call of <tensorflow.python.layers.core.Flatten object at 0x7f9710707f98>> could not be transformed and will be executed as-is. Please report this to the AutgoGraph team. When filing the bug, set the verbosity to 10 (on Linux, `export AUTOGRAPH_VERBOSITY=10`) and attach the full output. Cause: converting <bound method Flatten.call of <tensorflow.python.layers.core.Flatten object at 0x7f9710707f98>>: AttributeError: module 'gast' has no attribute 'Num'\n",
      "WARNING: Entity <bound method Flatten.call of <tensorflow.python.layers.core.Flatten object at 0x7f9710707f98>> could not be transformed and will be executed as-is. Please report this to the AutgoGraph team. When filing the bug, set the verbosity to 10 (on Linux, `export AUTOGRAPH_VERBOSITY=10`) and attach the full output. Cause: converting <bound method Flatten.call of <tensorflow.python.layers.core.Flatten object at 0x7f9710707f98>>: AttributeError: module 'gast' has no attribute 'Num'\n",
      "WARNING:tensorflow:Entity <bound method Dense.call of <tensorflow.python.layers.core.Dense object at 0x7f970abdbf98>> could not be transformed and will be executed as-is. Please report this to the AutgoGraph team. When filing the bug, set the verbosity to 10 (on Linux, `export AUTOGRAPH_VERBOSITY=10`) and attach the full output. Cause: converting <bound method Dense.call of <tensorflow.python.layers.core.Dense object at 0x7f970abdbf98>>: AssertionError: Bad argument number for Name: 3, expecting 4\n",
      "WARNING: Entity <bound method Dense.call of <tensorflow.python.layers.core.Dense object at 0x7f970abdbf98>> could not be transformed and will be executed as-is. Please report this to the AutgoGraph team. When filing the bug, set the verbosity to 10 (on Linux, `export AUTOGRAPH_VERBOSITY=10`) and attach the full output. Cause: converting <bound method Dense.call of <tensorflow.python.layers.core.Dense object at 0x7f970abdbf98>>: AssertionError: Bad argument number for Name: 3, expecting 4\n",
      "WARNING:tensorflow:Entity <bound method Dense.call of <tensorflow.python.layers.core.Dense object at 0x7f970abdbf98>> could not be transformed and will be executed as-is. Please report this to the AutgoGraph team. When filing the bug, set the verbosity to 10 (on Linux, `export AUTOGRAPH_VERBOSITY=10`) and attach the full output. Cause: converting <bound method Dense.call of <tensorflow.python.layers.core.Dense object at 0x7f970abdbf98>>: AssertionError: Bad argument number for Name: 3, expecting 4\n",
      "WARNING: Entity <bound method Dense.call of <tensorflow.python.layers.core.Dense object at 0x7f970abdbf98>> could not be transformed and will be executed as-is. Please report this to the AutgoGraph team. When filing the bug, set the verbosity to 10 (on Linux, `export AUTOGRAPH_VERBOSITY=10`) and attach the full output. Cause: converting <bound method Dense.call of <tensorflow.python.layers.core.Dense object at 0x7f970abdbf98>>: AssertionError: Bad argument number for Name: 3, expecting 4\n",
      "WARNING:tensorflow:Entity <bound method Dense.call of <tensorflow.python.layers.core.Dense object at 0x7f977efaad68>> could not be transformed and will be executed as-is. Please report this to the AutgoGraph team. When filing the bug, set the verbosity to 10 (on Linux, `export AUTOGRAPH_VERBOSITY=10`) and attach the full output. Cause: converting <bound method Dense.call of <tensorflow.python.layers.core.Dense object at 0x7f977efaad68>>: AssertionError: Bad argument number for Name: 3, expecting 4\n",
      "WARNING: Entity <bound method Dense.call of <tensorflow.python.layers.core.Dense object at 0x7f977efaad68>> could not be transformed and will be executed as-is. Please report this to the AutgoGraph team. When filing the bug, set the verbosity to 10 (on Linux, `export AUTOGRAPH_VERBOSITY=10`) and attach the full output. Cause: converting <bound method Dense.call of <tensorflow.python.layers.core.Dense object at 0x7f977efaad68>>: AssertionError: Bad argument number for Name: 3, expecting 4\n",
      "total_reward:858470.124652192\n",
      "total_cost:  2048.443978607822\n",
      "Sharpe:  0.7246704155502058\n",
      "total_reward:939372.5775060009\n",
      "total_cost:  1995.9554940000028\n",
      "Sharpe:  0.7426274356726843\n",
      "total_reward:939372.5775060009\n",
      "total_cost:  1995.9554940000028\n",
      "Sharpe:  0.7426274356726843\n",
      "total_reward:939372.5775060009\n",
      "total_cost:  1995.9554940000028\n",
      "Sharpe:  0.7426274356726843\n",
      "sac:  0.822337011496226  minutes\n"
     ]
    }
   ],
   "source": [
    "start = time.time()\n",
    "model_sac = SAC('MlpPolicy', env_train_spy, verbose=0)\n",
    "model_sac.learn(10000)\n",
    "end = time.time()\n",
    "model_ppo.save(\"model_single_stock/sac_10k_spy\")\n",
    "print('sac: ',(end-start)/60,' minutes')"
   ]
  },
  {
   "cell_type": "code",
   "execution_count": 143,
   "metadata": {
    "collapsed": true,
    "scrolled": true
   },
   "outputs": [
    {
     "name": "stdout",
     "output_type": "stream",
     "text": [
      "total_reward:261222.5737999999\n",
      "total_cost:  1995.9262000000003\n",
      "Sharpe:  0.7110783431455032\n",
      "PPO:  0.0013566407849711756  per data sec\n"
     ]
    }
   ],
   "source": [
    "# trading\n",
    "##sac\n",
    "start = time.time()\n",
    "#model_ddpg=DDPG.load('model_single_stock/ddpg_10k_all_tcost')\n",
    "for i in range(len(test_2017_2020_spy.index.unique())):    \n",
    "    action, _states = model_sac.predict(obs_spy)\n",
    "    obs_spy, rewards, dones, info = env_test_spy.step(action)\n",
    "    env_test_spy.render()\n",
    "end = time.time()\n",
    "print('PPO: ',(end-start)/len(test_2017_2020_spy.index.unique()),' per data sec')\n",
    "\n",
    "#0.6303624405160475, 40k"
   ]
  },
  {
   "cell_type": "code",
   "execution_count": null,
   "metadata": {
    "collapsed": true,
    "scrolled": true
   },
   "outputs": [],
   "source": []
  }
 ],
 "metadata": {
  "kernelspec": {
   "display_name": "Python 3",
   "language": "python",
   "name": "python3"
  },
  "language_info": {
   "codemirror_mode": {
    "name": "ipython",
    "version": 3
   },
   "file_extension": ".py",
   "mimetype": "text/x-python",
   "name": "python",
   "nbconvert_exporter": "python",
   "pygments_lexer": "ipython3",
   "version": "3.6.10"
  }
 },
 "nbformat": 4,
 "nbformat_minor": 4
}
