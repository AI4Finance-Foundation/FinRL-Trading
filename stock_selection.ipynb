{
 "cells": [
  {
   "cell_type": "code",
   "execution_count": 25,
   "metadata": {},
   "outputs": [],
   "source": [
    "import pandas as pd\n",
    "import time\n",
    "import os"
   ]
  },
  {
   "cell_type": "code",
   "execution_count": null,
   "metadata": {},
   "outputs": [],
   "source": [
    "# 定义行业范围\n",
    "sectors = range(10, 65, 5)\n",
    "\n",
    "# 设置数据目录路径 - 硬编码为my_outputs\n",
    "DATA_DIR = \"./data_processor/my_outputs\"\n",
    "FUNDAMENTAL_FILE = f\"{DATA_DIR}/final_ratios.csv\"\n",
    "\n",
    "print(f\"使用数据目录: {DATA_DIR}\")\n",
    "print(f\"基本面数据文件: {FUNDAMENTAL_FILE}\")\n",
    "print(f\"行业范围: {list(sectors)}\")"
   ]
  },
  {
   "cell_type": "code",
   "execution_count": 27,
   "metadata": {},
   "outputs": [],
   "source": [
    "#gvkey is unique identifier\n",
    "df_dict = {'gvkey':[], 'predicted_return':[], 'trade_date':[]}"
   ]
  },
  {
   "cell_type": "code",
   "execution_count": null,
   "metadata": {},
   "outputs": [],
   "source": [
    "# ===== 新代码：运行my_outputs目录下所有行业的股票选择 =====\n",
    "start=time.time()\n",
    "print(\"开始运行所有行业的股票选择模型...\")\n",
    "\n",
    "for sector in sectors:\n",
    "    sector_file = f\"{DATA_DIR}/sector{sector}.xlsx\"\n",
    "    print(f\"\\n正在处理 sector{sector}...\")\n",
    "    \n",
    "    # 运行模型训练 - 使用my_outputs目录的文件\n",
    "    cmd = f\"python fundamental_run_model.py -sector_name sector{sector} -tic_column gvkey -fundamental {FUNDAMENTAL_FILE} -sector {sector_file}\"\n",
    "    print(f\"执行命令: {cmd}\")\n",
    "    \n",
    "    os.system(cmd)\n",
    "    \n",
    "    # 读取预测结果\n",
    "    df = pd.read_csv(f\"results/sector{sector}/df_predict_best.csv\", index_col=0)\n",
    "    print(f\"  读取预测结果: {df.shape[0]} 个日期, {df.shape[1]} 只股票\")\n",
    "    \n",
    "    for idx in df.index:\n",
    "        predicted_return = df.loc[idx]\n",
    "        top_q = predicted_return.quantile(0.75)\n",
    "        predicted_return = predicted_return[predicted_return >= top_q]\n",
    "        for gvkey in predicted_return.index:\n",
    "            df_dict[\"gvkey\"].append(gvkey)\n",
    "            df_dict[\"predicted_return\"].append(predicted_return[gvkey])\n",
    "            df_dict[\"trade_date\"].append(idx)\n",
    "    \n",
    "    print(f\"  ✓ sector{sector} 处理完成\")\n",
    "\n",
    "end=time.time()\n",
    "\n",
    "# ===== 原有代码（已注释） =====\n",
    "# start=time.time()\n",
    "# for sector in sectors:\n",
    "#     os.system(f\"python3 fundamental_run_model.py -sector_name sector{sector} -tic_column gvkey -fundamental final_ratios.csv -sector sector{sector}.xlsx \")\n",
    "#     df = pd.read_csv(f\"results/sector{sector}/df_predict_best.csv\", index_col=0)\n",
    "#     for idx in df.index:\n",
    "#         predicted_return = df.loc[idx]\n",
    "#         top_q = predicted_return.quantile(0.75)\n",
    "#         predicted_return = predicted_return[predicted_return >= top_q]\n",
    "#         for gvkey in predicted_return.index:\n",
    "#             df_dict[\"gvkey\"].append(gvkey)\n",
    "#             df_dict[\"predicted_return\"].append(predicted_return[gvkey])\n",
    "#             df_dict[\"trade_date\"].append(idx)\n",
    "# end=time.time()"
   ]
  },
  {
   "cell_type": "code",
   "execution_count": 6,
   "metadata": {},
   "outputs": [
    {
     "name": "stdout",
     "output_type": "stream",
     "text": [
      "总耗时: 0.40141645272572835 分钟\n",
      "处理完成！总记录数: 0\n"
     ]
    }
   ],
   "source": [
    "print(\"总耗时: \", (end-start)/60, ' 分钟')\n",
    "print(f\"处理完成！总记录数: {len(df_dict['gvkey'])}\")\n",
    "\n",
    "# 原有代码（已注释）\n",
    "# print(\"it took \", (end-start)/60, ' minutes')"
   ]
  },
  {
   "cell_type": "code",
   "execution_count": 6,
   "metadata": {},
   "outputs": [],
   "source": [
    "df_result = pd.DataFrame(df_dict)"
   ]
  },
  {
   "cell_type": "code",
   "execution_count": 7,
   "metadata": {},
   "outputs": [
    {
     "name": "stdout",
     "output_type": "stream",
     "text": [
      "结果已保存到: stock_selected_my_outputs.csv\n"
     ]
    }
   ],
   "source": [
    "# 保存结果到CSV文件 - 使用新的文件名\n",
    "output_file = \"stock_selected_my_outputs.csv\"\n",
    "df_result.to_csv(output_file, index=False)\n",
    "print(f\"结果已保存到: {output_file}\")\n",
    "\n",
    "# 原有代码（已注释）\n",
    "# df_result.to_csv(\"stock_selected.csv\")"
   ]
  },
  {
   "cell_type": "code",
   "execution_count": 9,
   "metadata": {},
   "outputs": [
    {
     "data": {
      "text/html": [
       "<div>\n",
       "<style scoped>\n",
       "    .dataframe tbody tr th:only-of-type {\n",
       "        vertical-align: middle;\n",
       "    }\n",
       "\n",
       "    .dataframe tbody tr th {\n",
       "        vertical-align: top;\n",
       "    }\n",
       "\n",
       "    .dataframe thead th {\n",
       "        text-align: right;\n",
       "    }\n",
       "</style>\n",
       "<table border=\"1\" class=\"dataframe\">\n",
       "  <thead>\n",
       "    <tr style=\"text-align: right;\">\n",
       "      <th></th>\n",
       "      <th>gvkey</th>\n",
       "      <th>predicted_return</th>\n",
       "      <th>trade_date</th>\n",
       "    </tr>\n",
       "  </thead>\n",
       "  <tbody>\n",
       "  </tbody>\n",
       "</table>\n",
       "</div>"
      ],
      "text/plain": [
       "Empty DataFrame\n",
       "Columns: [gvkey, predicted_return, trade_date]\n",
       "Index: []"
      ]
     },
     "execution_count": 9,
     "metadata": {},
     "output_type": "execute_result"
    }
   ],
   "source": [
    "df_result.head()"
   ]
  }
 ],
 "metadata": {
  "kernelspec": {
   "display_name": "Python 3",
   "language": "python",
   "name": "python3"
  },
  "language_info": {
   "codemirror_mode": {
    "name": "ipython",
    "version": 3
   },
   "file_extension": ".py",
   "mimetype": "text/x-python",
   "name": "python",
   "nbconvert_exporter": "python",
   "pygments_lexer": "ipython3",
   "version": "3.7.7"
  },
  "vscode": {
   "interpreter": {
    "hash": "31f2aee4e71d21fbe5cf8b01ff0e069b9275f58929596ceb00d14d90e3e16cd6"
   }
  }
 },
 "nbformat": 4,
 "nbformat_minor": 2
}
