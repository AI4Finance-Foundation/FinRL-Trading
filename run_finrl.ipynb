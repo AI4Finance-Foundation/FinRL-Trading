{
 "cells": [
  {
   "cell_type": "code",
   "execution_count": 1,
   "metadata": {},
   "outputs": [
    {
     "name": "stderr",
     "output_type": "stream",
     "text": [
      "/Users/hongyangyang/anaconda3/lib/python3.6/site-packages/tensorflow/python/framework/dtypes.py:523: FutureWarning: Passing (type, 1) or '1type' as a synonym of type is deprecated; in a future version of numpy, it will be understood as (type, (1,)) / '(1,)type'.\n",
      "  _np_qint8 = np.dtype([(\"qint8\", np.int8, 1)])\n",
      "/Users/hongyangyang/anaconda3/lib/python3.6/site-packages/tensorflow/python/framework/dtypes.py:524: FutureWarning: Passing (type, 1) or '1type' as a synonym of type is deprecated; in a future version of numpy, it will be understood as (type, (1,)) / '(1,)type'.\n",
      "  _np_quint8 = np.dtype([(\"quint8\", np.uint8, 1)])\n",
      "/Users/hongyangyang/anaconda3/lib/python3.6/site-packages/tensorflow/python/framework/dtypes.py:525: FutureWarning: Passing (type, 1) or '1type' as a synonym of type is deprecated; in a future version of numpy, it will be understood as (type, (1,)) / '(1,)type'.\n",
      "  _np_qint16 = np.dtype([(\"qint16\", np.int16, 1)])\n",
      "/Users/hongyangyang/anaconda3/lib/python3.6/site-packages/tensorflow/python/framework/dtypes.py:526: FutureWarning: Passing (type, 1) or '1type' as a synonym of type is deprecated; in a future version of numpy, it will be understood as (type, (1,)) / '(1,)type'.\n",
      "  _np_quint16 = np.dtype([(\"quint16\", np.uint16, 1)])\n",
      "/Users/hongyangyang/anaconda3/lib/python3.6/site-packages/tensorflow/python/framework/dtypes.py:527: FutureWarning: Passing (type, 1) or '1type' as a synonym of type is deprecated; in a future version of numpy, it will be understood as (type, (1,)) / '(1,)type'.\n",
      "  _np_qint32 = np.dtype([(\"qint32\", np.int32, 1)])\n",
      "/Users/hongyangyang/anaconda3/lib/python3.6/site-packages/tensorflow/python/framework/dtypes.py:532: FutureWarning: Passing (type, 1) or '1type' as a synonym of type is deprecated; in a future version of numpy, it will be understood as (type, (1,)) / '(1,)type'.\n",
      "  np_resource = np.dtype([(\"resource\", np.ubyte, 1)])\n"
     ]
    }
   ],
   "source": [
    "import pandas as pd\n",
    "import numpy as np\n",
    "import time\n",
    "from stable_baselines.common.vec_env import DummyVecEnv\n",
    "\n",
    "# customized env\n",
    "from env.StockTradingRLEnv import StockEnv\n",
    "# preprocessor\n",
    "from preprocessing.preprocessors import *\n",
    "# config\n",
    "from config.config import *\n",
    "# model\n",
    "from model.models import *"
   ]
  },
  {
   "cell_type": "code",
   "execution_count": null,
   "metadata": {},
   "outputs": [],
   "source": []
  },
  {
   "cell_type": "code",
   "execution_count": 2,
   "metadata": {},
   "outputs": [
    {
     "name": "stderr",
     "output_type": "stream",
     "text": [
      "NOTE: Behavior of MACDH calculation has changed as of July 2017 - it is now 1/2 of previous calculated values\n",
      "/Users/hongyangyang/anaconda3/lib/python3.6/site-packages/pandas/core/indexing.py:671: SettingWithCopyWarning: \n",
      "A value is trying to be set on a copy of a slice from a DataFrame\n",
      "\n",
      "See the caveats in the documentation: https://pandas.pydata.org/pandas-docs/stable/user_guide/indexing.html#returning-a-view-versus-a-copy\n",
      "  self._setitem_with_indexer(indexer, value)\n",
      "NOTE: Behavior of MACDH calculation has changed as of July 2017 - it is now 1/2 of previous calculated values\n",
      "NOTE: Behavior of MACDH calculation has changed as of July 2017 - it is now 1/2 of previous calculated values\n",
      "NOTE: Behavior of MACDH calculation has changed as of July 2017 - it is now 1/2 of previous calculated values\n",
      "NOTE: Behavior of MACDH calculation has changed as of July 2017 - it is now 1/2 of previous calculated values\n",
      "NOTE: Behavior of MACDH calculation has changed as of July 2017 - it is now 1/2 of previous calculated values\n",
      "NOTE: Behavior of MACDH calculation has changed as of July 2017 - it is now 1/2 of previous calculated values\n",
      "NOTE: Behavior of MACDH calculation has changed as of July 2017 - it is now 1/2 of previous calculated values\n",
      "NOTE: Behavior of MACDH calculation has changed as of July 2017 - it is now 1/2 of previous calculated values\n",
      "NOTE: Behavior of MACDH calculation has changed as of July 2017 - it is now 1/2 of previous calculated values\n",
      "NOTE: Behavior of MACDH calculation has changed as of July 2017 - it is now 1/2 of previous calculated values\n",
      "NOTE: Behavior of MACDH calculation has changed as of July 2017 - it is now 1/2 of previous calculated values\n",
      "NOTE: Behavior of MACDH calculation has changed as of July 2017 - it is now 1/2 of previous calculated values\n",
      "NOTE: Behavior of MACDH calculation has changed as of July 2017 - it is now 1/2 of previous calculated values\n",
      "NOTE: Behavior of MACDH calculation has changed as of July 2017 - it is now 1/2 of previous calculated values\n",
      "NOTE: Behavior of MACDH calculation has changed as of July 2017 - it is now 1/2 of previous calculated values\n",
      "NOTE: Behavior of MACDH calculation has changed as of July 2017 - it is now 1/2 of previous calculated values\n",
      "NOTE: Behavior of MACDH calculation has changed as of July 2017 - it is now 1/2 of previous calculated values\n",
      "NOTE: Behavior of MACDH calculation has changed as of July 2017 - it is now 1/2 of previous calculated values\n",
      "NOTE: Behavior of MACDH calculation has changed as of July 2017 - it is now 1/2 of previous calculated values\n",
      "NOTE: Behavior of MACDH calculation has changed as of July 2017 - it is now 1/2 of previous calculated values\n",
      "NOTE: Behavior of MACDH calculation has changed as of July 2017 - it is now 1/2 of previous calculated values\n",
      "NOTE: Behavior of MACDH calculation has changed as of July 2017 - it is now 1/2 of previous calculated values\n",
      "NOTE: Behavior of MACDH calculation has changed as of July 2017 - it is now 1/2 of previous calculated values\n",
      "NOTE: Behavior of MACDH calculation has changed as of July 2017 - it is now 1/2 of previous calculated values\n",
      "NOTE: Behavior of MACDH calculation has changed as of July 2017 - it is now 1/2 of previous calculated values\n",
      "NOTE: Behavior of MACDH calculation has changed as of July 2017 - it is now 1/2 of previous calculated values\n",
      "NOTE: Behavior of MACDH calculation has changed as of July 2017 - it is now 1/2 of previous calculated values\n",
      "NOTE: Behavior of MACDH calculation has changed as of July 2017 - it is now 1/2 of previous calculated values\n",
      "NOTE: Behavior of MACDH calculation has changed as of July 2017 - it is now 1/2 of previous calculated values\n"
     ]
    }
   ],
   "source": [
    "df = preprocess_data()\n"
   ]
  },
  {
   "cell_type": "code",
   "execution_count": 3,
   "metadata": {},
   "outputs": [],
   "source": [
    "df = add_turbulence(df)"
   ]
  },
  {
   "cell_type": "code",
   "execution_count": 4,
   "metadata": {},
   "outputs": [
    {
     "data": {
      "text/html": [
       "<div>\n",
       "<style scoped>\n",
       "    .dataframe tbody tr th:only-of-type {\n",
       "        vertical-align: middle;\n",
       "    }\n",
       "\n",
       "    .dataframe tbody tr th {\n",
       "        vertical-align: top;\n",
       "    }\n",
       "\n",
       "    .dataframe thead th {\n",
       "        text-align: right;\n",
       "    }\n",
       "</style>\n",
       "<table border=\"1\" class=\"dataframe\">\n",
       "  <thead>\n",
       "    <tr style=\"text-align: right;\">\n",
       "      <th></th>\n",
       "      <th>datadate</th>\n",
       "      <th>tic</th>\n",
       "      <th>adjcp</th>\n",
       "      <th>open</th>\n",
       "      <th>high</th>\n",
       "      <th>low</th>\n",
       "      <th>volume</th>\n",
       "      <th>macd</th>\n",
       "      <th>rsi</th>\n",
       "      <th>cci</th>\n",
       "      <th>adx</th>\n",
       "      <th>turbulence</th>\n",
       "    </tr>\n",
       "  </thead>\n",
       "  <tbody>\n",
       "    <tr>\n",
       "      <th>0</th>\n",
       "      <td>20090102</td>\n",
       "      <td>AAPL</td>\n",
       "      <td>12.964286</td>\n",
       "      <td>12.268571</td>\n",
       "      <td>13.005714</td>\n",
       "      <td>12.165714</td>\n",
       "      <td>26641980.0</td>\n",
       "      <td>0.0</td>\n",
       "      <td>100.0</td>\n",
       "      <td>66.666667</td>\n",
       "      <td>100.0</td>\n",
       "      <td>0.0</td>\n",
       "    </tr>\n",
       "    <tr>\n",
       "      <th>1</th>\n",
       "      <td>20090102</td>\n",
       "      <td>AXP</td>\n",
       "      <td>19.330000</td>\n",
       "      <td>18.570000</td>\n",
       "      <td>19.520000</td>\n",
       "      <td>18.400000</td>\n",
       "      <td>10955620.0</td>\n",
       "      <td>0.0</td>\n",
       "      <td>100.0</td>\n",
       "      <td>66.666667</td>\n",
       "      <td>100.0</td>\n",
       "      <td>0.0</td>\n",
       "    </tr>\n",
       "    <tr>\n",
       "      <th>2</th>\n",
       "      <td>20090102</td>\n",
       "      <td>BA</td>\n",
       "      <td>45.250000</td>\n",
       "      <td>42.800000</td>\n",
       "      <td>45.560000</td>\n",
       "      <td>42.780000</td>\n",
       "      <td>7010171.0</td>\n",
       "      <td>0.0</td>\n",
       "      <td>100.0</td>\n",
       "      <td>66.666667</td>\n",
       "      <td>100.0</td>\n",
       "      <td>0.0</td>\n",
       "    </tr>\n",
       "    <tr>\n",
       "      <th>3</th>\n",
       "      <td>20090102</td>\n",
       "      <td>CAT</td>\n",
       "      <td>46.910000</td>\n",
       "      <td>44.910000</td>\n",
       "      <td>46.980000</td>\n",
       "      <td>44.710000</td>\n",
       "      <td>7116726.0</td>\n",
       "      <td>0.0</td>\n",
       "      <td>0.0</td>\n",
       "      <td>66.666667</td>\n",
       "      <td>100.0</td>\n",
       "      <td>0.0</td>\n",
       "    </tr>\n",
       "    <tr>\n",
       "      <th>4</th>\n",
       "      <td>20090102</td>\n",
       "      <td>CSCO</td>\n",
       "      <td>16.960000</td>\n",
       "      <td>16.410000</td>\n",
       "      <td>17.000000</td>\n",
       "      <td>16.250000</td>\n",
       "      <td>40977480.0</td>\n",
       "      <td>0.0</td>\n",
       "      <td>100.0</td>\n",
       "      <td>66.666667</td>\n",
       "      <td>100.0</td>\n",
       "      <td>0.0</td>\n",
       "    </tr>\n",
       "  </tbody>\n",
       "</table>\n",
       "</div>"
      ],
      "text/plain": [
       "   datadate   tic      adjcp       open       high        low      volume  \\\n",
       "0  20090102  AAPL  12.964286  12.268571  13.005714  12.165714  26641980.0   \n",
       "1  20090102   AXP  19.330000  18.570000  19.520000  18.400000  10955620.0   \n",
       "2  20090102    BA  45.250000  42.800000  45.560000  42.780000   7010171.0   \n",
       "3  20090102   CAT  46.910000  44.910000  46.980000  44.710000   7116726.0   \n",
       "4  20090102  CSCO  16.960000  16.410000  17.000000  16.250000  40977480.0   \n",
       "\n",
       "   macd    rsi        cci    adx  turbulence  \n",
       "0   0.0  100.0  66.666667  100.0         0.0  \n",
       "1   0.0  100.0  66.666667  100.0         0.0  \n",
       "2   0.0  100.0  66.666667  100.0         0.0  \n",
       "3   0.0    0.0  66.666667  100.0         0.0  \n",
       "4   0.0  100.0  66.666667  100.0         0.0  "
      ]
     },
     "execution_count": 4,
     "metadata": {},
     "output_type": "execute_result"
    }
   ],
   "source": [
    "df.head()"
   ]
  },
  {
   "cell_type": "code",
   "execution_count": 5,
   "metadata": {},
   "outputs": [
    {
     "data": {
      "text/html": [
       "<div>\n",
       "<style scoped>\n",
       "    .dataframe tbody tr th:only-of-type {\n",
       "        vertical-align: middle;\n",
       "    }\n",
       "\n",
       "    .dataframe tbody tr th {\n",
       "        vertical-align: top;\n",
       "    }\n",
       "\n",
       "    .dataframe thead th {\n",
       "        text-align: right;\n",
       "    }\n",
       "</style>\n",
       "<table border=\"1\" class=\"dataframe\">\n",
       "  <thead>\n",
       "    <tr style=\"text-align: right;\">\n",
       "      <th></th>\n",
       "      <th>datadate</th>\n",
       "      <th>tic</th>\n",
       "      <th>adjcp</th>\n",
       "      <th>open</th>\n",
       "      <th>high</th>\n",
       "      <th>low</th>\n",
       "      <th>volume</th>\n",
       "      <th>macd</th>\n",
       "      <th>rsi</th>\n",
       "      <th>cci</th>\n",
       "      <th>adx</th>\n",
       "      <th>turbulence</th>\n",
       "    </tr>\n",
       "  </thead>\n",
       "  <tbody>\n",
       "    <tr>\n",
       "      <th>87775</th>\n",
       "      <td>20200817</td>\n",
       "      <td>V</td>\n",
       "      <td>199.430</td>\n",
       "      <td>197.30</td>\n",
       "      <td>200.4600</td>\n",
       "      <td>196.710</td>\n",
       "      <td>6254162.0</td>\n",
       "      <td>1.034837</td>\n",
       "      <td>54.439341</td>\n",
       "      <td>102.385321</td>\n",
       "      <td>23.576070</td>\n",
       "      <td>127.002248</td>\n",
       "    </tr>\n",
       "    <tr>\n",
       "      <th>87776</th>\n",
       "      <td>20200817</td>\n",
       "      <td>VZ</td>\n",
       "      <td>58.780</td>\n",
       "      <td>58.73</td>\n",
       "      <td>58.9300</td>\n",
       "      <td>58.545</td>\n",
       "      <td>8370334.0</td>\n",
       "      <td>0.776839</td>\n",
       "      <td>57.534456</td>\n",
       "      <td>103.687894</td>\n",
       "      <td>40.790021</td>\n",
       "      <td>127.002248</td>\n",
       "    </tr>\n",
       "    <tr>\n",
       "      <th>87777</th>\n",
       "      <td>20200817</td>\n",
       "      <td>WBA</td>\n",
       "      <td>41.175</td>\n",
       "      <td>41.91</td>\n",
       "      <td>41.9694</td>\n",
       "      <td>40.810</td>\n",
       "      <td>5258868.0</td>\n",
       "      <td>0.092803</td>\n",
       "      <td>48.564939</td>\n",
       "      <td>40.646766</td>\n",
       "      <td>13.658417</td>\n",
       "      <td>127.002248</td>\n",
       "    </tr>\n",
       "    <tr>\n",
       "      <th>87778</th>\n",
       "      <td>20200817</td>\n",
       "      <td>WMT</td>\n",
       "      <td>135.600</td>\n",
       "      <td>134.35</td>\n",
       "      <td>136.1300</td>\n",
       "      <td>133.850</td>\n",
       "      <td>12991970.0</td>\n",
       "      <td>1.531932</td>\n",
       "      <td>61.371397</td>\n",
       "      <td>201.149482</td>\n",
       "      <td>52.305705</td>\n",
       "      <td>127.002248</td>\n",
       "    </tr>\n",
       "    <tr>\n",
       "      <th>87779</th>\n",
       "      <td>20200817</td>\n",
       "      <td>XOM</td>\n",
       "      <td>42.640</td>\n",
       "      <td>43.17</td>\n",
       "      <td>43.1700</td>\n",
       "      <td>42.470</td>\n",
       "      <td>15527400.0</td>\n",
       "      <td>-0.227324</td>\n",
       "      <td>46.511293</td>\n",
       "      <td>-65.015760</td>\n",
       "      <td>2.021414</td>\n",
       "      <td>127.002248</td>\n",
       "    </tr>\n",
       "  </tbody>\n",
       "</table>\n",
       "</div>"
      ],
      "text/plain": [
       "       datadate  tic    adjcp    open      high      low      volume  \\\n",
       "87775  20200817    V  199.430  197.30  200.4600  196.710   6254162.0   \n",
       "87776  20200817   VZ   58.780   58.73   58.9300   58.545   8370334.0   \n",
       "87777  20200817  WBA   41.175   41.91   41.9694   40.810   5258868.0   \n",
       "87778  20200817  WMT  135.600  134.35  136.1300  133.850  12991970.0   \n",
       "87779  20200817  XOM   42.640   43.17   43.1700   42.470  15527400.0   \n",
       "\n",
       "           macd        rsi         cci        adx  turbulence  \n",
       "87775  1.034837  54.439341  102.385321  23.576070  127.002248  \n",
       "87776  0.776839  57.534456  103.687894  40.790021  127.002248  \n",
       "87777  0.092803  48.564939   40.646766  13.658417  127.002248  \n",
       "87778  1.531932  61.371397  201.149482  52.305705  127.002248  \n",
       "87779 -0.227324  46.511293  -65.015760   2.021414  127.002248  "
      ]
     },
     "execution_count": 5,
     "metadata": {},
     "output_type": "execute_result"
    }
   ],
   "source": [
    "df.tail()"
   ]
  },
  {
   "cell_type": "code",
   "execution_count": 6,
   "metadata": {},
   "outputs": [
    {
     "data": {
      "text/plain": [
       "(87780, 12)"
      ]
     },
     "execution_count": 6,
     "metadata": {},
     "output_type": "execute_result"
    }
   ],
   "source": [
    "df.shape"
   ]
  },
  {
   "cell_type": "code",
   "execution_count": null,
   "metadata": {},
   "outputs": [],
   "source": []
  },
  {
   "cell_type": "code",
   "execution_count": 541,
   "metadata": {},
   "outputs": [],
   "source": [
    "# divide train and test\n"
   ]
  },
  {
   "cell_type": "markdown",
   "metadata": {},
   "source": [
    "## PPO"
   ]
  },
  {
   "cell_type": "code",
   "execution_count": 164,
   "metadata": {},
   "outputs": [
    {
     "data": {
      "text/plain": [
       "<module 'env.StockTradingRLEnv' from '/Users/hongyangyang/Documents/GitHub/DRL-Stock-Trading-PPO-A2C-DDPG-ICAIF/env/StockTradingRLEnv.py'>"
      ]
     },
     "execution_count": 164,
     "metadata": {},
     "output_type": "execute_result"
    }
   ],
   "source": [
    "import env.StockTradingRLEnv\n",
    "from importlib import reload\n",
    "\n",
    "reload(env.StockTradingRLEnv)"
   ]
  },
  {
   "cell_type": "code",
   "execution_count": 65,
   "metadata": {},
   "outputs": [],
   "source": [
    "import env.EnvMultipleStock_train\n",
    "from importlib import reload\n",
    "\n",
    "reload(env.EnvMultipleStock_train)\n",
    "from env.EnvMultipleStock_train import StockEnvTrain\n",
    "## set up train & test environment\n",
    "# training env\n",
    "train = data_split(df, start=20090000, end=20160000)\n",
    "\n",
    "env_train = DummyVecEnv([lambda: StockEnvTrain(train)])"
   ]
  },
  {
   "cell_type": "code",
   "execution_count": 29,
   "metadata": {
    "scrolled": true
   },
   "outputs": [
    {
     "name": "stdout",
     "output_type": "stream",
     "text": [
      "==============Model Training===========\n",
      "end_total_asset:1651603.330521749\n",
      "total_reward:651603.3305217491\n",
      "total_cost:  59760.70681446957\n",
      "total trades:  51452\n",
      "Sharpe:  0.6202288199926475\n",
      "end_total_asset:2022753.2601278706\n",
      "total_reward:1022753.2601278706\n",
      "total_cost:  59147.91396636183\n",
      "total trades:  51394\n",
      "Sharpe:  0.7299621397841163\n",
      "end_total_asset:2219768.350361183\n",
      "total_reward:1219768.3503611828\n",
      "total_cost:  58145.767014064506\n",
      "total trades:  50874\n",
      "Sharpe:  0.8835691082432141\n",
      "end_total_asset:1958179.4800190486\n",
      "total_reward:958179.4800190486\n",
      "total_cost:  58180.40214333232\n",
      "total trades:  50883\n",
      "Sharpe:  0.8011641205239809\n",
      "end_total_asset:1952633.5568549957\n",
      "total_reward:952633.5568549957\n",
      "total_cost:  56366.38392132502\n",
      "total trades:  50314\n",
      "Sharpe:  0.7642560623275397\n",
      "end_total_asset:2140671.8414148404\n",
      "total_reward:1140671.8414148404\n",
      "total_cost:  56205.38801085854\n",
      "total trades:  50106\n",
      "Sharpe:  0.8271973717498056\n",
      "end_total_asset:2329376.7918386175\n",
      "total_reward:1329376.7918386175\n",
      "total_cost:  56171.8725212481\n",
      "total trades:  49806\n",
      "Sharpe:  0.9152969333725188\n",
      "end_total_asset:2257094.5214515543\n",
      "total_reward:1257094.5214515543\n",
      "total_cost:  53633.44759148358\n",
      "total trades:  49195\n",
      "Sharpe:  0.8868128328306729\n",
      "end_total_asset:2580624.538830857\n",
      "total_reward:1580624.5388308568\n",
      "total_cost:  53272.42288451642\n",
      "total trades:  49107\n",
      "Sharpe:  1.0115496332664262\n",
      "end_total_asset:2406830.8300383743\n",
      "total_reward:1406830.8300383743\n",
      "total_cost:  52805.90713037802\n",
      "total trades:  48938\n",
      "Sharpe:  0.9266968831305055\n",
      "end_total_asset:2654661.3136083833\n",
      "total_reward:1654661.3136083833\n",
      "total_cost:  52666.584261432756\n",
      "total trades:  49000\n",
      "Sharpe:  1.01496982222941\n",
      "end_total_asset:2609085.9276143895\n",
      "total_reward:1609085.9276143895\n",
      "total_cost:  53044.01114059524\n",
      "total trades:  49052\n",
      "Sharpe:  1.0135715477899305\n",
      "end_total_asset:2558417.452641509\n",
      "total_reward:1558417.452641509\n",
      "total_cost:  54347.87752696484\n",
      "total trades:  49259\n",
      "Sharpe:  0.9905303466918883\n",
      "end_total_asset:2566439.9221711243\n",
      "total_reward:1566439.9221711243\n",
      "total_cost:  51591.606911058225\n",
      "total trades:  48835\n",
      "Sharpe:  0.9949561963321635\n",
      "end_total_asset:2506147.1861230363\n",
      "total_reward:1506147.1861230363\n",
      "total_cost:  52962.42064031913\n",
      "total trades:  49155\n",
      "Sharpe:  0.9369017216464758\n",
      "end_total_asset:2375687.8716316367\n",
      "total_reward:1375687.8716316367\n",
      "total_cost:  52094.077192246674\n",
      "total trades:  48880\n",
      "Sharpe:  0.9012901524199074\n",
      "end_total_asset:1976580.2043417762\n",
      "total_reward:976580.2043417762\n",
      "total_cost:  53016.47918875512\n",
      "total trades:  49337\n",
      "Sharpe:  0.7076003597658819\n",
      "end_total_asset:2187256.9722714745\n",
      "total_reward:1187256.9722714745\n",
      "total_cost:  52673.51228444072\n",
      "total trades:  49353\n",
      "Sharpe:  0.7977750632173797\n",
      "end_total_asset:2281433.6813287227\n",
      "total_reward:1281433.6813287227\n",
      "total_cost:  52303.59825451983\n",
      "total trades:  49345\n",
      "Sharpe:  0.8204917625641631\n",
      "end_total_asset:2259930.9923954336\n",
      "total_reward:1259930.9923954336\n",
      "total_cost:  53642.84621065287\n",
      "total trades:  49421\n",
      "Sharpe:  0.848116320702272\n",
      "end_total_asset:2474093.744327315\n",
      "total_reward:1474093.7443273151\n",
      "total_cost:  54036.54585775117\n",
      "total trades:  49379\n",
      "Sharpe:  0.9534428906242517\n",
      "end_total_asset:2022699.2454108032\n",
      "total_reward:1022699.2454108032\n",
      "total_cost:  50409.54664857685\n",
      "total trades:  48829\n",
      "Sharpe:  0.7307221217917846\n",
      "end_total_asset:2283254.8864020053\n",
      "total_reward:1283254.8864020053\n",
      "total_cost:  52812.48440974702\n",
      "total trades:  49260\n",
      "Sharpe:  0.83431525012355\n",
      "end_total_asset:2095913.249378029\n",
      "total_reward:1095913.249378029\n",
      "total_cost:  52909.02827505208\n",
      "total trades:  49156\n",
      "Sharpe:  0.7769117991824304\n",
      "end_total_asset:2253846.716302183\n",
      "total_reward:1253846.716302183\n",
      "total_cost:  52690.44616285637\n",
      "total trades:  49143\n",
      "Sharpe:  0.8278703068503638\n",
      "end_total_asset:2148450.195509222\n",
      "total_reward:1148450.1955092219\n",
      "total_cost:  53075.68393261418\n",
      "total trades:  49110\n",
      "Sharpe:  0.7861104897517956\n",
      "end_total_asset:1875240.456778874\n",
      "total_reward:875240.4567788739\n",
      "total_cost:  52136.867887183435\n",
      "total trades:  49160\n",
      "Sharpe:  0.6510050433249973\n",
      "end_total_asset:2104748.7337982985\n",
      "total_reward:1104748.7337982985\n",
      "total_cost:  52676.43115227116\n",
      "total trades:  49136\n",
      "Sharpe:  0.773730372223844\n",
      "end_total_asset:2189136.4895050577\n",
      "total_reward:1189136.4895050577\n",
      "total_cost:  53939.024936768124\n",
      "total trades:  49509\n",
      "Sharpe:  0.8173717667112208\n",
      "end_total_asset:2174082.185874154\n",
      "total_reward:1174082.1858741539\n",
      "total_cost:  51456.10841199808\n",
      "total trades:  48952\n",
      "Sharpe:  0.7992174366932929\n",
      "end_total_asset:2174162.82511466\n",
      "total_reward:1174162.82511466\n",
      "total_cost:  52735.3243483623\n",
      "total trades:  49359\n",
      "Sharpe:  0.8110198374013634\n",
      "end_total_asset:2244969.6466317857\n",
      "total_reward:1244969.6466317857\n",
      "total_cost:  53436.34434099403\n",
      "total trades:  49350\n",
      "Sharpe:  0.8459718822736249\n",
      "end_total_asset:2010098.975900223\n",
      "total_reward:1010098.975900223\n",
      "total_cost:  54064.083787093434\n",
      "total trades:  49552\n",
      "Sharpe:  0.7567234812910868\n",
      "end_total_asset:2034500.605179565\n",
      "total_reward:1034500.605179565\n",
      "total_cost:  53513.91838139175\n",
      "total trades:  49467\n",
      "Sharpe:  0.7336482565260622\n",
      "end_total_asset:1811833.1359627142\n",
      "total_reward:811833.1359627142\n",
      "total_cost:  53790.214520420355\n",
      "total trades:  49745\n",
      "Sharpe:  0.6298699583439736\n",
      "end_total_asset:1831767.2321089988\n",
      "total_reward:831767.2321089988\n",
      "total_cost:  52465.10320894761\n",
      "total trades:  49502\n",
      "Sharpe:  0.6660135526590368\n",
      "end_total_asset:2056794.0167205092\n",
      "total_reward:1056794.0167205092\n",
      "total_cost:  49877.52428925206\n",
      "total trades:  48831\n",
      "Sharpe:  0.7180904212152917\n",
      "end_total_asset:1973348.8986512641\n",
      "total_reward:973348.8986512641\n",
      "total_cost:  52361.11213690273\n",
      "total trades:  49302\n",
      "Sharpe:  0.7320782444950829\n",
      "end_total_asset:2031361.8289195362\n",
      "total_reward:1031361.8289195362\n",
      "total_cost:  51286.689683446726\n",
      "total trades:  48994\n",
      "Sharpe:  0.7354309232190404\n",
      "end_total_asset:1847332.6359960665\n",
      "total_reward:847332.6359960665\n",
      "total_cost:  50753.23477844526\n",
      "total trades:  49049\n",
      "Sharpe:  0.6120704878925484\n",
      "end_total_asset:1939521.503951536\n",
      "total_reward:939521.503951536\n",
      "total_cost:  53803.77598231526\n",
      "total trades:  49705\n",
      "Sharpe:  0.665117924447504\n",
      "end_total_asset:2021864.7163856388\n",
      "total_reward:1021864.7163856388\n",
      "total_cost:  51463.46468494576\n",
      "total trades:  49229\n",
      "Sharpe:  0.6817867702642391\n",
      "end_total_asset:1708401.6671128622\n",
      "total_reward:708401.6671128622\n",
      "total_cost:  53425.87605328709\n",
      "total trades:  49739\n",
      "Sharpe:  0.5457424438892795\n",
      "end_total_asset:2083295.8581924762\n",
      "total_reward:1083295.8581924762\n",
      "total_cost:  54598.92142112765\n",
      "total trades:  49696\n",
      "Sharpe:  0.7377498860424018\n",
      "end_total_asset:2080198.0615745487\n",
      "total_reward:1080198.0615745487\n",
      "total_cost:  53410.32137225124\n",
      "total trades:  49582\n",
      "Sharpe:  0.7271538729415304\n",
      "end_total_asset:2190305.308820974\n",
      "total_reward:1190305.308820974\n",
      "total_cost:  51157.835887850706\n",
      "total trades:  49037\n",
      "Sharpe:  0.732432617365537\n",
      "end_total_asset:2122060.1536392607\n",
      "total_reward:1122060.1536392607\n",
      "total_cost:  54599.08188312445\n",
      "total trades:  49833\n",
      "Sharpe:  0.7474613155278182\n",
      "end_total_asset:2063312.952794697\n",
      "total_reward:1063312.952794697\n",
      "total_cost:  55638.8236127912\n",
      "total trades:  49673\n",
      "Sharpe:  0.7360247203730192\n",
      "end_total_asset:2154253.021651129\n",
      "total_reward:1154253.0216511288\n",
      "total_cost:  53174.0004984123\n",
      "total trades:  49492\n",
      "Sharpe:  0.731557454054498\n",
      "end_total_asset:2124500.1047494966\n",
      "total_reward:1124500.1047494966\n",
      "total_cost:  51900.34722439897\n",
      "total trades:  49376\n",
      "Sharpe:  0.7385021676376999\n",
      "end_total_asset:2038685.0142600622\n",
      "total_reward:1038685.0142600622\n",
      "total_cost:  50737.805615126425\n",
      "total trades:  49018\n",
      "Sharpe:  0.676982022372611\n",
      "end_total_asset:2150542.1873486037\n",
      "total_reward:1150542.1873486037\n",
      "total_cost:  52148.69928231177\n",
      "total trades:  49430\n",
      "Sharpe:  0.7213291130365613\n",
      "end_total_asset:2034580.9830672345\n",
      "total_reward:1034580.9830672345\n",
      "total_cost:  52611.94113314279\n",
      "total trades:  49383\n",
      "Sharpe:  0.6885163463827338\n",
      "end_total_asset:2074066.307675342\n",
      "total_reward:1074066.307675342\n",
      "total_cost:  54004.40316055812\n",
      "total trades:  49903\n",
      "Sharpe:  0.722541762171445\n",
      "end_total_asset:1993024.0094322178\n",
      "total_reward:993024.0094322178\n",
      "total_cost:  51793.35193604907\n",
      "total trades:  49278\n",
      "Sharpe:  0.6646049096614567\n",
      "end_total_asset:2239241.728211582\n",
      "total_reward:1239241.7282115822\n",
      "total_cost:  54316.37299675491\n",
      "total trades:  49993\n",
      "Sharpe:  0.7841892243541039\n"
     ]
    },
    {
     "name": "stdout",
     "output_type": "stream",
     "text": [
      "end_total_asset:2296784.296314371\n",
      "total_reward:1296784.2963143708\n",
      "total_cost:  54519.56070458146\n",
      "total trades:  49899\n",
      "Sharpe:  0.8366091736734227\n",
      "end_total_asset:2100597.0215808298\n",
      "total_reward:1100597.0215808298\n",
      "total_cost:  57286.02154932239\n",
      "total trades:  50692\n",
      "Sharpe:  0.7570266811253672\n",
      "end_total_asset:2286584.308784199\n",
      "total_reward:1286584.308784199\n",
      "total_cost:  56818.40604282949\n",
      "total trades:  50535\n",
      "Sharpe:  0.8987462685772363\n",
      "end_total_asset:2419920.3915990475\n",
      "total_reward:1419920.3915990475\n",
      "total_cost:  53834.70691853424\n",
      "total trades:  50057\n",
      "Sharpe:  0.9569126848897872\n",
      "end_total_asset:2384278.766867406\n",
      "total_reward:1384278.7668674062\n",
      "total_cost:  50719.83732115999\n",
      "total trades:  49538\n",
      "Sharpe:  0.8868210173408688\n",
      "end_total_asset:2400854.7506585126\n",
      "total_reward:1400854.7506585126\n",
      "total_cost:  48114.79688448939\n",
      "total trades:  48960\n",
      "Sharpe:  0.9032703581457796\n",
      "end_total_asset:2306558.310376802\n",
      "total_reward:1306558.310376802\n",
      "total_cost:  49542.859937495865\n",
      "total trades:  49134\n",
      "Sharpe:  0.8333726635461574\n",
      "end_total_asset:2273681.5732967504\n",
      "total_reward:1273681.5732967504\n",
      "total_cost:  48409.83796505806\n",
      "total trades:  49058\n",
      "Sharpe:  0.7939396631797707\n",
      "end_total_asset:2443035.9571334617\n",
      "total_reward:1443035.9571334617\n",
      "total_cost:  51482.01124606694\n",
      "total trades:  49617\n",
      "Sharpe:  0.8851288589355477\n",
      "end_total_asset:2278314.083346266\n",
      "total_reward:1278314.0833462658\n",
      "total_cost:  46199.458908555294\n",
      "total trades:  48491\n",
      "Sharpe:  0.7887630343228597\n",
      "end_total_asset:2603383.838565107\n",
      "total_reward:1603383.838565107\n",
      "total_cost:  46779.31829411701\n",
      "total trades:  48490\n",
      "Sharpe:  0.916542261163882\n",
      "end_total_asset:2561758.029840968\n",
      "total_reward:1561758.029840968\n",
      "total_cost:  45972.85811197714\n",
      "total trades:  48285\n",
      "Sharpe:  0.9262787718870373\n",
      "end_total_asset:2463625.1546778586\n",
      "total_reward:1463625.1546778586\n",
      "total_cost:  47588.890256971674\n",
      "total trades:  48449\n",
      "Sharpe:  0.8801145388654813\n",
      "end_total_asset:2321412.265789922\n",
      "total_reward:1321412.2657899219\n",
      "total_cost:  46863.11878343348\n",
      "total trades:  48252\n",
      "Sharpe:  0.8259668872245239\n",
      "end_total_asset:2236321.3404254303\n",
      "total_reward:1236321.3404254303\n",
      "total_cost:  46350.325857649616\n",
      "total trades:  48000\n",
      "Sharpe:  0.7603281975451949\n",
      "end_total_asset:2154043.8536840333\n",
      "total_reward:1154043.8536840333\n",
      "total_cost:  46872.50628151339\n",
      "total trades:  47748\n",
      "Sharpe:  0.7675237188615794\n",
      "end_total_asset:2028244.493751767\n",
      "total_reward:1028244.4937517671\n",
      "total_cost:  42981.35842846617\n",
      "total trades:  46487\n",
      "Sharpe:  0.694716468421281\n",
      "end_total_asset:2162079.519243552\n",
      "total_reward:1162079.519243552\n",
      "total_cost:  46651.66477260742\n",
      "total trades:  47569\n",
      "Sharpe:  0.7924681456531346\n",
      "end_total_asset:2071497.986869395\n",
      "total_reward:1071497.986869395\n",
      "total_cost:  46494.890966751365\n",
      "total trades:  47344\n",
      "Sharpe:  0.7622276068095649\n",
      "end_total_asset:2204800.7255306216\n",
      "total_reward:1204800.7255306216\n",
      "total_cost:  46302.48509673359\n",
      "total trades:  47320\n",
      "Sharpe:  0.8022917433527919\n",
      "end_total_asset:2124606.352443253\n",
      "total_reward:1124606.3524432532\n",
      "total_cost:  46847.98520623718\n",
      "total trades:  47307\n",
      "Sharpe:  0.760927079059929\n",
      "end_total_asset:1939650.9837150322\n",
      "total_reward:939650.9837150322\n",
      "total_cost:  45145.54118330679\n",
      "total trades:  46894\n",
      "Sharpe:  0.6832277392238543\n",
      "end_total_asset:2185359.791994708\n",
      "total_reward:1185359.7919947081\n",
      "total_cost:  46286.312816119986\n",
      "total trades:  47174\n",
      "Sharpe:  0.7868429812999644\n",
      "end_total_asset:2106896.883468892\n",
      "total_reward:1106896.883468892\n",
      "total_cost:  45450.0677597963\n",
      "total trades:  46983\n",
      "Sharpe:  0.7586658124220453\n",
      "end_total_asset:1965468.8636779806\n",
      "total_reward:965468.8636779806\n",
      "total_cost:  45129.49456545098\n",
      "total trades:  46950\n",
      "Sharpe:  0.6909945858110152\n",
      "end_total_asset:2205162.0073590316\n",
      "total_reward:1205162.0073590316\n",
      "total_cost:  46225.829246559275\n",
      "total trades:  47257\n",
      "Sharpe:  0.7958141993420141\n",
      "end_total_asset:1876365.5805684172\n",
      "total_reward:876365.5805684172\n",
      "total_cost:  42437.27450088837\n",
      "total trades:  46196\n",
      "Sharpe:  0.6215024117331344\n",
      "end_total_asset:2027630.087954048\n",
      "total_reward:1027630.0879540481\n",
      "total_cost:  43267.778123855715\n",
      "total trades:  46709\n",
      "Sharpe:  0.7263188679875376\n",
      "end_total_asset:2078951.9999372442\n",
      "total_reward:1078951.9999372442\n",
      "total_cost:  45692.66138538848\n",
      "total trades:  47185\n",
      "Sharpe:  0.7394124289923116\n",
      "end_total_asset:2060135.6430677448\n",
      "total_reward:1060135.6430677448\n",
      "total_cost:  43037.97552496884\n",
      "total trades:  46675\n",
      "Sharpe:  0.6991068717809132\n",
      "end_total_asset:1935264.9189930097\n",
      "total_reward:935264.9189930097\n",
      "total_cost:  41600.78164407387\n",
      "total trades:  46221\n",
      "Sharpe:  0.6445350174065491\n",
      "end_total_asset:2147797.529176473\n",
      "total_reward:1147797.5291764732\n",
      "total_cost:  43452.36503689019\n",
      "total trades:  46440\n",
      "Sharpe:  0.7303815949997684\n",
      "end_total_asset:2176864.9965267666\n",
      "total_reward:1176864.9965267666\n",
      "total_cost:  42633.143728830866\n",
      "total trades:  46357\n",
      "Sharpe:  0.7608013577987257\n",
      "end_total_asset:2091525.394215554\n",
      "total_reward:1091525.394215554\n",
      "total_cost:  42095.93276303336\n",
      "total trades:  45968\n",
      "Sharpe:  0.7143733600522489\n",
      "end_total_asset:2034957.954159466\n",
      "total_reward:1034957.9541594661\n",
      "total_cost:  44371.18865206504\n",
      "total trades:  46702\n",
      "Sharpe:  0.7217955630697891\n",
      "end_total_asset:2179485.5340424916\n",
      "total_reward:1179485.5340424916\n",
      "total_cost:  42997.80104735391\n",
      "total trades:  46288\n",
      "Sharpe:  0.7826350137612473\n",
      "end_total_asset:2180107.377993697\n",
      "total_reward:1180107.3779936968\n",
      "total_cost:  43706.10500153402\n",
      "total trades:  46502\n",
      "Sharpe:  0.7885468892950747\n",
      "end_total_asset:1819202.9393074508\n",
      "total_reward:819202.9393074508\n",
      "total_cost:  46519.596096051246\n",
      "total trades:  47154\n",
      "Sharpe:  0.6086511600660691\n",
      "end_total_asset:2146105.7254499015\n",
      "total_reward:1146105.7254499015\n",
      "total_cost:  46404.927104130154\n",
      "total trades:  47423\n",
      "Sharpe:  0.7515265369154052\n",
      "end_total_asset:2026252.2124492794\n",
      "total_reward:1026252.2124492794\n",
      "total_cost:  42702.27092597762\n",
      "total trades:  46164\n",
      "Sharpe:  0.6902096655033922\n",
      "end_total_asset:1997161.6670680821\n",
      "total_reward:997161.6670680821\n",
      "total_cost:  44202.57705226688\n",
      "total trades:  46639\n",
      "Sharpe:  0.6721398894126593\n",
      "end_total_asset:2116302.91790147\n",
      "total_reward:1116302.9179014699\n",
      "total_cost:  43686.60756413586\n",
      "total trades:  46340\n",
      "Sharpe:  0.7495121213328614\n",
      "end_total_asset:1992860.5938451637\n",
      "total_reward:992860.5938451637\n",
      "total_cost:  43001.849576376204\n",
      "total trades:  46306\n",
      "Sharpe:  0.694622343640725\n",
      "end_total_asset:2269831.741337308\n",
      "total_reward:1269831.7413373082\n",
      "total_cost:  41548.11350579717\n",
      "total trades:  45983\n",
      "Sharpe:  0.7703461872217532\n",
      "end_total_asset:2192921.4909809474\n",
      "total_reward:1192921.4909809474\n",
      "total_cost:  42291.01887136529\n",
      "total trades:  46196\n",
      "Sharpe:  0.7275374302597004\n",
      "end_total_asset:2057332.6355624753\n",
      "total_reward:1057332.6355624753\n",
      "total_cost:  41735.67244884132\n",
      "total trades:  45949\n",
      "Sharpe:  0.702671284174871\n",
      "end_total_asset:2241708.058085262\n",
      "total_reward:1241708.0580852618\n",
      "total_cost:  43594.65935783054\n",
      "total trades:  46162\n",
      "Sharpe:  0.7738392172895261\n",
      "end_total_asset:2184346.620415258\n",
      "total_reward:1184346.6204152582\n",
      "total_cost:  44831.33601673156\n",
      "total trades:  46830\n",
      "Sharpe:  0.7626488308814833\n",
      "end_total_asset:2070930.5769443419\n",
      "total_reward:1070930.5769443419\n",
      "total_cost:  41417.29351807959\n",
      "total trades:  45821\n",
      "Sharpe:  0.6998611946107567\n",
      "end_total_asset:2259304.192098734\n",
      "total_reward:1259304.192098734\n",
      "total_cost:  43582.267866200134\n",
      "total trades:  46165\n",
      "Sharpe:  0.7487898608484236\n",
      "end_total_asset:2120201.526632061\n",
      "total_reward:1120201.5266320612\n",
      "total_cost:  41940.53445656969\n",
      "total trades:  45942\n",
      "Sharpe:  0.7124661683578201\n",
      "end_total_asset:2036845.5671135657\n",
      "total_reward:1036845.5671135657\n",
      "total_cost:  38008.570258903856\n",
      "total trades:  44415\n",
      "Sharpe:  0.6987283375216556\n",
      "end_total_asset:2132665.784076486\n",
      "total_reward:1132665.7840764858\n",
      "total_cost:  38990.83458605272\n",
      "total trades:  44630\n",
      "Sharpe:  0.729963147110228\n",
      "end_total_asset:2156044.7803330254\n",
      "total_reward:1156044.7803330254\n",
      "total_cost:  40016.69294544084\n",
      "total trades:  44898\n",
      "Sharpe:  0.7438250890947088\n",
      "end_total_asset:2242059.306231592\n",
      "total_reward:1242059.3062315919\n",
      "total_cost:  41842.18511451748\n",
      "total trades:  45260\n",
      "Sharpe:  0.7655340130280811\n",
      "end_total_asset:2309077.1530888146\n",
      "total_reward:1309077.1530888146\n",
      "total_cost:  40247.00789065468\n",
      "total trades:  45099\n",
      "Sharpe:  0.8080366480055687\n"
     ]
    },
    {
     "name": "stdout",
     "output_type": "stream",
     "text": [
      "end_total_asset:2140974.462789265\n",
      "total_reward:1140974.462789265\n",
      "total_cost:  40933.11580950011\n",
      "total trades:  45062\n",
      "Sharpe:  0.7286910428850298\n",
      "Training time (PPO):  9.650223751862844  minutes\n"
     ]
    }
   ],
   "source": [
    "## model training\n",
    "## 2020-08-17: PPO, turbulence=140, HMAX=10, timesteps = 150k\n",
    "print(\"==============Model Training===========\")\n",
    "model_ppo = train_PPO(env_train, model_name = \"PPO_200k_30_share_dow\", timesteps=200000)"
   ]
  },
  {
   "cell_type": "code",
   "execution_count": 43,
   "metadata": {},
   "outputs": [
    {
     "data": {
      "text/html": [
       "<div>\n",
       "<style scoped>\n",
       "    .dataframe tbody tr th:only-of-type {\n",
       "        vertical-align: middle;\n",
       "    }\n",
       "\n",
       "    .dataframe tbody tr th {\n",
       "        vertical-align: top;\n",
       "    }\n",
       "\n",
       "    .dataframe thead th {\n",
       "        text-align: right;\n",
       "    }\n",
       "</style>\n",
       "<table border=\"1\" class=\"dataframe\">\n",
       "  <thead>\n",
       "    <tr style=\"text-align: right;\">\n",
       "      <th></th>\n",
       "      <th>datadate</th>\n",
       "      <th>tic</th>\n",
       "      <th>adjcp</th>\n",
       "      <th>open</th>\n",
       "      <th>high</th>\n",
       "      <th>low</th>\n",
       "      <th>volume</th>\n",
       "      <th>macd</th>\n",
       "      <th>rsi</th>\n",
       "      <th>cci</th>\n",
       "      <th>adx</th>\n",
       "      <th>turbulence</th>\n",
       "    </tr>\n",
       "  </thead>\n",
       "  <tbody>\n",
       "    <tr>\n",
       "      <th>0</th>\n",
       "      <td>20160104</td>\n",
       "      <td>AAPL</td>\n",
       "      <td>105.35</td>\n",
       "      <td>102.61</td>\n",
       "      <td>105.368</td>\n",
       "      <td>102.00</td>\n",
       "      <td>67569090.0</td>\n",
       "      <td>-2.666922</td>\n",
       "      <td>40.459283</td>\n",
       "      <td>-127.576136</td>\n",
       "      <td>46.711321</td>\n",
       "      <td>72.858044</td>\n",
       "    </tr>\n",
       "    <tr>\n",
       "      <th>0</th>\n",
       "      <td>20160104</td>\n",
       "      <td>AXP</td>\n",
       "      <td>67.59</td>\n",
       "      <td>68.09</td>\n",
       "      <td>68.180</td>\n",
       "      <td>66.77</td>\n",
       "      <td>9228601.0</td>\n",
       "      <td>-0.688508</td>\n",
       "      <td>39.311317</td>\n",
       "      <td>-181.544020</td>\n",
       "      <td>36.166331</td>\n",
       "      <td>72.858044</td>\n",
       "    </tr>\n",
       "    <tr>\n",
       "      <th>0</th>\n",
       "      <td>20160104</td>\n",
       "      <td>BA</td>\n",
       "      <td>140.50</td>\n",
       "      <td>141.38</td>\n",
       "      <td>141.700</td>\n",
       "      <td>139.43</td>\n",
       "      <td>5715585.0</td>\n",
       "      <td>-0.494141</td>\n",
       "      <td>46.514487</td>\n",
       "      <td>-168.034546</td>\n",
       "      <td>17.593904</td>\n",
       "      <td>72.858044</td>\n",
       "    </tr>\n",
       "    <tr>\n",
       "      <th>0</th>\n",
       "      <td>20160104</td>\n",
       "      <td>CAT</td>\n",
       "      <td>67.99</td>\n",
       "      <td>66.88</td>\n",
       "      <td>68.085</td>\n",
       "      <td>65.72</td>\n",
       "      <td>8580361.0</td>\n",
       "      <td>-0.335863</td>\n",
       "      <td>46.572513</td>\n",
       "      <td>-45.571838</td>\n",
       "      <td>20.466959</td>\n",
       "      <td>72.858044</td>\n",
       "    </tr>\n",
       "    <tr>\n",
       "      <th>0</th>\n",
       "      <td>20160104</td>\n",
       "      <td>CSCO</td>\n",
       "      <td>26.41</td>\n",
       "      <td>26.39</td>\n",
       "      <td>26.420</td>\n",
       "      <td>25.88</td>\n",
       "      <td>35761830.0</td>\n",
       "      <td>-0.059621</td>\n",
       "      <td>45.264609</td>\n",
       "      <td>-173.305180</td>\n",
       "      <td>27.839953</td>\n",
       "      <td>72.858044</td>\n",
       "    </tr>\n",
       "    <tr>\n",
       "      <th>...</th>\n",
       "      <td>...</td>\n",
       "      <td>...</td>\n",
       "      <td>...</td>\n",
       "      <td>...</td>\n",
       "      <td>...</td>\n",
       "      <td>...</td>\n",
       "      <td>...</td>\n",
       "      <td>...</td>\n",
       "      <td>...</td>\n",
       "      <td>...</td>\n",
       "      <td>...</td>\n",
       "      <td>...</td>\n",
       "    </tr>\n",
       "    <tr>\n",
       "      <th>1130</th>\n",
       "      <td>20200630</td>\n",
       "      <td>V</td>\n",
       "      <td>193.17</td>\n",
       "      <td>191.49</td>\n",
       "      <td>193.750</td>\n",
       "      <td>190.16</td>\n",
       "      <td>9037982.0</td>\n",
       "      <td>1.041698</td>\n",
       "      <td>52.961025</td>\n",
       "      <td>-51.424919</td>\n",
       "      <td>2.009169</td>\n",
       "      <td>148.803426</td>\n",
       "    </tr>\n",
       "    <tr>\n",
       "      <th>1130</th>\n",
       "      <td>20200630</td>\n",
       "      <td>VZ</td>\n",
       "      <td>55.13</td>\n",
       "      <td>54.92</td>\n",
       "      <td>55.285</td>\n",
       "      <td>54.36</td>\n",
       "      <td>17411770.0</td>\n",
       "      <td>-0.485633</td>\n",
       "      <td>47.865149</td>\n",
       "      <td>-50.718715</td>\n",
       "      <td>8.610939</td>\n",
       "      <td>148.803426</td>\n",
       "    </tr>\n",
       "    <tr>\n",
       "      <th>1130</th>\n",
       "      <td>20200630</td>\n",
       "      <td>WBA</td>\n",
       "      <td>42.39</td>\n",
       "      <td>42.12</td>\n",
       "      <td>42.580</td>\n",
       "      <td>41.76</td>\n",
       "      <td>4779684.0</td>\n",
       "      <td>-0.135283</td>\n",
       "      <td>48.504220</td>\n",
       "      <td>-14.261384</td>\n",
       "      <td>1.500600</td>\n",
       "      <td>148.803426</td>\n",
       "    </tr>\n",
       "    <tr>\n",
       "      <th>1130</th>\n",
       "      <td>20200630</td>\n",
       "      <td>WMT</td>\n",
       "      <td>119.78</td>\n",
       "      <td>119.22</td>\n",
       "      <td>120.130</td>\n",
       "      <td>118.54</td>\n",
       "      <td>6834266.0</td>\n",
       "      <td>-0.944696</td>\n",
       "      <td>47.908404</td>\n",
       "      <td>-69.832081</td>\n",
       "      <td>3.851332</td>\n",
       "      <td>148.803426</td>\n",
       "    </tr>\n",
       "    <tr>\n",
       "      <th>1130</th>\n",
       "      <td>20200630</td>\n",
       "      <td>XOM</td>\n",
       "      <td>44.72</td>\n",
       "      <td>43.43</td>\n",
       "      <td>44.970</td>\n",
       "      <td>43.16</td>\n",
       "      <td>22135740.0</td>\n",
       "      <td>-0.506349</td>\n",
       "      <td>47.655483</td>\n",
       "      <td>-90.133830</td>\n",
       "      <td>7.677722</td>\n",
       "      <td>148.803426</td>\n",
       "    </tr>\n",
       "  </tbody>\n",
       "</table>\n",
       "<p>33930 rows × 12 columns</p>\n",
       "</div>"
      ],
      "text/plain": [
       "      datadate   tic   adjcp    open     high     low      volume      macd  \\\n",
       "0     20160104  AAPL  105.35  102.61  105.368  102.00  67569090.0 -2.666922   \n",
       "0     20160104   AXP   67.59   68.09   68.180   66.77   9228601.0 -0.688508   \n",
       "0     20160104    BA  140.50  141.38  141.700  139.43   5715585.0 -0.494141   \n",
       "0     20160104   CAT   67.99   66.88   68.085   65.72   8580361.0 -0.335863   \n",
       "0     20160104  CSCO   26.41   26.39   26.420   25.88  35761830.0 -0.059621   \n",
       "...        ...   ...     ...     ...      ...     ...         ...       ...   \n",
       "1130  20200630     V  193.17  191.49  193.750  190.16   9037982.0  1.041698   \n",
       "1130  20200630    VZ   55.13   54.92   55.285   54.36  17411770.0 -0.485633   \n",
       "1130  20200630   WBA   42.39   42.12   42.580   41.76   4779684.0 -0.135283   \n",
       "1130  20200630   WMT  119.78  119.22  120.130  118.54   6834266.0 -0.944696   \n",
       "1130  20200630   XOM   44.72   43.43   44.970   43.16  22135740.0 -0.506349   \n",
       "\n",
       "            rsi         cci        adx  turbulence  \n",
       "0     40.459283 -127.576136  46.711321   72.858044  \n",
       "0     39.311317 -181.544020  36.166331   72.858044  \n",
       "0     46.514487 -168.034546  17.593904   72.858044  \n",
       "0     46.572513  -45.571838  20.466959   72.858044  \n",
       "0     45.264609 -173.305180  27.839953   72.858044  \n",
       "...         ...         ...        ...         ...  \n",
       "1130  52.961025  -51.424919   2.009169  148.803426  \n",
       "1130  47.865149  -50.718715   8.610939  148.803426  \n",
       "1130  48.504220  -14.261384   1.500600  148.803426  \n",
       "1130  47.908404  -69.832081   3.851332  148.803426  \n",
       "1130  47.655483  -90.133830   7.677722  148.803426  \n",
       "\n",
       "[33930 rows x 12 columns]"
      ]
     },
     "execution_count": 43,
     "metadata": {},
     "output_type": "execute_result"
    }
   ],
   "source": [
    "test"
   ]
  },
  {
   "cell_type": "code",
   "execution_count": 42,
   "metadata": {},
   "outputs": [
    {
     "name": "stdout",
     "output_type": "stream",
     "text": [
      "==============Model Prediction===========\n",
      "end_total_asset:1449661.9464630373\n",
      "total_reward:449661.9464630373\n",
      "total_cost:  43828.4622678948\n",
      "total trades:  24501\n",
      "Sharpe:  1.2039367628349822\n"
     ]
    }
   ],
   "source": [
    "import env.EnvMultipleStock_trade\n",
    "from importlib import reload\n",
    "\n",
    "reload(env.EnvMultipleStock_trade)\n",
    "from env.EnvMultipleStock_trade import StockEnvTrade\n",
    "test = data_split(df, start=20160000, end=20200700)\n",
    "## PPO, turbulence=140, HMAX=30, timesteps = 150k\n",
    "\n",
    "# testing env\n",
    "env_test = DummyVecEnv([lambda: StockEnvTrade(test, turbulence_threshold=140)])\n",
    "obs_test = env_test.reset()\n",
    "last_state = []\n",
    "\n",
    "print(\"==============Model Prediction===========\")\n",
    "for i in range(len(test.index.unique())):\n",
    "    action, _states = model_ppo.predict(obs_test)\n",
    "    obs_test, rewards, dones, info = env_test.step(action)\n",
    "    env_test.render()"
   ]
  },
  {
   "cell_type": "code",
   "execution_count": 704,
   "metadata": {},
   "outputs": [
    {
     "name": "stdout",
     "output_type": "stream",
     "text": [
      "==============Model Prediction===========\n",
      "end_total_asset:1343985.619064367\n",
      "total_reward:343985.6190643669\n",
      "total_cost:  67802.25724860386\n",
      "total trades:  24268\n",
      "Sharpe:  0.8604387314896154\n"
     ]
    }
   ],
   "source": [
    "import env.EnvMultipleStock_trade\n",
    "from importlib import reload\n",
    "\n",
    "reload(env.EnvMultipleStock_trade)\n",
    "from env.EnvMultipleStock_trade import StockEnvTrade\n",
    "test = data_split(df, start=20160000, end=20200600)\n",
    "## 2020-08-17: PPO, turbulence=140, HMAX=50, timesteps = 200k\n",
    "\n",
    "# testing env\n",
    "env_test = DummyVecEnv([lambda: StockEnvTrade(test, turbulence_threshold=140)])\n",
    "obs_test = env_test.reset()\n",
    "last_state = []\n",
    "\n",
    "print(\"==============Model Prediction===========\")\n",
    "for i in range(len(test.index.unique())):\n",
    "    action, _states = model_ppo.predict(obs_test)\n",
    "    obs_test, rewards, dones, info = env_test.step(action)\n",
    "    env_test.render()"
   ]
  },
  {
   "cell_type": "code",
   "execution_count": 272,
   "metadata": {},
   "outputs": [
    {
     "name": "stdout",
     "output_type": "stream",
     "text": [
      "==============Model Prediction===========\n",
      "total_reward:296268.21038638125\n",
      "total_cost:  29995.011485235107\n",
      "Sharpe:  1.2094252361084175\n"
     ]
    }
   ],
   "source": [
    "import env.EnvMultipleStock_trade\n",
    "from importlib import reload\n",
    "\n",
    "reload(env.EnvMultipleStock_trade)\n",
    "from env.EnvMultipleStock_trade import StockEnvTrade\n",
    "## 2020-08-17: PPO, turbulence=140, HMAX=10, timesteps = 150k\n",
    "\n",
    "# testing env\n",
    "env_test = DummyVecEnv([lambda: StockEnvTrade(test, turbulence_threshold=140)])\n",
    "obs_test = env_test.reset()\n",
    "\n",
    "print(\"==============Model Prediction===========\")\n",
    "for i in range(len(test.index.unique())):\n",
    "    action, _states = model.predict(obs_test)\n",
    "    obs_test, rewards, dones, info = env_test.step(action)\n",
    "    env_test.render()"
   ]
  },
  {
   "cell_type": "code",
   "execution_count": null,
   "metadata": {},
   "outputs": [],
   "source": [
    "100, 0.6\n",
    "110, 0.73\n",
    "120, 0.98\n",
    "130, 0.86\n",
    "135, 0.98\n",
    "140, 1.6\n",
    "150, 1.22\n",
    "155, 1.22\n",
    "160, 1.31\n",
    "170, 0.76\n",
    "180, 0.80\n",
    "190, 0.6\n",
    "200, 0.56"
   ]
  },
  {
   "cell_type": "code",
   "execution_count": null,
   "metadata": {},
   "outputs": [],
   "source": []
  },
  {
   "cell_type": "code",
   "execution_count": null,
   "metadata": {},
   "outputs": [],
   "source": []
  },
  {
   "cell_type": "markdown",
   "metadata": {},
   "source": [
    "### A2C"
   ]
  },
  {
   "cell_type": "code",
   "execution_count": 102,
   "metadata": {},
   "outputs": [],
   "source": [
    "import env.EnvMultipleStock_train\n",
    "from importlib import reload\n",
    "\n",
    "reload(env.EnvMultipleStock_train)\n",
    "from env.EnvMultipleStock_train import StockEnvTrain\n",
    "## set up train & test environment\n",
    "# training env\n",
    "train = data_split(df, start=20090000, end=20160000)\n",
    "\n",
    "env_train = DummyVecEnv([lambda: StockEnvTrain(train)])"
   ]
  },
  {
   "cell_type": "code",
   "execution_count": 103,
   "metadata": {
    "scrolled": true
   },
   "outputs": [
    {
     "name": "stdout",
     "output_type": "stream",
     "text": [
      "==============Model Training===========\n",
      "end_total_asset:1645594.046330577\n",
      "total_reward:645594.046330577\n",
      "total_cost:  64685.61933016833\n",
      "total trades:  51957\n",
      "Sharpe:  0.7129259827120256\n",
      "end_total_asset:1773166.5434024408\n",
      "total_reward:773166.5434024408\n",
      "total_cost:  63849.40109404822\n",
      "total trades:  52037\n",
      "Sharpe:  0.781125906081342\n",
      "end_total_asset:1824222.5633683798\n",
      "total_reward:824222.5633683798\n",
      "total_cost:  55161.51240885548\n",
      "total trades:  50133\n",
      "Sharpe:  0.7034998017316476\n",
      "end_total_asset:2437073.8034488154\n",
      "total_reward:1437073.8034488154\n",
      "total_cost:  47603.45903516752\n",
      "total trades:  47246\n",
      "Sharpe:  0.9027858664031511\n",
      "end_total_asset:2146401.213953774\n",
      "total_reward:1146401.213953774\n",
      "total_cost:  40172.48189867302\n",
      "total trades:  45903\n",
      "Sharpe:  0.824838538456326\n",
      "Training time (A2C):  0.6422322630882263  minutes\n"
     ]
    }
   ],
   "source": [
    "## model training\n",
    "## A2C, turbulence=140, HMAX=10, timesteps = 10k\n",
    "print(\"==============Model Training===========\")\n",
    "\n",
    "model_a2c = train_A2C(env_train, model_name = \"A2C_10k_30_share_dow\", timesteps=10000)"
   ]
  },
  {
   "cell_type": "code",
   "execution_count": 401,
   "metadata": {},
   "outputs": [
    {
     "data": {
      "text/plain": [
       "1096"
      ]
     },
     "execution_count": 401,
     "metadata": {},
     "output_type": "execute_result"
    }
   ],
   "source": [
    "i"
   ]
  },
  {
   "cell_type": "code",
   "execution_count": 106,
   "metadata": {},
   "outputs": [
    {
     "name": "stdout",
     "output_type": "stream",
     "text": [
      "==============Model Prediction===========\n",
      "end_total_asset:1367824.1035734399\n",
      "total_reward:367824.1035734399\n",
      "total_cost:  40816.20470479669\n",
      "total trades:  24136\n",
      "Sharpe:  0.9061276928995415\n"
     ]
    }
   ],
   "source": [
    "import env.EnvMultipleStock_trade\n",
    "from importlib import reload\n",
    "\n",
    "reload(env.EnvMultipleStock_trade)\n",
    "from env.EnvMultipleStock_trade import StockEnvTrade\n",
    "\n",
    "# testing env\n",
    "## A2C, turbulence=140, HMAX=30, timesteps = 10k\n",
    "test = data_split(df, start=20160000, end=20200700)\n",
    "env_test = DummyVecEnv([lambda: StockEnvTrade(test, turbulence_threshold=140)])\n",
    "obs_test = env_test.reset()\n",
    "last_state = []\n",
    "print(\"==============Model Prediction===========\")\n",
    "for i in range(len(test.index.unique())):\n",
    "    action, _states = model_a2c.predict(obs_test)\n",
    "    obs_test, rewards, dones, info = env_test.step(action)\n",
    "    #print(dones)\n",
    "    #print(env_test.render())\n",
    "    if i==(len(test.index.unique())-2):\n",
    "        #print(env_test.render())\n",
    "        last_state = env_test.render()"
   ]
  },
  {
   "cell_type": "code",
   "execution_count": 82,
   "metadata": {},
   "outputs": [
    {
     "data": {
      "text/plain": [
       "[1170614.9750715808,\n",
       " 364.8,\n",
       " 95.2,\n",
       " 183.3,\n",
       " 126.5,\n",
       " 46.64,\n",
       " 89.23,\n",
       " 53.13,\n",
       " 111.51,\n",
       " 197.62,\n",
       " 250.51,\n",
       " 120.77,\n",
       " 59.83,\n",
       " 140.63,\n",
       " 94.06,\n",
       " 44.68,\n",
       " 184.47,\n",
       " 155.99,\n",
       " 77.33,\n",
       " 203.51,\n",
       " 98.05,\n",
       " 32.7,\n",
       " 119.57,\n",
       " 61.62,\n",
       " 114.05,\n",
       " 294.95,\n",
       " 193.17,\n",
       " 55.13,\n",
       " 42.39,\n",
       " 119.78,\n",
       " 44.72,\n",
       " 0,\n",
       " 0,\n",
       " 0,\n",
       " 0,\n",
       " 0,\n",
       " 0,\n",
       " 0,\n",
       " 0,\n",
       " 333.3192353248596,\n",
       " 0.0,\n",
       " 0,\n",
       " 0,\n",
       " 0,\n",
       " 0,\n",
       " 30.0,\n",
       " 27.10370635986328,\n",
       " 10.428093910217285,\n",
       " 112.63434135913849,\n",
       " 30.0,\n",
       " 0,\n",
       " 0,\n",
       " 0,\n",
       " 0,\n",
       " 0,\n",
       " 0,\n",
       " 0.0,\n",
       " 0,\n",
       " 0,\n",
       " 0,\n",
       " 0,\n",
       " 12.408103890597658,\n",
       " -0.1277001493278931,\n",
       " 6.184666830473645,\n",
       " 1.3622839506685693,\n",
       " 0.2933834201581007,\n",
       " -1.1355186569389701,\n",
       " 0.9114278100863018,\n",
       " -0.9740937479103309,\n",
       " 0.7202485945268791,\n",
       " 2.2258540256724473,\n",
       " -1.251959887245178,\n",
       " -0.5771239296978123,\n",
       " -1.8263327804593246,\n",
       " -0.910563485560175,\n",
       " -0.5497450866048084,\n",
       " -0.8902249900827428,\n",
       " 0.43110901134508595,\n",
       " -0.7498901388754149,\n",
       " 4.755528241303608,\n",
       " 0.7112973180283291,\n",
       " -1.0812198498652634,\n",
       " 0.4648157787974867,\n",
       " -1.0011670562244674,\n",
       " 1.7257854047140313,\n",
       " -0.3726333434322555,\n",
       " 1.0416980461451146,\n",
       " -0.48563270502513944,\n",
       " -0.13528317875172036,\n",
       " -0.9446959083178257,\n",
       " -0.5063491631613601,\n",
       " 63.00277106676295,\n",
       " 48.858452062264654,\n",
       " 51.5054754678284,\n",
       " 53.01839706716095,\n",
       " 54.3680418089756,\n",
       " 48.56670710808166,\n",
       " 55.96123411430332,\n",
       " 48.195100635352034,\n",
       " 50.78338933566004,\n",
       " 56.223543843411825,\n",
       " 48.646594643152106,\n",
       " 50.08285650670321,\n",
       " 46.640669467944875,\n",
       " 47.204856490872544,\n",
       " 45.65600813593504,\n",
       " 49.16222447211388,\n",
       " 51.60421928962126,\n",
       " 48.4848000295804,\n",
       " 60.58021687977987,\n",
       " 52.81003497121355,\n",
       " 42.12064048059664,\n",
       " 52.91533339145864,\n",
       " 42.947302324026474,\n",
       " 52.57528574883186,\n",
       " 52.084623200431736,\n",
       " 52.96102470239881,\n",
       " 47.86514904718687,\n",
       " 48.50422011168527,\n",
       " 47.90840376809234,\n",
       " 47.65548307797572,\n",
       " 107.47501898879884,\n",
       " -63.24638735625037,\n",
       " 29.150487014205066,\n",
       " 22.400880317363445,\n",
       " 47.26939797607515,\n",
       " -98.95035743488408,\n",
       " 26.5472654653965,\n",
       " -126.95521842145703,\n",
       " -37.01202307973306,\n",
       " 37.25445526603663,\n",
       " -59.63896681478522,\n",
       " -73.26292565013325,\n",
       " -120.62108051913508,\n",
       " -78.43353818984774,\n",
       " -108.27988896334307,\n",
       " -73.94558175377314,\n",
       " -18.400153061185218,\n",
       " -37.6700663380999,\n",
       " 130.74222335134522,\n",
       " -29.78054026766961,\n",
       " -85.77556009447748,\n",
       " 94.23481245192615,\n",
       " -80.49008585528273,\n",
       " 18.06192789318761,\n",
       " -28.367052556848545,\n",
       " -51.42491879938245,\n",
       " -50.71871544636303,\n",
       " -14.261383973934311,\n",
       " -69.83208129452903,\n",
       " -90.13383041181818,\n",
       " 28.11220347972246,\n",
       " 7.601040400030924,\n",
       " 14.26761985149849,\n",
       " 8.436246599012081,\n",
       " 14.624866177154667,\n",
       " 12.50981887083715,\n",
       " 4.418844050194764,\n",
       " 14.377438769819372,\n",
       " 1.5592180460377552,\n",
       " 8.24666010939232,\n",
       " 3.337353025935124,\n",
       " 8.89855107675275,\n",
       " 17.085981112146534,\n",
       " 5.9757084130355755,\n",
       " 21.351202021208042,\n",
       " 6.570518065160397,\n",
       " 4.249240585380759,\n",
       " 0.21075017716863276,\n",
       " 29.216191400142193,\n",
       " 12.00328721158048,\n",
       " 33.62767612682431,\n",
       " 1.007438246648183,\n",
       " 14.664635543591825,\n",
       " 1.9021920048242529,\n",
       " 1.8484444298733347,\n",
       " 2.0091694289955835,\n",
       " 8.610938816483992,\n",
       " 1.5005998054715843,\n",
       " 3.851331651737057,\n",
       " 7.677722099462575]"
      ]
     },
     "execution_count": 82,
     "metadata": {},
     "output_type": "execute_result"
    }
   ],
   "source": [
    "last_state"
   ]
  },
  {
   "cell_type": "code",
   "execution_count": 677,
   "metadata": {},
   "outputs": [
    {
     "name": "stdout",
     "output_type": "stream",
     "text": [
      "==============Model Prediction===========\n",
      "end_total_asset:1486860.1161926687\n",
      "total_reward:486860.1161926687\n",
      "total_cost:  111834.26253040481\n",
      "Sharpe:  0.8112339373883097\n"
     ]
    }
   ],
   "source": [
    "import env.EnvMultipleStock_trade\n",
    "from importlib import reload\n",
    "\n",
    "reload(env.EnvMultipleStock_trade)\n",
    "from env.EnvMultipleStock_trade import StockEnvTrade\n",
    "\n",
    "# testing env\n",
    "## A2C, turbulence=140, HMAX=50, timesteps = 50k\n",
    "\n",
    "env_test = DummyVecEnv([lambda: StockEnvTrade(test, turbulence_threshold=140)])\n",
    "obs_test = env_test.reset()\n",
    "last_state = []\n",
    "print(\"==============Model Prediction===========\")\n",
    "for i in range(len(test.index.unique())):\n",
    "    action, _states = model_a2c.predict(obs_test)\n",
    "    obs_test, rewards, dones, info = env_test.step(action)\n",
    "    #print(dones)\n",
    "    if i==(len(test.index.unique())-2):\n",
    "        #print(env_test.render())\n",
    "        last_state = env_test.render()"
   ]
  },
  {
   "cell_type": "code",
   "execution_count": 491,
   "metadata": {},
   "outputs": [
    {
     "ename": "SyntaxError",
     "evalue": "invalid syntax (EnvMultipleStock_trade.py, line 228)",
     "output_type": "error",
     "traceback": [
      "Traceback \u001b[0;36m(most recent call last)\u001b[0m:\n",
      "  File \u001b[1;32m\"/Users/hongyangyang/anaconda3/lib/python3.6/site-packages/IPython/core/interactiveshell.py\"\u001b[0m, line \u001b[1;32m3331\u001b[0m, in \u001b[1;35mrun_code\u001b[0m\n    exec(code_obj, self.user_global_ns, self.user_ns)\n",
      "  File \u001b[1;32m\"<ipython-input-491-7ebc6e0bc5e7>\"\u001b[0m, line \u001b[1;32m4\u001b[0m, in \u001b[1;35m<module>\u001b[0m\n    reload(env.EnvMultipleStock_trade)\n",
      "  File \u001b[1;32m\"/Users/hongyangyang/anaconda3/lib/python3.6/importlib/__init__.py\"\u001b[0m, line \u001b[1;32m166\u001b[0m, in \u001b[1;35mreload\u001b[0m\n    _bootstrap._exec(spec, module)\n",
      "  File \u001b[1;32m\"<frozen importlib._bootstrap>\"\u001b[0m, line \u001b[1;32m618\u001b[0m, in \u001b[1;35m_exec\u001b[0m\n",
      "  File \u001b[1;32m\"<frozen importlib._bootstrap_external>\"\u001b[0m, line \u001b[1;32m674\u001b[0m, in \u001b[1;35mexec_module\u001b[0m\n",
      "  File \u001b[1;32m\"<frozen importlib._bootstrap_external>\"\u001b[0m, line \u001b[1;32m781\u001b[0m, in \u001b[1;35mget_code\u001b[0m\n",
      "  File \u001b[1;32m\"<frozen importlib._bootstrap_external>\"\u001b[0m, line \u001b[1;32m741\u001b[0m, in \u001b[1;35msource_to_code\u001b[0m\n",
      "\u001b[0;36m  File \u001b[0;32m\"<frozen importlib._bootstrap>\"\u001b[0;36m, line \u001b[0;32m219\u001b[0;36m, in \u001b[0;35m_call_with_frames_removed\u001b[0;36m\u001b[0m\n",
      "\u001b[0;36m  File \u001b[0;32m\"/Users/hongyangyang/Documents/GitHub/DRL-Stock-Trading-PPO-A2C-DDPG-ICAIF/env/EnvMultipleStock_trade.py\"\u001b[0;36m, line \u001b[0;32m228\u001b[0m\n\u001b[0;31m    return self.state\u001b[0m\n\u001b[0m         ^\u001b[0m\n\u001b[0;31mSyntaxError\u001b[0m\u001b[0;31m:\u001b[0m invalid syntax\n"
     ]
    }
   ],
   "source": []
  },
  {
   "cell_type": "code",
   "execution_count": 87,
   "metadata": {},
   "outputs": [],
   "source": [
    "import env.EnvMultipleStock_train\n",
    "from importlib import reload\n",
    "\n",
    "reload(env.EnvMultipleStock_train)\n",
    "from env.EnvMultipleStock_train import StockEnvTrain\n",
    "## set up train & test environment\n",
    "# training env\n",
    "train = data_split(df, start=20090000, end=20160000)\n",
    "\n",
    "env_train = DummyVecEnv([lambda: StockEnvTrain(train)])"
   ]
  },
  {
   "cell_type": "code",
   "execution_count": 88,
   "metadata": {},
   "outputs": [
    {
     "name": "stdout",
     "output_type": "stream",
     "text": [
      "==============Model Training===========\n",
      "end_total_asset:1513810.786208821\n",
      "total_reward:513810.786208821\n",
      "total_cost:  1291.0460811682785\n",
      "total trades:  28751\n",
      "Sharpe:  0.5105920856177024\n",
      "end_total_asset:2261545.3743012203\n",
      "total_reward:1261545.3743012203\n",
      "total_cost:  3078.2425243490006\n",
      "total trades:  25833\n",
      "Sharpe:  0.8266637135873469\n",
      "end_total_asset:2559065.429295821\n",
      "total_reward:1559065.429295821\n",
      "total_cost:  2014.9090034910312\n",
      "total trades:  23967\n",
      "Sharpe:  0.8899588172673792\n",
      "end_total_asset:2272767.49154646\n",
      "total_reward:1272767.49154646\n",
      "total_cost:  2241.380414684633\n",
      "total trades:  24076\n",
      "Sharpe:  0.85410729270632\n",
      "end_total_asset:2288677.595644109\n",
      "total_reward:1288677.595644109\n",
      "total_cost:  1216.0239911632762\n",
      "total trades:  28203\n",
      "Sharpe:  0.8625075333433138\n",
      "Training time (DDPG):  1.000923498471578  minutes\n"
     ]
    }
   ],
   "source": [
    "## model training\n",
    "## A2C, turbulence=140, HMAX=10, timesteps = 10k\n",
    "print(\"==============Model Training===========\")\n",
    "\n",
    "model_ddpg = train_DDPG(env_train, model_name = \"DDPG_10k_30_share_dow\", timesteps=10000)"
   ]
  },
  {
   "cell_type": "code",
   "execution_count": 92,
   "metadata": {},
   "outputs": [
    {
     "name": "stdout",
     "output_type": "stream",
     "text": [
      "==============Model Prediction===========\n",
      "[20.49306603600803, 297.43, 124.6, 332.76, 148.44, 47.63, 121.01, 62.16, 146.5, 231.58, 218.93, 134.34, 60.1, 144.28, 138.34, 54.69, 200.08, 178.45, 91.25, 158.62, 101.92, 38.93, 122.58, 153.35, 137.02, 289.54, 189.6, 60.4, 59.08, 117.89, 70.33, 0, 0, 0, 0, 0, 0, 959.973072052002, 879.0558700561523, 0, 906.9698085784912, 0, 0, 919.9187278747559, 959.9998435974121, 989.9996910095215, 936.0, 0, 929.9683837890625, 0, 0, 0, 929.9996643066406, 959.9998092651367, 929.9983234405518, 916.8223676681519, 940.9998245239258, 1019.9995918273926, 0, 960.0, 930.9980239868164, 8.914017301131423, 1.3522109663543773, -6.825717930188091, 1.670790568763806, 0.6309217273390857, 0.7319424934724594, -0.7427359392274013, 0.4224295734650809, 3.2345289916557363, -0.8604372505520246, -0.04184857369168071, 0.890581736393969, 2.3621163012602153, 2.2528179881020094, 0.3805666533223544, 0.8785535168339607, 2.569812860806053, 1.2978545614844137, 2.6516925344187996, 2.04023129536003, 0.328222405793106, 0.36000762920483, 1.5053383215446559, 0.4311474411101983, 5.851197311695216, 2.2306163797033207, 0.1957302232647038, 0.03681352508102265, -0.13395456561376307, 0.2772783511193069, 73.35456199464011, 55.873080340318054, 43.84876311787183, 58.17128857243422, 52.560737023697264, 54.05412234278862, 42.07132353680563, 54.84778665323909, 59.44235677153771, 46.83202275453235, 47.83963748026345, 62.218679890125266, 62.011410363517136, 63.657504769531215, 53.81449089209785, 51.99977195060556, 57.47384566482874, 61.071194744485254, 64.65845775938675, 65.44294657540925, 55.11982588302464, 49.647893508013794, 63.43640163353886, 49.94055401636422, 63.38072498865005, 59.52106120726706, 50.156754226522814, 53.88840088394815, 47.63135257088524, 51.68791979660867, 153.875315226588, 66.23184034772433, -67.5335101963296, 105.17738746430658, 90.12631106585563, 158.72247583029485, -152.82234093272535, -30.268161534287355, 90.49613087513924, 18.235933961441653, 5.061607220932036, 133.03662154674177, 61.20648186419627, 67.08842981228771, 48.98736797140263, 178.02512440794365, 123.95388918168871, 93.93520548614171, 111.90433622351289, 95.87219470010197, 47.79283288828594, -52.060629543910565, 187.57551922994313, 109.00916912308098, 29.611394591164444, 122.67526465015948, -33.72854944869593, -10.813031859166658, -177.25781736864263, 135.57379442632416, 58.79285828337917, 24.959529195494902, 23.29194697202687, 21.724177227182423, 21.324391515947287, 29.43976499906539, 31.157445917556625, 14.942150162636514, 36.11473654669465, 13.800780048272209, 4.013142959229303, 38.555118020027045, 26.473787855198367, 29.22223109071985, 3.699835281562394, 28.646870753914694, 33.38471784697073, 33.62725113331697, 39.342142727190264, 37.820286101432075, 9.676890533667262, 13.284728931238291, 43.76502866484446, 11.32598477605762, 19.3994608264495, 23.054232565512798, 12.403815846411668, 8.065569580924347, 12.229026358462134, 16.92959000608747]\n",
      "end_total_asset:2051620.3162402837\n",
      "total_reward:1051620.3162402837\n",
      "total_cost:  1858.884123384052\n",
      "total trades:  3168\n",
      "Sharpe:  1.1291124266726045\n"
     ]
    }
   ],
   "source": [
    "import env.EnvMultipleStock_trade\n",
    "from importlib import reload\n",
    "\n",
    "reload(env.EnvMultipleStock_trade)\n",
    "from env.EnvMultipleStock_trade import StockEnvTrade\n",
    "env_test = DummyVecEnv([lambda: StockEnvTrade(test, turbulence_threshold=140,\n",
    "                                              initial=False, \n",
    "                                              previous_state = last_state)])\n",
    "obs_test = env_test.reset()\n",
    "last_state = []\n",
    "print(\"==============Model Prediction===========\")\n",
    "for i in range(len(test.index.unique())):\n",
    "    action, _states = model_ddpg.predict(obs_test)\n",
    "    obs_test, rewards, dones, info = env_test.step(action)\n",
    "    #print(dones)\n",
    "    if i==(len(test.index.unique())-2):\n",
    "        #print(env_test.render())\n",
    "        last_state = env_test.render()"
   ]
  },
  {
   "cell_type": "code",
   "execution_count": 447,
   "metadata": {},
   "outputs": [
    {
     "data": {
      "text/plain": [
       "1097"
      ]
     },
     "execution_count": 447,
     "metadata": {},
     "output_type": "execute_result"
    }
   ],
   "source": [
    "len(test.datadate.unique())"
   ]
  },
  {
   "cell_type": "code",
   "execution_count": 449,
   "metadata": {},
   "outputs": [
    {
     "data": {
      "text/plain": [
       "52.23809523809524"
      ]
     },
     "execution_count": 449,
     "metadata": {},
     "output_type": "execute_result"
    }
   ],
   "source": [
    "1097/21"
   ]
  },
  {
   "cell_type": "code",
   "execution_count": 454,
   "metadata": {},
   "outputs": [
    {
     "data": {
      "text/plain": [
       "20200506"
      ]
     },
     "execution_count": 454,
     "metadata": {},
     "output_type": "execute_result"
    }
   ],
   "source": [
    "test.datadate.unique()[i]"
   ]
  },
  {
   "cell_type": "markdown",
   "metadata": {},
   "source": [
    "## Ensemble"
   ]
  },
  {
   "cell_type": "code",
   "execution_count": 463,
   "metadata": {},
   "outputs": [],
   "source": [
    "from preprocessing.preprocessors import *"
   ]
  },
  {
   "cell_type": "code",
   "execution_count": 462,
   "metadata": {},
   "outputs": [
    {
     "data": {
      "text/plain": [
       "<module 'preprocessing.preprocessors' from '/Users/hongyangyang/Documents/GitHub/DRL-Stock-Trading-PPO-A2C-DDPG-ICAIF/preprocessing/preprocessors.py'>"
      ]
     },
     "execution_count": 462,
     "metadata": {},
     "output_type": "execute_result"
    }
   ],
   "source": [
    "import preprocessing.preprocessors\n",
    "from importlib import reload\n",
    "\n",
    "reload(preprocessing.preprocessors)"
   ]
  },
  {
   "cell_type": "code",
   "execution_count": null,
   "metadata": {},
   "outputs": [],
   "source": [
    "test.datadate.unique()[i-21])"
   ]
  },
  {
   "cell_type": "code",
   "execution_count": 461,
   "metadata": {},
   "outputs": [
    {
     "data": {
      "text/plain": [
       "20200406"
      ]
     },
     "execution_count": 461,
     "metadata": {},
     "output_type": "execute_result"
    }
   ],
   "source": [
    "test.datadate.unique()[i-21]"
   ]
  },
  {
   "cell_type": "code",
   "execution_count": 465,
   "metadata": {},
   "outputs": [
    {
     "data": {
      "text/plain": [
       "20200506"
      ]
     },
     "execution_count": 465,
     "metadata": {},
     "output_type": "execute_result"
    }
   ],
   "source": [
    "test.datadate.unique()[i]"
   ]
  },
  {
   "cell_type": "code",
   "execution_count": 468,
   "metadata": {},
   "outputs": [
    {
     "data": {
      "text/plain": [
       "21.0"
      ]
     },
     "execution_count": 468,
     "metadata": {},
     "output_type": "execute_result"
    }
   ],
   "source": [
    "630/30"
   ]
  },
  {
   "cell_type": "code",
   "execution_count": 470,
   "metadata": {},
   "outputs": [
    {
     "data": {
      "text/plain": [
       "20200416"
      ]
     },
     "execution_count": 470,
     "metadata": {},
     "output_type": "execute_result"
    }
   ],
   "source": [
    "test.datadate.unique()[1078]"
   ]
  },
  {
   "cell_type": "code",
   "execution_count": 475,
   "metadata": {},
   "outputs": [
    {
     "data": {
      "text/plain": [
       "21.0"
      ]
     },
     "execution_count": 475,
     "metadata": {},
     "output_type": "execute_result"
    }
   ],
   "source": [
    "630/30"
   ]
  },
  {
   "cell_type": "code",
   "execution_count": 474,
   "metadata": {},
   "outputs": [
    {
     "data": {
      "text/html": [
       "<div>\n",
       "<style scoped>\n",
       "    .dataframe tbody tr th:only-of-type {\n",
       "        vertical-align: middle;\n",
       "    }\n",
       "\n",
       "    .dataframe tbody tr th {\n",
       "        vertical-align: top;\n",
       "    }\n",
       "\n",
       "    .dataframe thead th {\n",
       "        text-align: right;\n",
       "    }\n",
       "</style>\n",
       "<table border=\"1\" class=\"dataframe\">\n",
       "  <thead>\n",
       "    <tr style=\"text-align: right;\">\n",
       "      <th></th>\n",
       "      <th>datadate</th>\n",
       "      <th>tic</th>\n",
       "      <th>adjcp</th>\n",
       "      <th>open</th>\n",
       "      <th>high</th>\n",
       "      <th>low</th>\n",
       "      <th>volume</th>\n",
       "      <th>macd</th>\n",
       "      <th>rsi</th>\n",
       "      <th>cci</th>\n",
       "      <th>adx</th>\n",
       "      <th>turbulence</th>\n",
       "    </tr>\n",
       "  </thead>\n",
       "  <tbody>\n",
       "    <tr>\n",
       "      <th>0</th>\n",
       "      <td>20200406</td>\n",
       "      <td>AAPL</td>\n",
       "      <td>262.47</td>\n",
       "      <td>250.90</td>\n",
       "      <td>263.110</td>\n",
       "      <td>249.38</td>\n",
       "      <td>50197850.0</td>\n",
       "      <td>-9.545311</td>\n",
       "      <td>47.907771</td>\n",
       "      <td>-16.732751</td>\n",
       "      <td>5.097908</td>\n",
       "      <td>249.628478</td>\n",
       "    </tr>\n",
       "    <tr>\n",
       "      <th>0</th>\n",
       "      <td>20200406</td>\n",
       "      <td>AXP</td>\n",
       "      <td>83.87</td>\n",
       "      <td>80.22</td>\n",
       "      <td>84.250</td>\n",
       "      <td>78.74</td>\n",
       "      <td>11249740.0</td>\n",
       "      <td>-7.999501</td>\n",
       "      <td>42.198024</td>\n",
       "      <td>-57.925877</td>\n",
       "      <td>11.828544</td>\n",
       "      <td>249.628478</td>\n",
       "    </tr>\n",
       "    <tr>\n",
       "      <th>0</th>\n",
       "      <td>20200406</td>\n",
       "      <td>BA</td>\n",
       "      <td>148.77</td>\n",
       "      <td>133.70</td>\n",
       "      <td>149.690</td>\n",
       "      <td>129.21</td>\n",
       "      <td>50520990.0</td>\n",
       "      <td>-30.459695</td>\n",
       "      <td>37.734186</td>\n",
       "      <td>-48.733986</td>\n",
       "      <td>20.595825</td>\n",
       "      <td>249.628478</td>\n",
       "    </tr>\n",
       "    <tr>\n",
       "      <th>0</th>\n",
       "      <td>20200406</td>\n",
       "      <td>CAT</td>\n",
       "      <td>120.43</td>\n",
       "      <td>120.04</td>\n",
       "      <td>121.730</td>\n",
       "      <td>118.13</td>\n",
       "      <td>5768764.0</td>\n",
       "      <td>-0.964610</td>\n",
       "      <td>49.900670</td>\n",
       "      <td>60.422207</td>\n",
       "      <td>20.883746</td>\n",
       "      <td>249.628478</td>\n",
       "    </tr>\n",
       "    <tr>\n",
       "      <th>0</th>\n",
       "      <td>20200406</td>\n",
       "      <td>CSCO</td>\n",
       "      <td>41.43</td>\n",
       "      <td>40.46</td>\n",
       "      <td>41.680</td>\n",
       "      <td>39.78</td>\n",
       "      <td>31575360.0</td>\n",
       "      <td>-0.377541</td>\n",
       "      <td>49.574933</td>\n",
       "      <td>86.321301</td>\n",
       "      <td>12.308247</td>\n",
       "      <td>249.628478</td>\n",
       "    </tr>\n",
       "    <tr>\n",
       "      <th>...</th>\n",
       "      <td>...</td>\n",
       "      <td>...</td>\n",
       "      <td>...</td>\n",
       "      <td>...</td>\n",
       "      <td>...</td>\n",
       "      <td>...</td>\n",
       "      <td>...</td>\n",
       "      <td>...</td>\n",
       "      <td>...</td>\n",
       "      <td>...</td>\n",
       "      <td>...</td>\n",
       "      <td>...</td>\n",
       "    </tr>\n",
       "    <tr>\n",
       "      <th>20</th>\n",
       "      <td>20200505</td>\n",
       "      <td>V</td>\n",
       "      <td>178.44</td>\n",
       "      <td>179.09</td>\n",
       "      <td>181.102</td>\n",
       "      <td>178.26</td>\n",
       "      <td>13511410.0</td>\n",
       "      <td>2.455107</td>\n",
       "      <td>51.463429</td>\n",
       "      <td>133.573488</td>\n",
       "      <td>10.794552</td>\n",
       "      <td>157.548192</td>\n",
       "    </tr>\n",
       "    <tr>\n",
       "      <th>20</th>\n",
       "      <td>20200505</td>\n",
       "      <td>VZ</td>\n",
       "      <td>56.51</td>\n",
       "      <td>56.00</td>\n",
       "      <td>56.940</td>\n",
       "      <td>56.00</td>\n",
       "      <td>10900880.0</td>\n",
       "      <td>0.373300</td>\n",
       "      <td>49.560805</td>\n",
       "      <td>14.284625</td>\n",
       "      <td>12.687348</td>\n",
       "      <td>157.548192</td>\n",
       "    </tr>\n",
       "    <tr>\n",
       "      <th>20</th>\n",
       "      <td>20200505</td>\n",
       "      <td>WBA</td>\n",
       "      <td>42.02</td>\n",
       "      <td>43.50</td>\n",
       "      <td>43.530</td>\n",
       "      <td>41.86</td>\n",
       "      <td>7714833.0</td>\n",
       "      <td>-0.674994</td>\n",
       "      <td>44.468415</td>\n",
       "      <td>-69.685289</td>\n",
       "      <td>6.092230</td>\n",
       "      <td>157.548192</td>\n",
       "    </tr>\n",
       "    <tr>\n",
       "      <th>20</th>\n",
       "      <td>20200505</td>\n",
       "      <td>WMT</td>\n",
       "      <td>124.73</td>\n",
       "      <td>123.80</td>\n",
       "      <td>125.260</td>\n",
       "      <td>123.26</td>\n",
       "      <td>6443830.0</td>\n",
       "      <td>1.260425</td>\n",
       "      <td>52.790571</td>\n",
       "      <td>20.922383</td>\n",
       "      <td>4.124042</td>\n",
       "      <td>157.548192</td>\n",
       "    </tr>\n",
       "    <tr>\n",
       "      <th>20</th>\n",
       "      <td>20200505</td>\n",
       "      <td>XOM</td>\n",
       "      <td>44.83</td>\n",
       "      <td>46.26</td>\n",
       "      <td>47.150</td>\n",
       "      <td>44.66</td>\n",
       "      <td>29244100.0</td>\n",
       "      <td>0.825603</td>\n",
       "      <td>48.143771</td>\n",
       "      <td>105.255981</td>\n",
       "      <td>14.805447</td>\n",
       "      <td>157.548192</td>\n",
       "    </tr>\n",
       "  </tbody>\n",
       "</table>\n",
       "<p>630 rows × 12 columns</p>\n",
       "</div>"
      ],
      "text/plain": [
       "    datadate   tic   adjcp    open     high     low      volume       macd  \\\n",
       "0   20200406  AAPL  262.47  250.90  263.110  249.38  50197850.0  -9.545311   \n",
       "0   20200406   AXP   83.87   80.22   84.250   78.74  11249740.0  -7.999501   \n",
       "0   20200406    BA  148.77  133.70  149.690  129.21  50520990.0 -30.459695   \n",
       "0   20200406   CAT  120.43  120.04  121.730  118.13   5768764.0  -0.964610   \n",
       "0   20200406  CSCO   41.43   40.46   41.680   39.78  31575360.0  -0.377541   \n",
       "..       ...   ...     ...     ...      ...     ...         ...        ...   \n",
       "20  20200505     V  178.44  179.09  181.102  178.26  13511410.0   2.455107   \n",
       "20  20200505    VZ   56.51   56.00   56.940   56.00  10900880.0   0.373300   \n",
       "20  20200505   WBA   42.02   43.50   43.530   41.86   7714833.0  -0.674994   \n",
       "20  20200505   WMT  124.73  123.80  125.260  123.26   6443830.0   1.260425   \n",
       "20  20200505   XOM   44.83   46.26   47.150   44.66  29244100.0   0.825603   \n",
       "\n",
       "          rsi         cci        adx  turbulence  \n",
       "0   47.907771  -16.732751   5.097908  249.628478  \n",
       "0   42.198024  -57.925877  11.828544  249.628478  \n",
       "0   37.734186  -48.733986  20.595825  249.628478  \n",
       "0   49.900670   60.422207  20.883746  249.628478  \n",
       "0   49.574933   86.321301  12.308247  249.628478  \n",
       "..        ...         ...        ...         ...  \n",
       "20  51.463429  133.573488  10.794552  157.548192  \n",
       "20  49.560805   14.284625  12.687348  157.548192  \n",
       "20  44.468415  -69.685289   6.092230  157.548192  \n",
       "20  52.790571   20.922383   4.124042  157.548192  \n",
       "20  48.143771  105.255981  14.805447  157.548192  \n",
       "\n",
       "[630 rows x 12 columns]"
      ]
     },
     "execution_count": 474,
     "metadata": {},
     "output_type": "execute_result"
    }
   ],
   "source": [
    "data_split(df, start=test.datadate.unique()[i-21], end=test.datadate.unique()[i])"
   ]
  },
  {
   "cell_type": "code",
   "execution_count": 164,
   "metadata": {},
   "outputs": [],
   "source": [
    "test_trade = data_split(df, start=20160000, end=20200710)"
   ]
  },
  {
   "cell_type": "code",
   "execution_count": 165,
   "metadata": {},
   "outputs": [],
   "source": [
    "unique_trading_date = test_trade.datadate.unique()"
   ]
  },
  {
   "cell_type": "code",
   "execution_count": 166,
   "metadata": {},
   "outputs": [
    {
     "data": {
      "text/plain": [
       "1137"
      ]
     },
     "execution_count": 166,
     "metadata": {},
     "output_type": "execute_result"
    }
   ],
   "source": [
    "len(unique_trading_date)"
   ]
  },
  {
   "cell_type": "code",
   "execution_count": 159,
   "metadata": {},
   "outputs": [],
   "source": [
    "import env.EnvMultipleStock_train\n",
    "from importlib import reload\n",
    "\n",
    "reload(env.EnvMultipleStock_train)\n",
    "from env.EnvMultipleStock_train import StockEnvTrain\n",
    "## set up train & test environment"
   ]
  },
  {
   "cell_type": "code",
   "execution_count": 160,
   "metadata": {},
   "outputs": [],
   "source": [
    "import env.EnvMultipleStock_trade\n",
    "from importlib import reload\n",
    "\n",
    "reload(env.EnvMultipleStock_trade)\n",
    "from env.EnvMultipleStock_trade import StockEnvTrade"
   ]
  },
  {
   "cell_type": "code",
   "execution_count": 500,
   "metadata": {},
   "outputs": [],
   "source": [
    "import time"
   ]
  },
  {
   "cell_type": "code",
   "execution_count": 49,
   "metadata": {},
   "outputs": [
    {
     "data": {
      "text/plain": [
       "2.244047619047619"
      ]
     },
     "execution_count": 49,
     "metadata": {},
     "output_type": "execute_result"
    }
   ],
   "source": [
    "1131/252/2"
   ]
  },
  {
   "cell_type": "code",
   "execution_count": 158,
   "metadata": {},
   "outputs": [
    {
     "data": {
      "text/plain": [
       "18.047619047619047"
      ]
     },
     "execution_count": 158,
     "metadata": {},
     "output_type": "execute_result"
    }
   ],
   "source": [
    "1137/63"
   ]
  },
  {
   "cell_type": "code",
   "execution_count": 118,
   "metadata": {},
   "outputs": [
    {
     "data": {
      "text/plain": [
       "63"
      ]
     },
     "execution_count": 118,
     "metadata": {},
     "output_type": "execute_result"
    }
   ],
   "source": [
    "21*3"
   ]
  },
  {
   "cell_type": "code",
   "execution_count": 719,
   "metadata": {},
   "outputs": [
    {
     "data": {
      "text/plain": [
       "1260"
      ]
     },
     "execution_count": 719,
     "metadata": {},
     "output_type": "execute_result"
    }
   ],
   "source": [
    "252*5"
   ]
  },
  {
   "cell_type": "code",
   "execution_count": 152,
   "metadata": {},
   "outputs": [],
   "source": [
    "df_trade_date = pd.DataFrame({'datadate':unique_trading_date})"
   ]
  },
  {
   "cell_type": "code",
   "execution_count": 167,
   "metadata": {},
   "outputs": [
    {
     "data": {
      "text/plain": [
       "(1137, 1)"
      ]
     },
     "execution_count": 167,
     "metadata": {},
     "output_type": "execute_result"
    }
   ],
   "source": [
    "df_trade_date.shape"
   ]
  },
  {
   "cell_type": "code",
   "execution_count": 168,
   "metadata": {},
   "outputs": [],
   "source": [
    "df_trade_date.to_csv('df_trade_date.csv',index=False)"
   ]
  },
  {
   "cell_type": "code",
   "execution_count": 169,
   "metadata": {},
   "outputs": [],
   "source": [
    "def get_sharpe():\n",
    "    df_total_value=pd.read_csv('account_value_train.csv',index_col=0)\n",
    "    df_total_value.columns = ['account_value_train']\n",
    "    df_total_value['daily_return']=df_total_value.pct_change(1)\n",
    "    sharpe = (252**0.5)*df_total_value['daily_return'].mean()/ \\\n",
    "    df_total_value['daily_return'].std()\n",
    "    return sharpe"
   ]
  },
  {
   "cell_type": "code",
   "execution_count": 170,
   "metadata": {},
   "outputs": [
    {
     "data": {
      "text/plain": [
       "20200406"
      ]
     },
     "execution_count": 170,
     "metadata": {},
     "output_type": "execute_result"
    }
   ],
   "source": [
    "unique_trading_date[i-trading_window]"
   ]
  },
  {
   "cell_type": "code",
   "execution_count": 171,
   "metadata": {},
   "outputs": [
    {
     "data": {
      "text/plain": [
       "20191211"
      ]
     },
     "execution_count": 171,
     "metadata": {},
     "output_type": "execute_result"
    }
   ],
   "source": [
    "unique_trading_date[992]"
   ]
  },
  {
   "cell_type": "code",
   "execution_count": null,
   "metadata": {},
   "outputs": [],
   "source": []
  },
  {
   "cell_type": "code",
   "execution_count": null,
   "metadata": {},
   "outputs": [],
   "source": []
  },
  {
   "cell_type": "code",
   "execution_count": 172,
   "metadata": {
    "scrolled": true
   },
   "outputs": [
    {
     "name": "stdout",
     "output_type": "stream",
     "text": [
      "======Model training from:  20090000 to  20160104\n",
      "Training time (A2C):  0.5807423988978068  minutes\n",
      "======A2C Done========\n",
      "Training time (PPO):  2.5049843509991963  minutes\n",
      "======PPO Done========\n",
      "Training time (DDPG):  0.8766869187355042  minutes\n",
      "======DDPG Done========\n",
      "++++++A2C++++++++\n",
      "======Trading from:  20160104 to  20160405\n",
      "previous_total_asset:1000000\n",
      "end_total_asset:1058105.0776986035\n",
      "total_reward:58105.077698603505\n",
      "total_cost:  5760.506993724868\n",
      "total trades:  1382\n",
      "Sharpe:  2.015253179691253\n",
      "========================\n",
      "======Model training from:  20090000 to  20160405\n",
      "Training time (A2C):  0.5299220005671184  minutes\n",
      "======A2C Done========\n",
      "Training time (PPO):  2.5208224177360536  minutes\n",
      "======PPO Done========\n",
      "Training time (DDPG):  0.8570411006609598  minutes\n",
      "======DDPG Done========\n",
      "++++++A2C++++++++\n",
      "======Trading from:  20160405 to  20160705\n",
      "previous_total_asset:1058105.0776986035\n",
      "end_total_asset:1065699.6861713254\n",
      "total_reward:7594.608472721884\n",
      "total_cost:  5757.196520534025\n",
      "total trades:  1585\n",
      "Sharpe:  0.20493804781238797\n",
      "========================\n",
      "======Model training from:  20090000 to  20160705\n",
      "Training time (A2C):  0.5179052631060282  minutes\n",
      "======A2C Done========\n",
      "Training time (PPO):  2.4838873306910196  minutes\n",
      "======PPO Done========\n",
      "Training time (DDPG):  0.8486128330230713  minutes\n",
      "======DDPG Done========\n",
      "++++++PPO++++++++\n",
      "======Trading from:  20160705 to  20161003\n",
      "previous_total_asset:1065699.6861713254\n",
      "end_total_asset:1063209.493342453\n",
      "total_reward:-2490.192828872474\n",
      "total_cost:  7560.625221852691\n",
      "total trades:  1707\n",
      "Sharpe:  -0.03198189682711738\n",
      "========================\n",
      "======Model training from:  20090000 to  20161003\n",
      "Training time (A2C):  0.5386886477470398  minutes\n",
      "======A2C Done========\n",
      "Training time (PPO):  2.4782623489697775  minutes\n",
      "======PPO Done========\n",
      "Training time (DDPG):  0.8482112288475037  minutes\n",
      "======DDPG Done========\n",
      "++++++DDPG++++++++\n",
      "======Trading from:  20161003 to  20170103\n",
      "previous_total_asset:1063209.493342453\n",
      "end_total_asset:1095147.8756804287\n",
      "total_reward:31938.38233797578\n",
      "total_cost:  887.9830676218347\n",
      "total trades:  906\n",
      "Sharpe:  1.0431100923923438\n",
      "========================\n",
      "======Model training from:  20090000 to  20170103\n",
      "Training time (A2C):  0.5278962969779968  minutes\n",
      "======A2C Done========\n",
      "Training time (PPO):  2.4430116136868794  minutes\n",
      "======PPO Done========\n",
      "Training time (DDPG):  0.8501724362373352  minutes\n",
      "======DDPG Done========\n",
      "++++++PPO++++++++\n",
      "======Trading from:  20170103 to  20170404\n",
      "previous_total_asset:1095147.8756804287\n",
      "end_total_asset:1124989.895805603\n",
      "total_reward:29842.020125174196\n",
      "total_cost:  7764.364187704966\n",
      "total trades:  1673\n",
      "Sharpe:  1.2989922720269726\n",
      "========================\n",
      "======Model training from:  20090000 to  20170404\n",
      "Training time (A2C):  0.5253180503845215  minutes\n",
      "======A2C Done========\n",
      "Training time (PPO):  2.629619097709656  minutes\n",
      "======PPO Done========\n",
      "Training time (DDPG):  0.8558674971262614  minutes\n",
      "======DDPG Done========\n",
      "++++++DDPG++++++++\n",
      "======Trading from:  20170404 to  20170705\n",
      "previous_total_asset:1124989.895805603\n",
      "end_total_asset:1152220.281812543\n",
      "total_reward:27230.386006940156\n",
      "total_cost:  1379.8764322095844\n",
      "total trades:  1147\n",
      "Sharpe:  0.9790986764966264\n",
      "========================\n",
      "======Model training from:  20090000 to  20170705\n",
      "Training time (A2C):  0.5077031493186951  minutes\n",
      "======A2C Done========\n",
      "Training time (PPO):  2.407127050558726  minutes\n",
      "======PPO Done========\n",
      "Training time (DDPG):  0.8163747231165568  minutes\n",
      "======DDPG Done========\n",
      "++++++DDPG++++++++\n",
      "======Trading from:  20170705 to  20171003\n",
      "previous_total_asset:1152220.281812543\n",
      "end_total_asset:1213690.7665044903\n",
      "total_reward:61470.48469194723\n",
      "total_cost:  915.7199335640353\n",
      "total trades:  646\n",
      "Sharpe:  1.6275476646727516\n",
      "========================\n",
      "======Model training from:  20090000 to  20171003\n",
      "Training time (A2C):  0.5111498951911926  minutes\n",
      "======A2C Done========\n",
      "Training time (PPO):  2.396471683184306  minutes\n",
      "======PPO Done========\n",
      "Training time (DDPG):  0.8225581010182699  minutes\n",
      "======DDPG Done========\n",
      "++++++DDPG++++++++\n",
      "======Trading from:  20171003 to  20180103\n",
      "previous_total_asset:1213690.7665044903\n",
      "end_total_asset:1330001.7683982467\n",
      "total_reward:116311.00189375645\n",
      "total_cost:  1245.065292800084\n",
      "total trades:  892\n",
      "Sharpe:  3.5753337635364315\n",
      "========================\n",
      "======Model training from:  20090000 to  20180103\n",
      "Training time (A2C):  0.5244114836057027  minutes\n",
      "======A2C Done========\n",
      "Training time (PPO):  2.3985859513282777  minutes\n",
      "======PPO Done========\n",
      "Training time (DDPG):  0.8355081796646118  minutes\n",
      "======DDPG Done========\n",
      "++++++A2C++++++++\n",
      "======Trading from:  20180103 to  20180405\n",
      "previous_total_asset:1330001.7683982467\n",
      "end_total_asset:1357617.1662912846\n",
      "total_reward:27615.39789303788\n",
      "total_cost:  7295.461912225557\n",
      "total trades:  1204\n",
      "Sharpe:  0.46503768428912146\n",
      "========================\n",
      "======Model training from:  20090000 to  20180405\n",
      "Training time (A2C):  0.5123958190282186  minutes\n",
      "======A2C Done========\n",
      "Training time (PPO):  2.3976356546084086  minutes\n",
      "======PPO Done========\n",
      "Training time (DDPG):  0.8231591145197551  minutes\n",
      "======DDPG Done========\n",
      "++++++PPO++++++++\n",
      "======Trading from:  20180405 to  20180705\n",
      "previous_total_asset:1357617.1662912846\n",
      "end_total_asset:1333088.2716101613\n",
      "total_reward:-24528.894681123318\n",
      "total_cost:  10024.534100036022\n",
      "total trades:  1608\n",
      "Sharpe:  -0.44342226401774837\n",
      "========================\n",
      "======Model training from:  20090000 to  20180705\n",
      "Training time (A2C):  0.5187473972638448  minutes\n",
      "======A2C Done========\n",
      "Training time (PPO):  2.420227833588918  minutes\n",
      "======PPO Done========\n",
      "Training time (DDPG):  0.8392765323321024  minutes\n",
      "======DDPG Done========\n",
      "++++++A2C++++++++\n",
      "======Trading from:  20180705 to  20181003\n",
      "previous_total_asset:1333088.2716101613\n",
      "end_total_asset:1427335.0736874093\n",
      "total_reward:94246.802077248\n",
      "total_cost:  6594.829440973996\n",
      "total trades:  1080\n",
      "Sharpe:  2.9617736976267874\n",
      "========================\n",
      "======Model training from:  20090000 to  20181003\n",
      "Training time (A2C):  0.5213300148646037  minutes\n",
      "======A2C Done========\n",
      "Training time (PPO):  2.4153151830037434  minutes\n",
      "======PPO Done========\n",
      "Training time (DDPG):  0.8544757048288981  minutes\n",
      "======DDPG Done========\n",
      "++++++DDPG++++++++\n",
      "======Trading from:  20181003 to  20190104\n",
      "previous_total_asset:1427335.0736874093\n",
      "end_total_asset:1287554.2408351738\n",
      "total_reward:-139780.83285223553\n",
      "total_cost:  1198.9327284292983\n",
      "total trades:  186\n",
      "Sharpe:  -1.187847531634368\n",
      "========================\n",
      "======Model training from:  20090000 to  20190104\n",
      "Training time (A2C):  0.5099413474400838  minutes\n",
      "======A2C Done========\n",
      "Training time (PPO):  2.4415661811828615  minutes\n",
      "======PPO Done========\n",
      "Training time (DDPG):  0.8558790008227031  minutes\n",
      "======DDPG Done========\n",
      "++++++DDPG++++++++\n",
      "======Trading from:  20190104 to  20190405\n",
      "previous_total_asset:1287554.2408351738\n",
      "end_total_asset:1410728.9446842428\n",
      "total_reward:123174.70384906908\n",
      "total_cost:  1214.5170970732522\n",
      "total trades:  179\n",
      "Sharpe:  1.7430840801401062\n",
      "========================\n",
      "======Model training from:  20090000 to  20190405\n",
      "Training time (A2C):  0.5413162549336751  minutes\n",
      "======A2C Done========\n",
      "Training time (PPO):  2.464343520005544  minutes\n",
      "======PPO Done========\n",
      "Training time (DDPG):  0.8550268530845642  minutes\n",
      "======DDPG Done========\n",
      "++++++DDPG++++++++\n",
      "======Trading from:  20190405 to  20190708\n",
      "previous_total_asset:1410728.9446842428\n",
      "end_total_asset:1464005.9038478308\n",
      "total_reward:53276.959163588006\n",
      "total_cost:  757.0673595174178\n",
      "total trades:  138\n",
      "Sharpe:  1.2921491013530804\n",
      "========================\n",
      "======Model training from:  20090000 to  20190708\n",
      "Training time (A2C):  0.5305310964584351  minutes\n",
      "======A2C Done========\n",
      "Training time (PPO):  2.5072545488675435  minutes\n",
      "======PPO Done========\n",
      "Training time (DDPG):  0.8759799838066101  minutes\n",
      "======DDPG Done========\n",
      "++++++DDPG++++++++\n",
      "======Trading from:  20190708 to  20191004\n",
      "previous_total_asset:1464005.9038478308\n",
      "end_total_asset:1471137.9724289246\n",
      "total_reward:7132.068581093801\n",
      "total_cost:  679.1767002571106\n",
      "total trades:  359\n",
      "Sharpe:  0.14283237682991948\n",
      "========================\n",
      "======Model training from:  20090000 to  20191004\n",
      "Training time (A2C):  0.5334062695503234  minutes\n",
      "======A2C Done========\n"
     ]
    },
    {
     "name": "stdout",
     "output_type": "stream",
     "text": [
      "Training time (PPO):  2.512015151977539  minutes\n",
      "======PPO Done========\n",
      "Training time (DDPG):  0.860496997833252  minutes\n",
      "======DDPG Done========\n",
      "++++++A2C++++++++\n",
      "======Trading from:  20191004 to  20200106\n",
      "previous_total_asset:1471137.9724289246\n",
      "end_total_asset:1497422.0641956767\n",
      "total_reward:26284.09176675207\n",
      "total_cost:  167.8045816194535\n",
      "total trades:  47\n",
      "Sharpe:  1.4658255719082753\n",
      "========================\n",
      "======Model training from:  20090000 to  20200106\n",
      "Training time (A2C):  0.5400239825248718  minutes\n",
      "======A2C Done========\n",
      "Training time (PPO):  2.4975687344868978  minutes\n",
      "======PPO Done========\n",
      "Training time (DDPG):  0.8678255478541056  minutes\n",
      "======DDPG Done========\n",
      "++++++DDPG++++++++\n",
      "======Trading from:  20200106 to  20200406\n",
      "previous_total_asset:1497422.0641956767\n",
      "end_total_asset:1401054.2903097516\n",
      "total_reward:-96367.77388592507\n",
      "total_cost:  351.77399899291987\n",
      "total trades:  26\n",
      "Sharpe:  -1.5651214596852303\n",
      "========================\n",
      "======Model training from:  20090000 to  20200406\n",
      "Training time (A2C):  0.5463764468828837  minutes\n",
      "======A2C Done========\n",
      "Training time (PPO):  2.5248722513516744  minutes\n",
      "======PPO Done========\n",
      "Training time (DDPG):  0.8564066131909688  minutes\n",
      "======DDPG Done========\n",
      "++++++A2C++++++++\n",
      "======Trading from:  20200406 to  20200707\n",
      "previous_total_asset:1401054.2903097516\n",
      "end_total_asset:1429189.7405758486\n",
      "total_reward:28135.450266096974\n",
      "total_cost:  375.82915478445057\n",
      "total trades:  101\n",
      "Sharpe:  1.972977420460354\n",
      "========================\n",
      "It took:  1.1572950649261475\n"
     ]
    }
   ],
   "source": [
    "trading_window = 63\n",
    "# for ensemble model, it's necessary to feed the last state \n",
    "# of the previous model to the current model as the intial state\n",
    "last_state = []\n",
    "\n",
    "ppo_sharpe_list=[]\n",
    "ddpg_sharpe_list=[]\n",
    "a2c_sharpe_list=[]\n",
    "\n",
    "model_use=[]\n",
    "\n",
    "turbulence_threshold=140\n",
    "\n",
    "start = time.time()\n",
    "for i in range(trading_window, len(unique_trading_date) ,trading_window):\n",
    "    if i-trading_window==0:\n",
    "        initial=True\n",
    "    else:\n",
    "        initial=False\n",
    "    # 2020\n",
    "    if i >=1000:\n",
    "        turbulence_threshold=90\n",
    "    # 2018\n",
    "    elif (i >= 692):\n",
    "        turbulence_threshold=100 \n",
    "    # training env\n",
    "    train = data_split(df, start=20090000, end=unique_trading_date[i-trading_window])\n",
    "    env_train = DummyVecEnv([lambda: StockEnvTrain(train)])\n",
    "    # testing env\n",
    "    test = data_split(df, start=unique_trading_date[i-trading_window], end=unique_trading_date[i])\n",
    "    env_test = DummyVecEnv([lambda: StockEnvTrade(test, turbulence_threshold=turbulence_threshold,\n",
    "                                              initial=initial, \n",
    "                                              previous_state = last_state,\n",
    "                                              iteration =i)])\n",
    "    obs_test = env_test.reset()\n",
    "    \n",
    "    print(\"======Model training from: \", 20090000, \"to \", unique_trading_date[i-trading_window])\n",
    "    #print(\"training: \",len(data_split(df, start=20090000, end=test.datadate.unique()[i-trading_window]) ))\n",
    "    #print(\"==============A2C===========\")\n",
    "    #print(\"==============Model Training===========\")\n",
    "    model_a2c = train_A2C(env_train, model_name = \"A2C_10k_dow_{}\".format(i), timesteps=10000)\n",
    "    sharpe_a2c = get_sharpe()\n",
    "    print(\"======A2C Done========\")\n",
    "    model_ppo = train_PPO(env_train, model_name = \"PPO_50k_dow_{}\".format(i), timesteps=50000)\n",
    "    sharpe_ppo = get_sharpe()\n",
    "    print(\"======PPO Done========\")\n",
    "    model_ddpg = train_DDPG(env_train, model_name = \"DDPG_10k_dow_{}\".format(i), timesteps=10000)\n",
    "    sharpe_ddpg = get_sharpe()\n",
    "    print(\"======DDPG Done========\")\n",
    "    ppo_sharpe_list.append(sharpe_ppo)\n",
    "    a2c_sharpe_list.append(sharpe_a2c)\n",
    "    ddpg_sharpe_list.append(sharpe_ddpg)\n",
    "    if (sharpe_ppo>=sharpe_a2c) & (sharpe_ppo>=sharpe_ddpg):\n",
    "        print(\"++++++PPO++++++++\")\n",
    "        model_use.append('PPO')\n",
    "        model = model_ppo\n",
    "    elif (sharpe_a2c>sharpe_ppo) & (sharpe_a2c>sharpe_ddpg):\n",
    "        print(\"++++++A2C++++++++\")\n",
    "        model_use.append('A2C')\n",
    "\n",
    "        model = model_a2c\n",
    "    else:\n",
    "        print(\"++++++DDPG++++++++\")\n",
    "        model_use.append('DDPG')\n",
    "\n",
    "        model = model_ddpg\n",
    "    print(\"======Trading from: \", unique_trading_date[i-trading_window], \"to \", unique_trading_date[i])\n",
    "    \n",
    "    for k in range(len(test.datadate.unique())):\n",
    "        action, _states = model.predict(obs_test)\n",
    "        obs_test, rewards, dones, info = env_test.step(action)\n",
    "        #print(dones)\n",
    "        if k==(len(test.index.unique())-2):\n",
    "            #print(env_test.render())\n",
    "            last_state = env_test.render()\n",
    "    df_last_state = pd.DataFrame({'last_state':last_state})\n",
    "    df_last_state.to_csv('results/last_state_{}.csv'.format(i),index=False)\n",
    "    print(\"========================\")\n",
    "end = time.time()\n",
    "print(\"It took: \", (end-start)/3600)"
   ]
  },
  {
   "cell_type": "code",
   "execution_count": null,
   "metadata": {},
   "outputs": [],
   "source": [
    "df_sharpe = pd.DataFrame({'ppo_sharpe_list':ppo_sharpe_list,'a2c_sharpe_list':a2c_sharpe_list,\n",
    "                         'ddpg_sharpe_list':ddpg_sharpe_list})\n",
    "df_sharpe.to_csv('results/df_sharpe.csv',index=False)"
   ]
  },
  {
   "cell_type": "code",
   "execution_count": 128,
   "metadata": {
    "scrolled": true
   },
   "outputs": [
    {
     "data": {
      "text/plain": [
       "[0.7469643906447293,\n",
       " 0.9355224372603912,\n",
       " 0.6899272715926715,\n",
       " 0.8377277166406779,\n",
       " 0.8996760563571423,\n",
       " 1.0382354595582588,\n",
       " 0.7429043368712913,\n",
       " 0.7959145926648864,\n",
       " 0.6383284432064521,\n",
       " 0.9843124996386395,\n",
       " 0.5647549150246993,\n",
       " 0.7820062175852199,\n",
       " 0.9089109265184999,\n",
       " 0.4496491612519916,\n",
       " 0.7172259532617465,\n",
       " 0.7670773121668389,\n",
       " 0.8027669161157139,\n",
       " 0.5006233279249414]"
      ]
     },
     "execution_count": 128,
     "metadata": {},
     "output_type": "execute_result"
    }
   ],
   "source": [
    "ppo_sharpe_list"
   ]
  },
  {
   "cell_type": "code",
   "execution_count": 127,
   "metadata": {},
   "outputs": [
    {
     "data": {
      "text/plain": [
       "[0.7332129889082264,\n",
       " 0.9692281867588696,\n",
       " 0.6678199959404205,\n",
       " 0.6570768090937754,\n",
       " 0.4530348832413517,\n",
       " 1.0188754578320853,\n",
       " 0.9520702543484014,\n",
       " 0.6702976573090335,\n",
       " 0.834327242350555,\n",
       " 0.9116566383523103,\n",
       " 1.0052945155899529,\n",
       " 0.9943638480275953,\n",
       " 0.8600900175772432,\n",
       " 1.0135860514242965,\n",
       " 0.7746869741668071,\n",
       " 0.7803021728012038,\n",
       " 0.7471777653723435,\n",
       " 0.6603650307431043]"
      ]
     },
     "execution_count": 127,
     "metadata": {},
     "output_type": "execute_result"
    }
   ],
   "source": [
    "a2c_sharpe_list"
   ]
  },
  {
   "cell_type": "code",
   "execution_count": 129,
   "metadata": {},
   "outputs": [
    {
     "data": {
      "text/plain": [
       "[0.8714677284174018,\n",
       " 0.9703150618786046,\n",
       " 0.7048075243115473,\n",
       " 0.39966451437885164,\n",
       " 0.7780789389328493,\n",
       " 0.8059759991212312,\n",
       " 0.7504916787201019,\n",
       " 0.9728668519816356,\n",
       " 0.8544720497044451,\n",
       " 0.840479446993908,\n",
       " 1.015132657391977,\n",
       " 0.7243557362802644,\n",
       " 0.944717689722333,\n",
       " 0.8792402696018022,\n",
       " 0.5924687867749044,\n",
       " 0.9780341347007347,\n",
       " 0.8556219612147418,\n",
       " 0.48380909782142484]"
      ]
     },
     "execution_count": 129,
     "metadata": {},
     "output_type": "execute_result"
    }
   ],
   "source": [
    "ddpg_sharpe_list"
   ]
  },
  {
   "cell_type": "code",
   "execution_count": null,
   "metadata": {},
   "outputs": [],
   "source": []
  },
  {
   "cell_type": "code",
   "execution_count": null,
   "metadata": {},
   "outputs": [],
   "source": [
    "#########test"
   ]
  },
  {
   "cell_type": "code",
   "execution_count": 96,
   "metadata": {},
   "outputs": [
    {
     "data": {
      "text/plain": [
       "0.8276357936440835"
      ]
     },
     "execution_count": 96,
     "metadata": {},
     "output_type": "execute_result"
    }
   ],
   "source": [
    "trading_window = 62\n",
    "#last_state = []\n",
    "\n",
    "#ppo_sharpe_list=[]\n",
    "#ddpg_sharpe_list=[]\n",
    "#a2c_sharpe_list=[]\n",
    "\n",
    "\n",
    "start = time.time()\n",
    "for i in range(trading_window, len(unique_trading_date) ,trading_window):\n",
    "    if i-trading_window==0:\n",
    "        initial=True\n",
    "    else:\n",
    "        initial=False\n",
    "    train = data_split(df, start=20090000, end=unique_trading_date[i-trading_window])\n",
    "    env_train = DummyVecEnv([lambda: StockEnvTrain(train)])\n",
    "    test = data_split(df, start=unique_trading_date[i-trading_window], end=unique_trading_date[i])\n",
    "    env_test = DummyVecEnv([lambda: StockEnvTrade(test, turbulence_threshold=140,\n",
    "                                              initial=initial, \n",
    "                                              previous_state = last_state,\n",
    "                                              iteration =i )])\n",
    "    obs_test = env_test.reset()\n",
    "    \n",
    "    print(\"======Model training from: \", 20090000, \"to \", unique_trading_date[i-trading_window])\n",
    "    #print(\"training: \",len(data_split(df, start=20090000, end=test.datadate.unique()[i-trading_window]) ))\n",
    "    #print(\"==============A2C===========\")\n",
    "    #print(\"==============Model Training===========\")\n",
    "    model_a2c = train_A2C(env_train, model_name = \"A2C_10k_dow_2\", timesteps=10000)\n",
    "    sharpe_a2c = get_sharpe()\n",
    "    print(\"======A2C Done========\")\n",
    "    model_ppo = train_PPO(env_train, model_name = \"PPO_50k_dow_2\", timesteps=150000)\n",
    "    sharpe_ppo = get_sharpe()\n",
    "    print(\"======PPO Done========\")\n",
    "    model_ddpg = train_DDPG(env_train, model_name = \"DDPG_10k_dow_2\", timesteps=10000)\n",
    "    sharpe_ddpg = get_sharpe()\n",
    "    print(\"======DDPG Done========\")\n",
    "    ppo_sharpe_list.append(sharpe_ppo)\n",
    "    a2c_sharpe_list.append(sharpe_a2c)\n",
    "    ddpg_sharpe_list.append(sharpe_ddpg)\n",
    "    if (sharpe_ppo>=sharpe_a2c) & (sharpe_ppo>=sharpe_ddpg):\n",
    "        print(\"++++++PPO++++++++\")\n",
    "        model = model_ppo\n",
    "    elif (sharpe_a2c>sharpe_ppo) & (sharpe_a2c>sharpe_ddpg):\n",
    "        print(\"++++++A2C++++++++\")\n",
    "        model = model_a2c\n",
    "    else:\n",
    "        print(\"++++++DDPG++++++++\")\n",
    "        model = model_ddpg\n",
    "    print(\"======Trading from: \", unique_trading_date[i-trading_window], \"to \", unique_trading_date[i])\n",
    "    \n",
    "    for i in range(len(test.datadate.unique())):\n",
    "        action, _states = model.predict(obs_test)\n",
    "        obs_test, rewards, dones, info = env_test.step(action)\n",
    "        #print(dones)\n",
    "        if i==(len(test.index.unique())-2):\n",
    "            #print(env_test.render())\n",
    "            last_state = env_test.render()\n",
    "    #print(\"trading: \", len(data_split(df, start=test.datadate.unique()[i-trading_window], end=test.datadate.unique()[i])))\n",
    "    print(\"========================\")\n",
    "end = time.time()\n",
    "print(\"It took: \", (end-start)/3600)"
   ]
  },
  {
   "cell_type": "code",
   "execution_count": 479,
   "metadata": {},
   "outputs": [
    {
     "data": {
      "text/plain": [
       "20160104"
      ]
     },
     "execution_count": 479,
     "metadata": {},
     "output_type": "execute_result"
    }
   ],
   "source": [
    "test.datadate.unique()[i-trading_window]"
   ]
  },
  {
   "cell_type": "code",
   "execution_count": 487,
   "metadata": {},
   "outputs": [],
   "source": [
    "end_total_asset = last_state[0]+ \\\n",
    "            sum(np.array(last_state[1:(30+1)])*np.array(last_state[(30+1):(30*2+1)]))"
   ]
  },
  {
   "cell_type": "code",
   "execution_count": 488,
   "metadata": {},
   "outputs": [
    {
     "data": {
      "text/plain": [
       "1069160.6924237618"
      ]
     },
     "execution_count": 488,
     "metadata": {},
     "output_type": "execute_result"
    }
   ],
   "source": [
    "end_total_asset"
   ]
  },
  {
   "cell_type": "code",
   "execution_count": 489,
   "metadata": {},
   "outputs": [
    {
     "data": {
      "text/plain": [
       "<bound method DummyVecEnv.render of <stable_baselines.common.vec_env.dummy_vec_env.DummyVecEnv object at 0x1a38ddc668>>"
      ]
     },
     "execution_count": 489,
     "metadata": {},
     "output_type": "execute_result"
    }
   ],
   "source": [
    "env_test.render"
   ]
  },
  {
   "cell_type": "code",
   "execution_count": 723,
   "metadata": {},
   "outputs": [
    {
     "data": {
      "text/plain": [
       "252"
      ]
     },
     "execution_count": 723,
     "metadata": {},
     "output_type": "execute_result"
    }
   ],
   "source": [
    "trading_window"
   ]
  },
  {
   "cell_type": "code",
   "execution_count": 727,
   "metadata": {},
   "outputs": [
    {
     "data": {
      "text/plain": [
       "1097"
      ]
     },
     "execution_count": 727,
     "metadata": {},
     "output_type": "execute_result"
    }
   ],
   "source": [
    "len(unique_trading_date)"
   ]
  },
  {
   "cell_type": "code",
   "execution_count": 729,
   "metadata": {},
   "outputs": [
    {
     "data": {
      "text/plain": [
       "168"
      ]
     },
     "execution_count": 729,
     "metadata": {},
     "output_type": "execute_result"
    }
   ],
   "source": [
    "5*253-1097"
   ]
  },
  {
   "cell_type": "code",
   "execution_count": 730,
   "metadata": {},
   "outputs": [],
   "source": [
    "make_full_year = 168"
   ]
  },
  {
   "cell_type": "code",
   "execution_count": null,
   "metadata": {},
   "outputs": [],
   "source": []
  },
  {
   "cell_type": "code",
   "execution_count": 731,
   "metadata": {},
   "outputs": [
    {
     "name": "stdout",
     "output_type": "stream",
     "text": [
      "2009 20160104\n",
      "20160104 20170103\n",
      "2009 20170103\n",
      "20170103 20180103\n",
      "2009 20180103\n",
      "20180103 20190104\n",
      "2009 20190104\n",
      "20190104 20200106\n",
      "2009 20200106\n"
     ]
    },
    {
     "ename": "IndexError",
     "evalue": "index 1260 is out of bounds for axis 0 with size 1097",
     "output_type": "error",
     "traceback": [
      "\u001b[0;31m---------------------------------------------------------------------------\u001b[0m",
      "\u001b[0;31mIndexError\u001b[0m                                Traceback (most recent call last)",
      "\u001b[0;32m<ipython-input-731-e35646ec9fc0>\u001b[0m in \u001b[0;36m<module>\u001b[0;34m\u001b[0m\n\u001b[1;32m      1\u001b[0m \u001b[0;32mfor\u001b[0m \u001b[0mi\u001b[0m \u001b[0;32min\u001b[0m \u001b[0mrange\u001b[0m\u001b[0;34m(\u001b[0m\u001b[0mtrading_window\u001b[0m\u001b[0;34m,\u001b[0m \u001b[0mlen\u001b[0m\u001b[0;34m(\u001b[0m\u001b[0munique_trading_date\u001b[0m\u001b[0;34m)\u001b[0m\u001b[0;34m+\u001b[0m\u001b[0mmake_full_year\u001b[0m\u001b[0;34m,\u001b[0m\u001b[0mtrading_window\u001b[0m\u001b[0;34m)\u001b[0m\u001b[0;34m:\u001b[0m\u001b[0;34m\u001b[0m\u001b[0;34m\u001b[0m\u001b[0m\n\u001b[1;32m      2\u001b[0m     \u001b[0mprint\u001b[0m\u001b[0;34m(\u001b[0m\u001b[0;36m2009\u001b[0m\u001b[0;34m,\u001b[0m \u001b[0munique_trading_date\u001b[0m\u001b[0;34m[\u001b[0m\u001b[0mi\u001b[0m\u001b[0;34m-\u001b[0m\u001b[0mtrading_window\u001b[0m\u001b[0;34m]\u001b[0m\u001b[0;34m)\u001b[0m\u001b[0;34m\u001b[0m\u001b[0;34m\u001b[0m\u001b[0m\n\u001b[0;32m----> 3\u001b[0;31m     \u001b[0mprint\u001b[0m\u001b[0;34m(\u001b[0m\u001b[0munique_trading_date\u001b[0m\u001b[0;34m[\u001b[0m\u001b[0mi\u001b[0m\u001b[0;34m-\u001b[0m\u001b[0mtrading_window\u001b[0m\u001b[0;34m]\u001b[0m\u001b[0;34m,\u001b[0m \u001b[0munique_trading_date\u001b[0m\u001b[0;34m[\u001b[0m\u001b[0mi\u001b[0m\u001b[0;34m]\u001b[0m\u001b[0;34m)\u001b[0m\u001b[0;34m\u001b[0m\u001b[0;34m\u001b[0m\u001b[0m\n\u001b[0m",
      "\u001b[0;31mIndexError\u001b[0m: index 1260 is out of bounds for axis 0 with size 1097"
     ]
    }
   ],
   "source": [
    "for i in range(trading_window, len(unique_trading_date)+make_full_year,trading_window):\n",
    "    print(2009, unique_trading_date[i-trading_window])\n",
    "    print(unique_trading_date[i-trading_window], unique_trading_date[i])"
   ]
  },
  {
   "cell_type": "code",
   "execution_count": 725,
   "metadata": {},
   "outputs": [
    {
     "data": {
      "text/plain": [
       "1008"
      ]
     },
     "execution_count": 725,
     "metadata": {},
     "output_type": "execute_result"
    }
   ],
   "source": [
    "i"
   ]
  },
  {
   "cell_type": "code",
   "execution_count": 726,
   "metadata": {},
   "outputs": [
    {
     "data": {
      "text/plain": [
       "20200106"
      ]
     },
     "execution_count": 726,
     "metadata": {},
     "output_type": "execute_result"
    }
   ],
   "source": [
    "unique_trading_date[i]"
   ]
  },
  {
   "cell_type": "code",
   "execution_count": null,
   "metadata": {},
   "outputs": [],
   "source": []
  }
 ],
 "metadata": {
  "kernelspec": {
   "display_name": "Python 3",
   "language": "python",
   "name": "python3"
  },
  "language_info": {
   "codemirror_mode": {
    "name": "ipython",
    "version": 3
   },
   "file_extension": ".py",
   "mimetype": "text/x-python",
   "name": "python",
   "nbconvert_exporter": "python",
   "pygments_lexer": "ipython3",
   "version": "3.6.10"
  }
 },
 "nbformat": 4,
 "nbformat_minor": 4
}
